{
  "cells": [
    {
      "cell_type": "code",
      "execution_count": null,
      "metadata": {
        "id": "UYPWWXJIyPI2"
      },
      "outputs": [],
      "source": [
        "# This Python 3 environment comes with many helpful analytics libraries installed\n",
        "# It is defined by the kaggle/python Docker image: https://github.com/kaggle/docker-python\n",
        "# For example, here's several helpful packages to load\n",
        "\n",
        "import numpy as np # linear algebra\n",
        "import pandas as pd # data processing, CSV file I/O (e.g. pd.read_csv)\n",
        "\n",
        "# Input data files are available in the read-only \"../input/\" directory\n",
        "# For example, running this (by clicking run or pressing Shift+Enter) will list all files under the input directory\n",
        "\n",
        "import os\n",
        "for dirname, _, filenames in os.walk('/kaggle/input'):\n",
        "    for filename in filenames:\n",
        "        print(os.path.join(dirname, filename))\n",
        "\n",
        "# You can write up to 20GB to the current directory (/kaggle/working/) that gets preserved as output when you create a version using \"Save & Run All\" \n",
        "# You can also write temporary files to /kaggle/temp/, but they won't be saved outside of the current session"
      ]
    },
    {
      "cell_type": "code",
      "execution_count": 2,
      "metadata": {
        "colab": {
          "base_uri": "https://localhost:8080/"
        },
        "id": "7dLXXT8HSvgm",
        "outputId": "ddb3a25f-8b0e-495f-c116-16c0a8ef64ab"
      },
      "outputs": [
        {
          "output_type": "stream",
          "name": "stdout",
          "text": [
            "Looking in indexes: https://pypi.org/simple, https://us-python.pkg.dev/colab-wheels/public/simple/\n",
            "Collecting datasets\n",
            "  Downloading datasets-2.12.0-py3-none-any.whl (474 kB)\n",
            "\u001b[?25l     \u001b[90m━━━━━━━━━━━━━━━━━━━━━━━━━━━━━━━━━━━━━━━━\u001b[0m \u001b[32m0.0/474.6 kB\u001b[0m \u001b[31m?\u001b[0m eta \u001b[36m-:--:--\u001b[0m\r\u001b[2K     \u001b[91m━━━━━━━━━━━━━━━━━━━━━━━━━━━━━━━━━━━━━\u001b[0m\u001b[91m╸\u001b[0m \u001b[32m471.0/474.6 kB\u001b[0m \u001b[31m18.0 MB/s\u001b[0m eta \u001b[36m0:00:01\u001b[0m\r\u001b[2K     \u001b[90m━━━━━━━━━━━━━━━━━━━━━━━━━━━━━━━━━━━━━━\u001b[0m \u001b[32m474.6/474.6 kB\u001b[0m \u001b[31m13.1 MB/s\u001b[0m eta \u001b[36m0:00:00\u001b[0m\n",
            "\u001b[?25hRequirement already satisfied: pandas in /usr/local/lib/python3.10/dist-packages (from datasets) (1.5.3)\n",
            "Requirement already satisfied: packaging in /usr/local/lib/python3.10/dist-packages (from datasets) (23.1)\n",
            "Collecting multiprocess\n",
            "  Downloading multiprocess-0.70.14-py310-none-any.whl (134 kB)\n",
            "\u001b[2K     \u001b[90m━━━━━━━━━━━━━━━━━━━━━━━━━━━━━━━━━━━━━━\u001b[0m \u001b[32m134.3/134.3 kB\u001b[0m \u001b[31m18.9 MB/s\u001b[0m eta \u001b[36m0:00:00\u001b[0m\n",
            "\u001b[?25hCollecting aiohttp\n",
            "  Downloading aiohttp-3.8.4-cp310-cp310-manylinux_2_17_x86_64.manylinux2014_x86_64.whl (1.0 MB)\n",
            "\u001b[2K     \u001b[90m━━━━━━━━━━━━━━━━━━━━━━━━━━━━━━━━━━━━━━━━\u001b[0m \u001b[32m1.0/1.0 MB\u001b[0m \u001b[31m64.4 MB/s\u001b[0m eta \u001b[36m0:00:00\u001b[0m\n",
            "\u001b[?25hRequirement already satisfied: fsspec[http]>=2021.11.1 in /usr/local/lib/python3.10/dist-packages (from datasets) (2023.4.0)\n",
            "Collecting huggingface-hub<1.0.0,>=0.11.0\n",
            "  Downloading huggingface_hub-0.14.1-py3-none-any.whl (224 kB)\n",
            "\u001b[2K     \u001b[90m━━━━━━━━━━━━━━━━━━━━━━━━━━━━━━━━━━━━━━\u001b[0m \u001b[32m224.5/224.5 kB\u001b[0m \u001b[31m28.5 MB/s\u001b[0m eta \u001b[36m0:00:00\u001b[0m\n",
            "\u001b[?25hRequirement already satisfied: requests>=2.19.0 in /usr/local/lib/python3.10/dist-packages (from datasets) (2.27.1)\n",
            "Collecting responses<0.19\n",
            "  Downloading responses-0.18.0-py3-none-any.whl (38 kB)\n",
            "Collecting dill<0.3.7,>=0.3.0\n",
            "  Downloading dill-0.3.6-py3-none-any.whl (110 kB)\n",
            "\u001b[2K     \u001b[90m━━━━━━━━━━━━━━━━━━━━━━━━━━━━━━━━━━━━━━\u001b[0m \u001b[32m110.5/110.5 kB\u001b[0m \u001b[31m14.0 MB/s\u001b[0m eta \u001b[36m0:00:00\u001b[0m\n",
            "\u001b[?25hRequirement already satisfied: pyarrow>=8.0.0 in /usr/local/lib/python3.10/dist-packages (from datasets) (9.0.0)\n",
            "Requirement already satisfied: numpy>=1.17 in /usr/local/lib/python3.10/dist-packages (from datasets) (1.22.4)\n",
            "Collecting xxhash\n",
            "  Downloading xxhash-3.2.0-cp310-cp310-manylinux_2_17_x86_64.manylinux2014_x86_64.whl (212 kB)\n",
            "\u001b[2K     \u001b[90m━━━━━━━━━━━━━━━━━━━━━━━━━━━━━━━━━━━━━━\u001b[0m \u001b[32m212.5/212.5 kB\u001b[0m \u001b[31m25.0 MB/s\u001b[0m eta \u001b[36m0:00:00\u001b[0m\n",
            "\u001b[?25hRequirement already satisfied: pyyaml>=5.1 in /usr/local/lib/python3.10/dist-packages (from datasets) (6.0)\n",
            "Requirement already satisfied: tqdm>=4.62.1 in /usr/local/lib/python3.10/dist-packages (from datasets) (4.65.0)\n",
            "Requirement already satisfied: attrs>=17.3.0 in /usr/local/lib/python3.10/dist-packages (from aiohttp->datasets) (23.1.0)\n",
            "Requirement already satisfied: charset-normalizer<4.0,>=2.0 in /usr/local/lib/python3.10/dist-packages (from aiohttp->datasets) (2.0.12)\n",
            "Collecting multidict<7.0,>=4.5\n",
            "  Downloading multidict-6.0.4-cp310-cp310-manylinux_2_17_x86_64.manylinux2014_x86_64.whl (114 kB)\n",
            "\u001b[2K     \u001b[90m━━━━━━━━━━━━━━━━━━━━━━━━━━━━━━━━━━━━━━\u001b[0m \u001b[32m114.5/114.5 kB\u001b[0m \u001b[31m14.3 MB/s\u001b[0m eta \u001b[36m0:00:00\u001b[0m\n",
            "\u001b[?25hCollecting frozenlist>=1.1.1\n",
            "  Downloading frozenlist-1.3.3-cp310-cp310-manylinux_2_5_x86_64.manylinux1_x86_64.manylinux_2_17_x86_64.manylinux2014_x86_64.whl (149 kB)\n",
            "\u001b[2K     \u001b[90m━━━━━━━━━━━━━━━━━━━━━━━━━━━━━━━━━━━━━━\u001b[0m \u001b[32m149.6/149.6 kB\u001b[0m \u001b[31m18.0 MB/s\u001b[0m eta \u001b[36m0:00:00\u001b[0m\n",
            "\u001b[?25hCollecting aiosignal>=1.1.2\n",
            "  Downloading aiosignal-1.3.1-py3-none-any.whl (7.6 kB)\n",
            "Collecting async-timeout<5.0,>=4.0.0a3\n",
            "  Downloading async_timeout-4.0.2-py3-none-any.whl (5.8 kB)\n",
            "Collecting yarl<2.0,>=1.0\n",
            "  Downloading yarl-1.9.2-cp310-cp310-manylinux_2_17_x86_64.manylinux2014_x86_64.whl (268 kB)\n",
            "\u001b[2K     \u001b[90m━━━━━━━━━━━━━━━━━━━━━━━━━━━━━━━━━━━━━━\u001b[0m \u001b[32m268.8/268.8 kB\u001b[0m \u001b[31m32.4 MB/s\u001b[0m eta \u001b[36m0:00:00\u001b[0m\n",
            "\u001b[?25hRequirement already satisfied: filelock in /usr/local/lib/python3.10/dist-packages (from huggingface-hub<1.0.0,>=0.11.0->datasets) (3.12.0)\n",
            "Requirement already satisfied: typing-extensions>=3.7.4.3 in /usr/local/lib/python3.10/dist-packages (from huggingface-hub<1.0.0,>=0.11.0->datasets) (4.5.0)\n",
            "Requirement already satisfied: certifi>=2017.4.17 in /usr/local/lib/python3.10/dist-packages (from requests>=2.19.0->datasets) (2022.12.7)\n",
            "Requirement already satisfied: idna<4,>=2.5 in /usr/local/lib/python3.10/dist-packages (from requests>=2.19.0->datasets) (3.4)\n",
            "Requirement already satisfied: urllib3<1.27,>=1.21.1 in /usr/local/lib/python3.10/dist-packages (from requests>=2.19.0->datasets) (1.26.15)\n",
            "Requirement already satisfied: python-dateutil>=2.8.1 in /usr/local/lib/python3.10/dist-packages (from pandas->datasets) (2.8.2)\n",
            "Requirement already satisfied: pytz>=2020.1 in /usr/local/lib/python3.10/dist-packages (from pandas->datasets) (2022.7.1)\n",
            "Requirement already satisfied: six>=1.5 in /usr/local/lib/python3.10/dist-packages (from python-dateutil>=2.8.1->pandas->datasets) (1.16.0)\n",
            "Installing collected packages: xxhash, multidict, frozenlist, dill, async-timeout, yarl, responses, multiprocess, huggingface-hub, aiosignal, aiohttp, datasets\n",
            "Successfully installed aiohttp-3.8.4 aiosignal-1.3.1 async-timeout-4.0.2 datasets-2.12.0 dill-0.3.6 frozenlist-1.3.3 huggingface-hub-0.14.1 multidict-6.0.4 multiprocess-0.70.14 responses-0.18.0 xxhash-3.2.0 yarl-1.9.2\n"
          ]
        }
      ],
      "source": [
        "pip install datasets"
      ]
    },
    {
      "cell_type": "code",
      "execution_count": 3,
      "metadata": {
        "colab": {
          "base_uri": "https://localhost:8080/"
        },
        "id": "dBr0HogMS7HD",
        "outputId": "3474022b-b8ff-4442-bbb4-c00ee3938ca5"
      },
      "outputs": [
        {
          "output_type": "stream",
          "name": "stdout",
          "text": [
            "Looking in indexes: https://pypi.org/simple, https://us-python.pkg.dev/colab-wheels/public/simple/\n",
            "Collecting transformers\n",
            "  Downloading transformers-4.28.1-py3-none-any.whl (7.0 MB)\n",
            "\u001b[2K     \u001b[90m━━━━━━━━━━━━━━━━━━━━━━━━━━━━━━━━━━━━━━━━\u001b[0m \u001b[32m7.0/7.0 MB\u001b[0m \u001b[31m76.4 MB/s\u001b[0m eta \u001b[36m0:00:00\u001b[0m\n",
            "\u001b[?25hRequirement already satisfied: huggingface-hub<1.0,>=0.11.0 in /usr/local/lib/python3.10/dist-packages (from transformers) (0.14.1)\n",
            "Requirement already satisfied: tqdm>=4.27 in /usr/local/lib/python3.10/dist-packages (from transformers) (4.65.0)\n",
            "Requirement already satisfied: regex!=2019.12.17 in /usr/local/lib/python3.10/dist-packages (from transformers) (2022.10.31)\n",
            "Requirement already satisfied: pyyaml>=5.1 in /usr/local/lib/python3.10/dist-packages (from transformers) (6.0)\n",
            "Requirement already satisfied: requests in /usr/local/lib/python3.10/dist-packages (from transformers) (2.27.1)\n",
            "Requirement already satisfied: filelock in /usr/local/lib/python3.10/dist-packages (from transformers) (3.12.0)\n",
            "Requirement already satisfied: packaging>=20.0 in /usr/local/lib/python3.10/dist-packages (from transformers) (23.1)\n",
            "Requirement already satisfied: numpy>=1.17 in /usr/local/lib/python3.10/dist-packages (from transformers) (1.22.4)\n",
            "Collecting tokenizers!=0.11.3,<0.14,>=0.11.1\n",
            "  Downloading tokenizers-0.13.3-cp310-cp310-manylinux_2_17_x86_64.manylinux2014_x86_64.whl (7.8 MB)\n",
            "\u001b[2K     \u001b[90m━━━━━━━━━━━━━━━━━━━━━━━━━━━━━━━━━━━━━━━━\u001b[0m \u001b[32m7.8/7.8 MB\u001b[0m \u001b[31m101.4 MB/s\u001b[0m eta \u001b[36m0:00:00\u001b[0m\n",
            "\u001b[?25hRequirement already satisfied: typing-extensions>=3.7.4.3 in /usr/local/lib/python3.10/dist-packages (from huggingface-hub<1.0,>=0.11.0->transformers) (4.5.0)\n",
            "Requirement already satisfied: fsspec in /usr/local/lib/python3.10/dist-packages (from huggingface-hub<1.0,>=0.11.0->transformers) (2023.4.0)\n",
            "Requirement already satisfied: urllib3<1.27,>=1.21.1 in /usr/local/lib/python3.10/dist-packages (from requests->transformers) (1.26.15)\n",
            "Requirement already satisfied: charset-normalizer~=2.0.0 in /usr/local/lib/python3.10/dist-packages (from requests->transformers) (2.0.12)\n",
            "Requirement already satisfied: idna<4,>=2.5 in /usr/local/lib/python3.10/dist-packages (from requests->transformers) (3.4)\n",
            "Requirement already satisfied: certifi>=2017.4.17 in /usr/local/lib/python3.10/dist-packages (from requests->transformers) (2022.12.7)\n",
            "Installing collected packages: tokenizers, transformers\n",
            "Successfully installed tokenizers-0.13.3 transformers-4.28.1\n"
          ]
        }
      ],
      "source": [
        "pip install transformers"
      ]
    },
    {
      "cell_type": "code",
      "execution_count": 4,
      "metadata": {
        "id": "xEUnxdeeyPI6"
      },
      "outputs": [],
      "source": [
        "import numpy as np\n",
        "import pandas as pd\n",
        "import re\n",
        "import tensorflow_datasets as tfds\n",
        "#to avoid doing pre-processing multiple times and thus saving RAM for further tasks\n",
        "import pickle\n",
        "import nltk\n",
        "from nltk.stem import WordNetLemmatizer\n",
        "import torch\n",
        "from torch import nn \n",
        "from datasets import load_dataset\n",
        "from transformers import PegasusForConditionalGeneration, PegasusTokenizer, Trainer, TrainingArguments"
      ]
    },
    {
      "cell_type": "code",
      "execution_count": 5,
      "metadata": {
        "colab": {
          "base_uri": "https://localhost:8080/"
        },
        "id": "hEVFSaJryPI6",
        "outputId": "2cc78290-2431-430f-8453-380bad6e2386"
      },
      "outputs": [
        {
          "output_type": "stream",
          "name": "stderr",
          "text": [
            "[nltk_data] Downloading package punkt to /root/nltk_data...\n",
            "[nltk_data]   Unzipping tokenizers/punkt.zip.\n",
            "[nltk_data] Downloading package wordnet to /root/nltk_data...\n",
            "[nltk_data] Downloading package averaged_perceptron_tagger to\n",
            "[nltk_data]     /root/nltk_data...\n",
            "[nltk_data]   Unzipping taggers/averaged_perceptron_tagger.zip.\n",
            "[nltk_data] Downloading package maxent_ne_chunker to\n",
            "[nltk_data]     /root/nltk_data...\n",
            "[nltk_data]   Unzipping chunkers/maxent_ne_chunker.zip.\n",
            "[nltk_data] Downloading package words to /root/nltk_data...\n",
            "[nltk_data]   Unzipping corpora/words.zip.\n"
          ]
        },
        {
          "output_type": "execute_result",
          "data": {
            "text/plain": [
              "True"
            ]
          },
          "metadata": {},
          "execution_count": 5
        }
      ],
      "source": [
        "nltk.download('punkt')\n",
        "nltk.download('wordnet')\n",
        "nltk.download('averaged_perceptron_tagger')\n",
        "nltk.download('maxent_ne_chunker')\n",
        "nltk.download('words')"
      ]
    },
    {
      "cell_type": "markdown",
      "metadata": {
        "id": "yOBgNKW0yPI8"
      },
      "source": [
        "## **Using popular Cnn DailyMail Dataset**"
      ]
    },
    {
      "cell_type": "code",
      "source": [
        "dataset = tfds.load('cnn_dailymail', split='train')"
      ],
      "metadata": {
        "id": "AxLE5hmW7Zbs"
      },
      "execution_count": null,
      "outputs": []
    },
    {
      "cell_type": "markdown",
      "metadata": {
        "id": "xjoTQ8DbyPI8"
      },
      "source": [
        "## **Checking the format of the dataset**"
      ]
    },
    {
      "cell_type": "code",
      "execution_count": null,
      "metadata": {
        "id": "f0i47KLfyPI9",
        "colab": {
          "base_uri": "https://localhost:8080/"
        },
        "outputId": "78d68116-39a4-4083-f357-c5d799c40681"
      },
      "outputs": [
        {
          "output_type": "execute_result",
          "data": {
            "text/plain": [
              "<_PrefetchDataset element_spec={'article': TensorSpec(shape=(), dtype=tf.string, name=None), 'highlights': TensorSpec(shape=(), dtype=tf.string, name=None), 'id': TensorSpec(shape=(), dtype=tf.string, name=None), 'publisher': TensorSpec(shape=(), dtype=tf.string, name=None)}>"
            ]
          },
          "metadata": {},
          "execution_count": 15
        }
      ],
      "source": [
        "dataset"
      ]
    },
    {
      "cell_type": "code",
      "execution_count": null,
      "metadata": {
        "id": "-Gvt7T-2yPI9",
        "colab": {
          "base_uri": "https://localhost:8080/"
        },
        "outputId": "36f5e0a9-3906-4c76-d09b-50cce2288251"
      },
      "outputs": [
        {
          "output_type": "stream",
          "name": "stdout",
          "text": [
            "287113\n"
          ]
        }
      ],
      "source": [
        "print(len(dataset))"
      ]
    },
    {
      "cell_type": "markdown",
      "metadata": {
        "id": "uSNXmAHOyPI9"
      },
      "source": [
        "## **Converting dataset to Dataframe for performing pre-processing efficiently**"
      ]
    },
    {
      "cell_type": "code",
      "execution_count": null,
      "metadata": {
        "id": "YAdLiIepyPI-"
      },
      "outputs": [],
      "source": [
        "df = pd.DataFrame(dataset)"
      ]
    },
    {
      "cell_type": "code",
      "execution_count": null,
      "metadata": {
        "id": "YExRGnlCyPI-",
        "colab": {
          "base_uri": "https://localhost:8080/"
        },
        "outputId": "27ff8cda-2ad1-4eb7-bb60-709942e58359"
      },
      "outputs": [
        {
          "output_type": "stream",
          "name": "stdout",
          "text": [
            "<class 'pandas.core.frame.DataFrame'>\n",
            "RangeIndex: 287113 entries, 0 to 287112\n",
            "Data columns (total 4 columns):\n",
            " #   Column      Non-Null Count   Dtype \n",
            "---  ------      --------------   ----- \n",
            " 0   article     287113 non-null  object\n",
            " 1   highlights  287113 non-null  object\n",
            " 2   id          287113 non-null  object\n",
            " 3   publisher   287113 non-null  object\n",
            "dtypes: object(4)\n",
            "memory usage: 8.8+ MB\n"
          ]
        }
      ],
      "source": [
        "df.info()"
      ]
    },
    {
      "cell_type": "markdown",
      "metadata": {
        "id": "gDVGx6mTyPI-"
      },
      "source": [
        "## **Considering only first 2000 rows of the dataset**"
      ]
    },
    {
      "cell_type": "code",
      "execution_count": null,
      "metadata": {
        "id": "spvQcsV_yPI-",
        "colab": {
          "base_uri": "https://localhost:8080/"
        },
        "outputId": "1af213ae-56f8-4066-9677-64bbd70e5ace"
      },
      "outputs": [
        {
          "output_type": "execute_result",
          "data": {
            "text/plain": [
              "<bound method DataFrame.info of                                                 article  \\\n",
              "0     tf.Tensor(b\"By. Associated Press. PUBLISHED:. ...   \n",
              "1     tf.Tensor(b'(CNN) -- Ralph Mata was an interna...   \n",
              "2     tf.Tensor(b\"A drunk driver who killed a young ...   \n",
              "3     tf.Tensor(b\"(CNN) -- With a breezy sweep of hi...   \n",
              "4     tf.Tensor(b\"Fleetwood are the only team still ...   \n",
              "...                                                 ...   \n",
              "1995  tf.Tensor(b\"Firemen in Germany were forced to ...   \n",
              "1996  tf.Tensor(b'The 298 victims on board tragic fl...   \n",
              "1997  tf.Tensor(b\"By. Charlie Skillen. Follow @@char...   \n",
              "1998  tf.Tensor(b\"By. Martin Robinson. PUBLISHED:. 0...   \n",
              "1999  tf.Tensor(b'By. Nick Harris. What price a Worl...   \n",
              "\n",
              "                                             highlights  \\\n",
              "0     tf.Tensor(b'Bishop John Folda, of North Dakota...   \n",
              "1     tf.Tensor(b'Criminal complaint: Cop used his r...   \n",
              "2     tf.Tensor(b\"Craig Eccleston-Todd, 27, had drun...   \n",
              "3     tf.Tensor(b\"Nina dos Santos says Europe must b...   \n",
              "4     tf.Tensor(b'Fleetwood top of League One after ...   \n",
              "...                                                 ...   \n",
              "1995  tf.Tensor(b\"Conditions inside the flat in Nurt...   \n",
              "1996  tf.Tensor(b\"Expert says MH17 passengers would ...   \n",
              "1997  tf.Tensor(b\"Diego Costa took part in Atletico ...   \n",
              "1998  tf.Tensor(b\"Matt Pullen was due to become Mana...   \n",
              "1999  tf.Tensor(b'FIFA prepare to earn at least \\xc2...   \n",
              "\n",
              "                                                     id  \\\n",
              "0     tf.Tensor(b'160e9e1c25c81788df73b06b0ce955897f...   \n",
              "1     tf.Tensor(b'3b07f5102c69e3e609d73b2ccb0dc5549d...   \n",
              "2     tf.Tensor(b'2fd252e716c21fd523becd24774bdd6220...   \n",
              "3     tf.Tensor(b'6e3c654d92c1f34c2355a2a392fb5ef618...   \n",
              "4     tf.Tensor(b'df5e0d63e3cd78096cdbf073232a3aa5f6...   \n",
              "...                                                 ...   \n",
              "1995  tf.Tensor(b'7dbbca7347243805270200bf832dac247b...   \n",
              "1996  tf.Tensor(b'13478c1a65ab94706c742b225c5e520333...   \n",
              "1997  tf.Tensor(b'6be43033f88fe75d17ac48ad775bd70b98...   \n",
              "1998  tf.Tensor(b'1521c8280248f2ae39942306c50f860f37...   \n",
              "1999  tf.Tensor(b'0467b095004b6af08acb81730f5d28dc22...   \n",
              "\n",
              "                                      publisher  \n",
              "0      tf.Tensor(b'dm', shape=(), dtype=string)  \n",
              "1     tf.Tensor(b'cnn', shape=(), dtype=string)  \n",
              "2      tf.Tensor(b'dm', shape=(), dtype=string)  \n",
              "3     tf.Tensor(b'cnn', shape=(), dtype=string)  \n",
              "4      tf.Tensor(b'dm', shape=(), dtype=string)  \n",
              "...                                         ...  \n",
              "1995   tf.Tensor(b'dm', shape=(), dtype=string)  \n",
              "1996   tf.Tensor(b'dm', shape=(), dtype=string)  \n",
              "1997   tf.Tensor(b'dm', shape=(), dtype=string)  \n",
              "1998   tf.Tensor(b'dm', shape=(), dtype=string)  \n",
              "1999   tf.Tensor(b'dm', shape=(), dtype=string)  \n",
              "\n",
              "[2000 rows x 4 columns]>"
            ]
          },
          "metadata": {},
          "execution_count": 19
        }
      ],
      "source": [
        "datas = df[0:2000]\n",
        "datas.info"
      ]
    },
    {
      "cell_type": "code",
      "execution_count": null,
      "metadata": {
        "id": "grxK33UVyPI-",
        "colab": {
          "base_uri": "https://localhost:8080/",
          "height": 641
        },
        "outputId": "b16b694b-048b-47af-a66e-a191f4e01bf5"
      },
      "outputs": [
        {
          "output_type": "execute_result",
          "data": {
            "text/plain": [
              "                                                article  \\\n",
              "0     tf.Tensor(b\"By. Associated Press. PUBLISHED:. ...   \n",
              "1     tf.Tensor(b'(CNN) -- Ralph Mata was an interna...   \n",
              "2     tf.Tensor(b\"A drunk driver who killed a young ...   \n",
              "3     tf.Tensor(b\"(CNN) -- With a breezy sweep of hi...   \n",
              "4     tf.Tensor(b\"Fleetwood are the only team still ...   \n",
              "...                                                 ...   \n",
              "1995  tf.Tensor(b\"Firemen in Germany were forced to ...   \n",
              "1996  tf.Tensor(b'The 298 victims on board tragic fl...   \n",
              "1997  tf.Tensor(b\"By. Charlie Skillen. Follow @@char...   \n",
              "1998  tf.Tensor(b\"By. Martin Robinson. PUBLISHED:. 0...   \n",
              "1999  tf.Tensor(b'By. Nick Harris. What price a Worl...   \n",
              "\n",
              "                                             highlights  \\\n",
              "0     tf.Tensor(b'Bishop John Folda, of North Dakota...   \n",
              "1     tf.Tensor(b'Criminal complaint: Cop used his r...   \n",
              "2     tf.Tensor(b\"Craig Eccleston-Todd, 27, had drun...   \n",
              "3     tf.Tensor(b\"Nina dos Santos says Europe must b...   \n",
              "4     tf.Tensor(b'Fleetwood top of League One after ...   \n",
              "...                                                 ...   \n",
              "1995  tf.Tensor(b\"Conditions inside the flat in Nurt...   \n",
              "1996  tf.Tensor(b\"Expert says MH17 passengers would ...   \n",
              "1997  tf.Tensor(b\"Diego Costa took part in Atletico ...   \n",
              "1998  tf.Tensor(b\"Matt Pullen was due to become Mana...   \n",
              "1999  tf.Tensor(b'FIFA prepare to earn at least \\xc2...   \n",
              "\n",
              "                                                     id  \\\n",
              "0     tf.Tensor(b'160e9e1c25c81788df73b06b0ce955897f...   \n",
              "1     tf.Tensor(b'3b07f5102c69e3e609d73b2ccb0dc5549d...   \n",
              "2     tf.Tensor(b'2fd252e716c21fd523becd24774bdd6220...   \n",
              "3     tf.Tensor(b'6e3c654d92c1f34c2355a2a392fb5ef618...   \n",
              "4     tf.Tensor(b'df5e0d63e3cd78096cdbf073232a3aa5f6...   \n",
              "...                                                 ...   \n",
              "1995  tf.Tensor(b'7dbbca7347243805270200bf832dac247b...   \n",
              "1996  tf.Tensor(b'13478c1a65ab94706c742b225c5e520333...   \n",
              "1997  tf.Tensor(b'6be43033f88fe75d17ac48ad775bd70b98...   \n",
              "1998  tf.Tensor(b'1521c8280248f2ae39942306c50f860f37...   \n",
              "1999  tf.Tensor(b'0467b095004b6af08acb81730f5d28dc22...   \n",
              "\n",
              "                                      publisher  \n",
              "0      tf.Tensor(b'dm', shape=(), dtype=string)  \n",
              "1     tf.Tensor(b'cnn', shape=(), dtype=string)  \n",
              "2      tf.Tensor(b'dm', shape=(), dtype=string)  \n",
              "3     tf.Tensor(b'cnn', shape=(), dtype=string)  \n",
              "4      tf.Tensor(b'dm', shape=(), dtype=string)  \n",
              "...                                         ...  \n",
              "1995   tf.Tensor(b'dm', shape=(), dtype=string)  \n",
              "1996   tf.Tensor(b'dm', shape=(), dtype=string)  \n",
              "1997   tf.Tensor(b'dm', shape=(), dtype=string)  \n",
              "1998   tf.Tensor(b'dm', shape=(), dtype=string)  \n",
              "1999   tf.Tensor(b'dm', shape=(), dtype=string)  \n",
              "\n",
              "[2000 rows x 4 columns]"
            ],
            "text/html": [
              "\n",
              "  <div id=\"df-fb8b528d-40c8-4045-9789-a7079072ca8c\">\n",
              "    <div class=\"colab-df-container\">\n",
              "      <div>\n",
              "<style scoped>\n",
              "    .dataframe tbody tr th:only-of-type {\n",
              "        vertical-align: middle;\n",
              "    }\n",
              "\n",
              "    .dataframe tbody tr th {\n",
              "        vertical-align: top;\n",
              "    }\n",
              "\n",
              "    .dataframe thead th {\n",
              "        text-align: right;\n",
              "    }\n",
              "</style>\n",
              "<table border=\"1\" class=\"dataframe\">\n",
              "  <thead>\n",
              "    <tr style=\"text-align: right;\">\n",
              "      <th></th>\n",
              "      <th>article</th>\n",
              "      <th>highlights</th>\n",
              "      <th>id</th>\n",
              "      <th>publisher</th>\n",
              "    </tr>\n",
              "  </thead>\n",
              "  <tbody>\n",
              "    <tr>\n",
              "      <th>0</th>\n",
              "      <td>tf.Tensor(b\"By. Associated Press. PUBLISHED:. ...</td>\n",
              "      <td>tf.Tensor(b'Bishop John Folda, of North Dakota...</td>\n",
              "      <td>tf.Tensor(b'160e9e1c25c81788df73b06b0ce955897f...</td>\n",
              "      <td>tf.Tensor(b'dm', shape=(), dtype=string)</td>\n",
              "    </tr>\n",
              "    <tr>\n",
              "      <th>1</th>\n",
              "      <td>tf.Tensor(b'(CNN) -- Ralph Mata was an interna...</td>\n",
              "      <td>tf.Tensor(b'Criminal complaint: Cop used his r...</td>\n",
              "      <td>tf.Tensor(b'3b07f5102c69e3e609d73b2ccb0dc5549d...</td>\n",
              "      <td>tf.Tensor(b'cnn', shape=(), dtype=string)</td>\n",
              "    </tr>\n",
              "    <tr>\n",
              "      <th>2</th>\n",
              "      <td>tf.Tensor(b\"A drunk driver who killed a young ...</td>\n",
              "      <td>tf.Tensor(b\"Craig Eccleston-Todd, 27, had drun...</td>\n",
              "      <td>tf.Tensor(b'2fd252e716c21fd523becd24774bdd6220...</td>\n",
              "      <td>tf.Tensor(b'dm', shape=(), dtype=string)</td>\n",
              "    </tr>\n",
              "    <tr>\n",
              "      <th>3</th>\n",
              "      <td>tf.Tensor(b\"(CNN) -- With a breezy sweep of hi...</td>\n",
              "      <td>tf.Tensor(b\"Nina dos Santos says Europe must b...</td>\n",
              "      <td>tf.Tensor(b'6e3c654d92c1f34c2355a2a392fb5ef618...</td>\n",
              "      <td>tf.Tensor(b'cnn', shape=(), dtype=string)</td>\n",
              "    </tr>\n",
              "    <tr>\n",
              "      <th>4</th>\n",
              "      <td>tf.Tensor(b\"Fleetwood are the only team still ...</td>\n",
              "      <td>tf.Tensor(b'Fleetwood top of League One after ...</td>\n",
              "      <td>tf.Tensor(b'df5e0d63e3cd78096cdbf073232a3aa5f6...</td>\n",
              "      <td>tf.Tensor(b'dm', shape=(), dtype=string)</td>\n",
              "    </tr>\n",
              "    <tr>\n",
              "      <th>...</th>\n",
              "      <td>...</td>\n",
              "      <td>...</td>\n",
              "      <td>...</td>\n",
              "      <td>...</td>\n",
              "    </tr>\n",
              "    <tr>\n",
              "      <th>1995</th>\n",
              "      <td>tf.Tensor(b\"Firemen in Germany were forced to ...</td>\n",
              "      <td>tf.Tensor(b\"Conditions inside the flat in Nurt...</td>\n",
              "      <td>tf.Tensor(b'7dbbca7347243805270200bf832dac247b...</td>\n",
              "      <td>tf.Tensor(b'dm', shape=(), dtype=string)</td>\n",
              "    </tr>\n",
              "    <tr>\n",
              "      <th>1996</th>\n",
              "      <td>tf.Tensor(b'The 298 victims on board tragic fl...</td>\n",
              "      <td>tf.Tensor(b\"Expert says MH17 passengers would ...</td>\n",
              "      <td>tf.Tensor(b'13478c1a65ab94706c742b225c5e520333...</td>\n",
              "      <td>tf.Tensor(b'dm', shape=(), dtype=string)</td>\n",
              "    </tr>\n",
              "    <tr>\n",
              "      <th>1997</th>\n",
              "      <td>tf.Tensor(b\"By. Charlie Skillen. Follow @@char...</td>\n",
              "      <td>tf.Tensor(b\"Diego Costa took part in Atletico ...</td>\n",
              "      <td>tf.Tensor(b'6be43033f88fe75d17ac48ad775bd70b98...</td>\n",
              "      <td>tf.Tensor(b'dm', shape=(), dtype=string)</td>\n",
              "    </tr>\n",
              "    <tr>\n",
              "      <th>1998</th>\n",
              "      <td>tf.Tensor(b\"By. Martin Robinson. PUBLISHED:. 0...</td>\n",
              "      <td>tf.Tensor(b\"Matt Pullen was due to become Mana...</td>\n",
              "      <td>tf.Tensor(b'1521c8280248f2ae39942306c50f860f37...</td>\n",
              "      <td>tf.Tensor(b'dm', shape=(), dtype=string)</td>\n",
              "    </tr>\n",
              "    <tr>\n",
              "      <th>1999</th>\n",
              "      <td>tf.Tensor(b'By. Nick Harris. What price a Worl...</td>\n",
              "      <td>tf.Tensor(b'FIFA prepare to earn at least \\xc2...</td>\n",
              "      <td>tf.Tensor(b'0467b095004b6af08acb81730f5d28dc22...</td>\n",
              "      <td>tf.Tensor(b'dm', shape=(), dtype=string)</td>\n",
              "    </tr>\n",
              "  </tbody>\n",
              "</table>\n",
              "<p>2000 rows × 4 columns</p>\n",
              "</div>\n",
              "      <button class=\"colab-df-convert\" onclick=\"convertToInteractive('df-fb8b528d-40c8-4045-9789-a7079072ca8c')\"\n",
              "              title=\"Convert this dataframe to an interactive table.\"\n",
              "              style=\"display:none;\">\n",
              "        \n",
              "  <svg xmlns=\"http://www.w3.org/2000/svg\" height=\"24px\"viewBox=\"0 0 24 24\"\n",
              "       width=\"24px\">\n",
              "    <path d=\"M0 0h24v24H0V0z\" fill=\"none\"/>\n",
              "    <path d=\"M18.56 5.44l.94 2.06.94-2.06 2.06-.94-2.06-.94-.94-2.06-.94 2.06-2.06.94zm-11 1L8.5 8.5l.94-2.06 2.06-.94-2.06-.94L8.5 2.5l-.94 2.06-2.06.94zm10 10l.94 2.06.94-2.06 2.06-.94-2.06-.94-.94-2.06-.94 2.06-2.06.94z\"/><path d=\"M17.41 7.96l-1.37-1.37c-.4-.4-.92-.59-1.43-.59-.52 0-1.04.2-1.43.59L10.3 9.45l-7.72 7.72c-.78.78-.78 2.05 0 2.83L4 21.41c.39.39.9.59 1.41.59.51 0 1.02-.2 1.41-.59l7.78-7.78 2.81-2.81c.8-.78.8-2.07 0-2.86zM5.41 20L4 18.59l7.72-7.72 1.47 1.35L5.41 20z\"/>\n",
              "  </svg>\n",
              "      </button>\n",
              "      \n",
              "  <style>\n",
              "    .colab-df-container {\n",
              "      display:flex;\n",
              "      flex-wrap:wrap;\n",
              "      gap: 12px;\n",
              "    }\n",
              "\n",
              "    .colab-df-convert {\n",
              "      background-color: #E8F0FE;\n",
              "      border: none;\n",
              "      border-radius: 50%;\n",
              "      cursor: pointer;\n",
              "      display: none;\n",
              "      fill: #1967D2;\n",
              "      height: 32px;\n",
              "      padding: 0 0 0 0;\n",
              "      width: 32px;\n",
              "    }\n",
              "\n",
              "    .colab-df-convert:hover {\n",
              "      background-color: #E2EBFA;\n",
              "      box-shadow: 0px 1px 2px rgba(60, 64, 67, 0.3), 0px 1px 3px 1px rgba(60, 64, 67, 0.15);\n",
              "      fill: #174EA6;\n",
              "    }\n",
              "\n",
              "    [theme=dark] .colab-df-convert {\n",
              "      background-color: #3B4455;\n",
              "      fill: #D2E3FC;\n",
              "    }\n",
              "\n",
              "    [theme=dark] .colab-df-convert:hover {\n",
              "      background-color: #434B5C;\n",
              "      box-shadow: 0px 1px 3px 1px rgba(0, 0, 0, 0.15);\n",
              "      filter: drop-shadow(0px 1px 2px rgba(0, 0, 0, 0.3));\n",
              "      fill: #FFFFFF;\n",
              "    }\n",
              "  </style>\n",
              "\n",
              "      <script>\n",
              "        const buttonEl =\n",
              "          document.querySelector('#df-fb8b528d-40c8-4045-9789-a7079072ca8c button.colab-df-convert');\n",
              "        buttonEl.style.display =\n",
              "          google.colab.kernel.accessAllowed ? 'block' : 'none';\n",
              "\n",
              "        async function convertToInteractive(key) {\n",
              "          const element = document.querySelector('#df-fb8b528d-40c8-4045-9789-a7079072ca8c');\n",
              "          const dataTable =\n",
              "            await google.colab.kernel.invokeFunction('convertToInteractive',\n",
              "                                                     [key], {});\n",
              "          if (!dataTable) return;\n",
              "\n",
              "          const docLinkHtml = 'Like what you see? Visit the ' +\n",
              "            '<a target=\"_blank\" href=https://colab.research.google.com/notebooks/data_table.ipynb>data table notebook</a>'\n",
              "            + ' to learn more about interactive tables.';\n",
              "          element.innerHTML = '';\n",
              "          dataTable['output_type'] = 'display_data';\n",
              "          await google.colab.output.renderOutput(dataTable, element);\n",
              "          const docLink = document.createElement('div');\n",
              "          docLink.innerHTML = docLinkHtml;\n",
              "          element.appendChild(docLink);\n",
              "        }\n",
              "      </script>\n",
              "    </div>\n",
              "  </div>\n",
              "  "
            ]
          },
          "metadata": {},
          "execution_count": 20
        }
      ],
      "source": [
        "datas"
      ]
    },
    {
      "cell_type": "markdown",
      "metadata": {
        "id": "zwh338sVyPI-"
      },
      "source": [
        "## **Pre-processing begins:**"
      ]
    },
    {
      "cell_type": "code",
      "execution_count": null,
      "metadata": {
        "id": "dzDV4vTTyPI_"
      },
      "outputs": [],
      "source": [
        "#Dropping the unnecessary columns from the dataset\n",
        "datas = datas.drop(['id','publisher'], axis=1)"
      ]
    },
    {
      "cell_type": "code",
      "execution_count": null,
      "metadata": {
        "id": "wIDLOQ6ZyPI_"
      },
      "outputs": [],
      "source": [
        "#Selecting the unnecesaary words\n",
        "words_to_remove = ['tf', 'Tensor', 'shape','numpy','b', '--', ',']"
      ]
    },
    {
      "cell_type": "code",
      "execution_count": null,
      "metadata": {
        "id": "5-ZU4SeryPI_"
      },
      "outputs": [],
      "source": [
        "#Removing unnecessary words from the every row\n",
        "remove_words = lambda x: ' '.join([word for word in x.numpy().decode().split() if word.lower() not in words_to_remove])"
      ]
    },
    {
      "cell_type": "code",
      "execution_count": null,
      "metadata": {
        "id": "2IALq3vpyPI_"
      },
      "outputs": [],
      "source": [
        "#Removing selected words from column highlights\n",
        "datas['highlights'] = datas['highlights'].apply(remove_words)"
      ]
    },
    {
      "cell_type": "code",
      "execution_count": null,
      "metadata": {
        "id": "7hSUnbuZyPI_"
      },
      "outputs": [],
      "source": [
        "#Removing selected words from column article\n",
        "datas['article'] = datas['article'].apply(remove_words)"
      ]
    },
    {
      "cell_type": "code",
      "execution_count": null,
      "metadata": {
        "id": "fqYVw1GzyPI_"
      },
      "outputs": [],
      "source": [
        "#Renaming the column from highlights to summary for more relatibilty\n",
        "datas.rename(columns = {'highlights':'Summary'}, inplace = True)"
      ]
    },
    {
      "cell_type": "code",
      "execution_count": null,
      "metadata": {
        "id": "y5dLu9pPyPI_"
      },
      "outputs": [],
      "source": [
        "#Renaming the column from article to Article for more relatibilty\n",
        "datas.rename(columns = {'article':'Article'}, inplace = True)"
      ]
    },
    {
      "cell_type": "code",
      "execution_count": null,
      "metadata": {
        "id": "IA8iVh1MyPI_"
      },
      "outputs": [],
      "source": [
        "#Converting and downloading the dataset to csv preventing it from downloading it everytime from tensordataflow\n",
        "download = datas.to_csv('Dataset.csv')"
      ]
    },
    {
      "cell_type": "code",
      "execution_count": null,
      "metadata": {
        "id": "nIfdKTMVyPI_"
      },
      "outputs": [],
      "source": [
        "main_df = datas"
      ]
    },
    {
      "cell_type": "code",
      "execution_count": null,
      "metadata": {
        "id": "_w6iXJsoyPI_"
      },
      "outputs": [],
      "source": [
        "# pattern to match non-alphanumeric and non-space characters\n",
        "def remove_special_chars(text):\n",
        "    pattern = r'[^a-zA-z0-9\\s]' \n",
        "    return re.sub(pattern, '', text)"
      ]
    },
    {
      "cell_type": "code",
      "execution_count": null,
      "metadata": {
        "id": "pHjDtdu9yPI_"
      },
      "outputs": [],
      "source": [
        "#Cleaning the dataset by removing the special characters from the dataset\n",
        "main_df = main_df.applymap(remove_special_chars)"
      ]
    },
    {
      "cell_type": "code",
      "execution_count": null,
      "metadata": {
        "id": "yXdLI9xyyPJA"
      },
      "outputs": [],
      "source": [
        "#Converting every row to lowercase\n",
        "main_df = main_df.applymap(lambda x: x.lower())"
      ]
    },
    {
      "cell_type": "code",
      "execution_count": null,
      "metadata": {
        "id": "I5mVT35SyPJA",
        "colab": {
          "base_uri": "https://localhost:8080/"
        },
        "outputId": "4a8fc7db-d37b-47e2-abde-7021003f23d8"
      },
      "outputs": [
        {
          "output_type": "execute_result",
          "data": {
            "text/plain": [
              "0"
            ]
          },
          "metadata": {},
          "execution_count": 33
        }
      ],
      "source": [
        "#Removing duplicate values if exist but in the dataset there are 0 duplicates\n",
        "main_df.duplicated(subset= ['Article', 'Summary']).sum()"
      ]
    },
    {
      "cell_type": "code",
      "execution_count": null,
      "metadata": {
        "id": "rRyU8_pqyPJA",
        "colab": {
          "base_uri": "https://localhost:8080/"
        },
        "outputId": "83c4eb86-241e-4dd2-ecb2-6ec1f75bd3a1"
      },
      "outputs": [
        {
          "output_type": "execute_result",
          "data": {
            "text/plain": [
              "(2000, 2)"
            ]
          },
          "metadata": {},
          "execution_count": 34
        }
      ],
      "source": [
        "main_df = main_df.drop_duplicates(subset= ['Article', 'Summary'])\n",
        "main_df.shape"
      ]
    },
    {
      "cell_type": "code",
      "execution_count": null,
      "metadata": {
        "id": "9qucmoQNyPJA"
      },
      "outputs": [],
      "source": [
        "#Initialising the contractions for word expansion\n",
        "contractions = { \n",
        "\"ain't\": \"am not\",\n",
        "\"aren't\": \"are not\",\n",
        "\"can't\": \"cannot\",\n",
        "\"can't've\": \"cannot have\",\n",
        "\"'cause\": \"because\",\n",
        "\"could've\": \"could have\",\n",
        "\"couldn't\": \"could not\",\n",
        "\"couldn't've\": \"could not have\",\n",
        "\"didn't\": \"did not\",\n",
        "\"doesn't\": \"does not\",\n",
        "\"don't\": \"do not\",\n",
        "\"hadn't\": \"had not\",\n",
        "\"hadn't've\": \"had not have\",\n",
        "\"hasn't\": \"has not\",\n",
        "\"haven't\": \"have not\",\n",
        "\"he'd\": \"he would\",\n",
        "\"he'd've\": \"he would have\",\n",
        "\"he'll\": \"he will\",\n",
        "\"he's\": \"he is\",\n",
        "\"how'd\": \"how did\",\n",
        "\"how'll\": \"how will\",\n",
        "\"how's\": \"how is\",\n",
        "\"i'd\": \"i would\",\n",
        "\"i'll\": \"i will\",\n",
        "\"i'm\": \"i am\",\n",
        "\"i've\": \"i have\",\n",
        "\"isn't\": \"is not\",\n",
        "\"it'd\": \"it would\",\n",
        "\"it'll\": \"it will\",\n",
        "\"it's\": \"it is\",\n",
        "\"let's\": \"let us\",\n",
        "\"ma'am\": \"madam\",\n",
        "\"mayn't\": \"may not\",\n",
        "\"might've\": \"might have\",\n",
        "\"mightn't\": \"might not\",\n",
        "\"must've\": \"must have\",\n",
        "\"mustn't\": \"must not\",\n",
        "\"needn't\": \"need not\",\n",
        "\"oughtn't\": \"ought not\",\n",
        "\"shan't\": \"shall not\",\n",
        "\"sha'n't\": \"shall not\",\n",
        "\"she'd\": \"she would\",\n",
        "\"she'll\": \"she will\",\n",
        "\"she's\": \"she is\",\n",
        "\"should've\": \"should have\",\n",
        "\"shouldn't\": \"should not\",\n",
        "\"that'd\": \"that would\",\n",
        "\"that's\": \"that is\",\n",
        "\"there'd\": \"there had\",\n",
        "\"there's\": \"there is\",\n",
        "\"they'd\": \"they would\",\n",
        "\"they'll\": \"they will\",\n",
        "\"they're\": \"they are\",\n",
        "\"they've\": \"they have\",\n",
        "\"wasn't\": \"was not\",\n",
        "\"we'd\": \"we would\",\n",
        "\"we'll\": \"we will\",\n",
        "\"we're\": \"we are\",\n",
        "\"we've\": \"we have\",\n",
        "\"weren't\": \"were not\",\n",
        "\"what'll\": \"what will\",\n",
        "\"what're\": \"what are\",\n",
        "\"what's\": \"what is\",\n",
        "\"what've\": \"what have\",\n",
        "\"where'd\": \"where did\",\n",
        "\"where's\": \"where is\",\n",
        "\"who'll\": \"who will\",\n",
        "\"who's\": \"who is\",\n",
        "\"won't\": \"will not\",\n",
        "\"wouldn't\": \"would not\",\n",
        "\"you'd\": \"you would\",\n",
        "\"you'll\": \"you will\",\n",
        "\"you're\": \"you are\"\n",
        "}"
      ]
    },
    {
      "cell_type": "code",
      "execution_count": null,
      "metadata": {
        "id": "F3IS_2rMyPJA"
      },
      "outputs": [],
      "source": [
        "# Function to expand contractions\n",
        "def expand_contractions(text):\n",
        "    for contraction, expansion in contractions.items():\n",
        "        text = text.replace(contraction, expansion)\n",
        "    return text"
      ]
    },
    {
      "cell_type": "code",
      "execution_count": null,
      "metadata": {
        "id": "B0Fi6eVkyPJA"
      },
      "outputs": [],
      "source": [
        "# applying contractions and expansion functions to column Article\n",
        "main_df['Article'] = main_df['Article'].apply(expand_contractions)"
      ]
    },
    {
      "cell_type": "code",
      "execution_count": null,
      "metadata": {
        "id": "CmEXlkoGyPJA"
      },
      "outputs": [],
      "source": [
        "# applying contractions and expansion functions to column Summary\n",
        "main_df['Summary'] = main_df['Summary'].apply(expand_contractions)"
      ]
    },
    {
      "cell_type": "code",
      "execution_count": null,
      "metadata": {
        "id": "HLNVpb49yPJA"
      },
      "outputs": [],
      "source": [
        "#Function to remove all the URLs \n",
        "def remove_urls(text):\n",
        "    url_pattern = re.compile(r'https?://\\S+|www\\.\\S+')\n",
        "    return url_pattern.sub('', text)"
      ]
    },
    {
      "cell_type": "code",
      "execution_count": null,
      "metadata": {
        "id": "kWiVpPJOyPJA"
      },
      "outputs": [],
      "source": [
        "# applying removal URLs function to Article column\n",
        "main_df['Article'] = main_df['Article'].apply(remove_urls)"
      ]
    },
    {
      "cell_type": "code",
      "execution_count": null,
      "metadata": {
        "id": "XN5OXo_hyPJA"
      },
      "outputs": [],
      "source": [
        "# applying removal URLs function to Summary column\n",
        "main_df['Summary'] = main_df['Summary'].apply(remove_urls)"
      ]
    },
    {
      "cell_type": "code",
      "execution_count": null,
      "metadata": {
        "id": "lExhubXOyPJA"
      },
      "outputs": [],
      "source": [
        "#Generating pickle file to avoid pre-processing on every session\n",
        "filename = 'train.pkl'"
      ]
    },
    {
      "cell_type": "code",
      "execution_count": null,
      "metadata": {
        "id": "sA59sf6MyPJB"
      },
      "outputs": [],
      "source": [
        "#Run this cell only one time... and from the next time comment this cell and only import pickle and upload the pkl file, no need to run above cells\n",
        "#Creating the pickle file\n",
        "pickle.dump(main_df,open(filename,'wb'))"
      ]
    },
    {
      "cell_type": "code",
      "execution_count": 7,
      "metadata": {
        "id": "3Jm2E0jFyPJB"
      },
      "outputs": [],
      "source": [
        "#For loading the saved pre-processed data from pickle file\n",
        "main_df = pickle.load(open('/content/drive/MyDrive/train.pkl','rb'))"
      ]
    },
    {
      "cell_type": "code",
      "source": [
        "from google.colab import drive\n",
        "drive.mount('/content/drive')"
      ],
      "metadata": {
        "colab": {
          "base_uri": "https://localhost:8080/"
        },
        "id": "soI9J-AK_kDF",
        "outputId": "0ddb68a6-6443-445e-f010-48f873af8a5c"
      },
      "execution_count": 6,
      "outputs": [
        {
          "output_type": "stream",
          "name": "stdout",
          "text": [
            "Mounted at /content/drive\n"
          ]
        }
      ]
    },
    {
      "cell_type": "markdown",
      "metadata": {
        "id": "MckMJI1nyPJB"
      },
      "source": [
        "## **Lemmatization** : "
      ]
    },
    {
      "cell_type": "markdown",
      "metadata": {
        "id": "hcd9zssTyPJB"
      },
      "source": [
        "**Doing the lemmatization but as we require the abstractive summary of the article, doing lemmatization may reduce the semantic accuracy of the article. \n",
        "I planned to trained the model with or without lemmatization to observe the performance of the model**"
      ]
    },
    {
      "cell_type": "code",
      "execution_count": 8,
      "metadata": {
        "id": "vsxJcPl7yPJC"
      },
      "outputs": [],
      "source": [
        "# initializing lemmatizer\n",
        "lemmatizer = WordNetLemmatizer()"
      ]
    },
    {
      "cell_type": "code",
      "execution_count": 9,
      "metadata": {
        "id": "qRCv9FBryPJC"
      },
      "outputs": [],
      "source": [
        "#Function of lemmatizing the every word of every row\n",
        "def lemmatize_text(text):\n",
        "    if not isinstance(text, str):\n",
        "        return ''\n",
        "    # tokenize text into words\n",
        "    words = nltk.word_tokenize(text)\n",
        "    # lemmatize each word and join back into a string\n",
        "    return ' '.join([lemmatizer.lemmatize(word) for word in words if word.isalpha()])"
      ]
    },
    {
      "cell_type": "code",
      "execution_count": 10,
      "metadata": {
        "id": "u759YIIgyPJC"
      },
      "outputs": [],
      "source": [
        "# applying function to column Article\n",
        "main_df['Article'] = main_df['Article'].apply(lemmatize_text)"
      ]
    },
    {
      "cell_type": "code",
      "execution_count": 11,
      "metadata": {
        "id": "a2CRRygryPJC"
      },
      "outputs": [],
      "source": [
        "#applying function to column Summary\n",
        "main_df['Summary'] = main_df['Summary'].apply(lemmatize_text)"
      ]
    },
    {
      "cell_type": "markdown",
      "metadata": {
        "id": "lKpQMQJ_yPJC"
      },
      "source": [
        "## **POS Tagging:**"
      ]
    },
    {
      "cell_type": "markdown",
      "metadata": {
        "id": "956D8BJnyPJC"
      },
      "source": [
        "**POS Tagging helps model to generate the summary which is more semantically as well as syntatically correct.**"
      ]
    },
    {
      "cell_type": "code",
      "execution_count": 12,
      "metadata": {
        "id": "1l5BK_SEyPJC"
      },
      "outputs": [],
      "source": [
        "# define function to perform POS tagging\n",
        "def pos_tag_text(text):\n",
        "    # tokenize text into words\n",
        "    words = nltk.word_tokenize(text)\n",
        "    # perform POS tagging on words\n",
        "    tagged_words = nltk.pos_tag(words)\n",
        "    # return list of tagged words\n",
        "    return tagged_words"
      ]
    },
    {
      "cell_type": "code",
      "execution_count": 13,
      "metadata": {
        "id": "mf5jTUvTyPJC"
      },
      "outputs": [],
      "source": [
        "# applying function to Article only as model will use it also,Summary column does not require it\n",
        "main_df['pos_tags'] = main_df['Article'].apply(pos_tag_text)"
      ]
    },
    {
      "cell_type": "code",
      "source": [
        "main_df['pos_tags'][0]"
      ],
      "metadata": {
        "colab": {
          "base_uri": "https://localhost:8080/"
        },
        "id": "ooJ53oOSD_-R",
        "outputId": "a7f90b65-9230-4018-8d60-32d1fa4e535c"
      },
      "execution_count": 16,
      "outputs": [
        {
          "output_type": "execute_result",
          "data": {
            "text/plain": [
              "[('by', 'IN'),\n",
              " ('associated', 'JJ'),\n",
              " ('press', 'NN'),\n",
              " ('published', 'VBN'),\n",
              " ('est', 'JJS'),\n",
              " ('october', 'NN'),\n",
              " ('updated', 'JJ'),\n",
              " ('est', 'JJS'),\n",
              " ('october', 'IN'),\n",
              " ('the', 'DT'),\n",
              " ('bishop', 'NN'),\n",
              " ('of', 'IN'),\n",
              " ('the', 'DT'),\n",
              " ('fargo', 'NN'),\n",
              " ('catholic', 'JJ'),\n",
              " ('diocese', 'NN'),\n",
              " ('in', 'IN'),\n",
              " ('north', 'JJ'),\n",
              " ('dakota', 'JJ'),\n",
              " ('ha', 'NN'),\n",
              " ('exposed', 'VBN'),\n",
              " ('potentially', 'RB'),\n",
              " ('hundred', 'CD'),\n",
              " ('of', 'IN'),\n",
              " ('church', 'NN'),\n",
              " ('member', 'NN'),\n",
              " ('in', 'IN'),\n",
              " ('fargo', 'JJ'),\n",
              " ('grand', 'JJ'),\n",
              " ('fork', 'NN'),\n",
              " ('and', 'CC'),\n",
              " ('jamestown', 'NN'),\n",
              " ('to', 'TO'),\n",
              " ('the', 'DT'),\n",
              " ('hepatitis', 'NN'),\n",
              " ('a', 'DT'),\n",
              " ('virus', 'NN'),\n",
              " ('in', 'IN'),\n",
              " ('late', 'JJ'),\n",
              " ('september', 'NN'),\n",
              " ('and', 'CC'),\n",
              " ('early', 'JJ'),\n",
              " ('october', 'NN'),\n",
              " ('the', 'DT'),\n",
              " ('state', 'NN'),\n",
              " ('health', 'NN'),\n",
              " ('department', 'NN'),\n",
              " ('ha', 'NN'),\n",
              " ('issued', 'VBD'),\n",
              " ('an', 'DT'),\n",
              " ('advisory', 'NN'),\n",
              " ('of', 'IN'),\n",
              " ('exposure', 'NN'),\n",
              " ('for', 'IN'),\n",
              " ('anyone', 'NN'),\n",
              " ('who', 'WP'),\n",
              " ('attended', 'VBD'),\n",
              " ('five', 'CD'),\n",
              " ('church', 'NN'),\n",
              " ('and', 'CC'),\n",
              " ('took', 'VBD'),\n",
              " ('communion', 'NN'),\n",
              " ('bishop', 'NN'),\n",
              " ('john', 'NN'),\n",
              " ('folda', 'NN'),\n",
              " ('pictured', 'VBN'),\n",
              " ('of', 'IN'),\n",
              " ('the', 'DT'),\n",
              " ('fargo', 'NN'),\n",
              " ('catholic', 'JJ'),\n",
              " ('diocese', 'NN'),\n",
              " ('in', 'IN'),\n",
              " ('north', 'JJ'),\n",
              " ('dakota', 'JJ'),\n",
              " ('ha', 'NN'),\n",
              " ('exposed', 'VBN'),\n",
              " ('potentially', 'RB'),\n",
              " ('hundred', 'CD'),\n",
              " ('of', 'IN'),\n",
              " ('church', 'NN'),\n",
              " ('member', 'NN'),\n",
              " ('in', 'IN'),\n",
              " ('fargo', 'JJ'),\n",
              " ('grand', 'JJ'),\n",
              " ('fork', 'NN'),\n",
              " ('and', 'CC'),\n",
              " ('jamestown', 'NN'),\n",
              " ('to', 'TO'),\n",
              " ('the', 'DT'),\n",
              " ('hepatitis', 'NN'),\n",
              " ('a', 'DT'),\n",
              " ('state', 'NN'),\n",
              " ('immunization', 'NN'),\n",
              " ('program', 'NN'),\n",
              " ('manager', 'NN'),\n",
              " ('molly', 'RB'),\n",
              " ('howell', 'VBP'),\n",
              " ('say', 'VBP'),\n",
              " ('the', 'DT'),\n",
              " ('risk', 'NN'),\n",
              " ('is', 'VBZ'),\n",
              " ('low', 'JJ'),\n",
              " ('but', 'CC'),\n",
              " ('official', 'JJ'),\n",
              " ('feel', 'NN'),\n",
              " ('it', 'PRP'),\n",
              " ('important', 'JJ'),\n",
              " ('to', 'TO'),\n",
              " ('alert', 'VB'),\n",
              " ('people', 'NNS'),\n",
              " ('to', 'TO'),\n",
              " ('the', 'DT'),\n",
              " ('possible', 'JJ'),\n",
              " ('exposure', 'NN'),\n",
              " ('the', 'DT'),\n",
              " ('diocese', 'NN'),\n",
              " ('announced', 'VBD'),\n",
              " ('on', 'IN'),\n",
              " ('monday', 'NN'),\n",
              " ('that', 'IN'),\n",
              " ('bishop', 'NN'),\n",
              " ('john', 'NN'),\n",
              " ('folda', 'NN'),\n",
              " ('is', 'VBZ'),\n",
              " ('taking', 'VBG'),\n",
              " ('time', 'NN'),\n",
              " ('off', 'RP'),\n",
              " ('after', 'IN'),\n",
              " ('being', 'VBG'),\n",
              " ('diagnosed', 'VBN'),\n",
              " ('with', 'IN'),\n",
              " ('hepatitis', 'NN'),\n",
              " ('a', 'DT'),\n",
              " ('the', 'DT'),\n",
              " ('diocese', 'JJ'),\n",
              " ('say', 'VBP'),\n",
              " ('he', 'PRP'),\n",
              " ('contracted', 'VBD'),\n",
              " ('the', 'DT'),\n",
              " ('infection', 'NN'),\n",
              " ('through', 'IN'),\n",
              " ('contaminated', 'VBN'),\n",
              " ('food', 'NN'),\n",
              " ('while', 'IN'),\n",
              " ('attending', 'VBG'),\n",
              " ('a', 'DT'),\n",
              " ('conference', 'NN'),\n",
              " ('for', 'IN'),\n",
              " ('newly', 'RB'),\n",
              " ('ordained', 'VBN'),\n",
              " ('bishop', 'NN'),\n",
              " ('in', 'IN'),\n",
              " ('italy', 'JJ'),\n",
              " ('last', 'JJ'),\n",
              " ('month', 'NN'),\n",
              " ('symptom', 'NN'),\n",
              " ('of', 'IN'),\n",
              " ('hepatitis', 'NN'),\n",
              " ('a', 'DT'),\n",
              " ('include', 'NN'),\n",
              " ('fever', 'NN'),\n",
              " ('tiredness', 'JJ'),\n",
              " ('loss', 'NN'),\n",
              " ('of', 'IN'),\n",
              " ('appetite', 'JJ'),\n",
              " ('nausea', 'NN'),\n",
              " ('and', 'CC'),\n",
              " ('abdominal', 'JJ'),\n",
              " ('discomfort', 'NN'),\n",
              " ('fargo', 'VBZ'),\n",
              " ('catholic', 'JJ'),\n",
              " ('diocese', 'NNS'),\n",
              " ('in', 'IN'),\n",
              " ('north', 'JJ'),\n",
              " ('dakota', 'NN'),\n",
              " ('pictured', 'VBN'),\n",
              " ('is', 'VBZ'),\n",
              " ('where', 'WRB'),\n",
              " ('the', 'DT'),\n",
              " ('bishop', 'NN'),\n",
              " ('is', 'VBZ'),\n",
              " ('located', 'VBN')]"
            ]
          },
          "metadata": {},
          "execution_count": 16
        }
      ]
    },
    {
      "cell_type": "markdown",
      "metadata": {
        "id": "Pv4KMAbIyPJC"
      },
      "source": [
        "## **Named Entity Relationship**"
      ]
    },
    {
      "cell_type": "markdown",
      "metadata": {
        "id": "SemThMvfyPJD"
      },
      "source": [
        "**Doing NER which will assign the name to every word.** "
      ]
    },
    {
      "cell_type": "code",
      "execution_count": 14,
      "metadata": {
        "id": "ZP-Bh6wfyPJD"
      },
      "outputs": [],
      "source": [
        "# define function to perform NER\n",
        "def ner_text(text):\n",
        "    # tokenize text into sentences\n",
        "    sentences = nltk.sent_tokenize(text)\n",
        "    # tokenize each sentence into words and perform POS tagging\n",
        "    sentences = [nltk.word_tokenize(sent) for sent in sentences]\n",
        "    sentences = [nltk.pos_tag(sent) for sent in sentences]\n",
        "    # perform NER on tagged sentences\n",
        "    named_entities = []\n",
        "    for tagged_sentence in sentences:\n",
        "        named_entities.append(nltk.ne_chunk(tagged_sentence, binary=True))\n",
        "    # return list of named entities\n",
        "    return named_entities"
      ]
    },
    {
      "cell_type": "code",
      "execution_count": 15,
      "metadata": {
        "id": "zNP1R0gDyPJD"
      },
      "outputs": [],
      "source": [
        "# applying function to column Article only as Summary does not require it\n",
        "main_df['named_entities'] = main_df['Article'].apply(ner_text)"
      ]
    },
    {
      "cell_type": "code",
      "source": [
        "main_df['named_entities'][0]"
      ],
      "metadata": {
        "colab": {
          "base_uri": "https://localhost:8080/"
        },
        "id": "Aw_K0LNLC7I3",
        "outputId": "7d599b7d-c3b8-4b81-f99d-6e5c8858d4a4"
      },
      "execution_count": 15,
      "outputs": [
        {
          "output_type": "execute_result",
          "data": {
            "text/plain": [
              "[Tree('S', [('by', 'IN'), ('associated', 'JJ'), ('press', 'NN'), ('published', 'VBN'), ('est', 'JJS'), ('october', 'NN'), ('updated', 'JJ'), ('est', 'JJS'), ('october', 'IN'), ('the', 'DT'), ('bishop', 'NN'), ('of', 'IN'), ('the', 'DT'), ('fargo', 'NN'), ('catholic', 'JJ'), ('diocese', 'NN'), ('in', 'IN'), ('north', 'JJ'), ('dakota', 'JJ'), ('ha', 'NN'), ('exposed', 'VBN'), ('potentially', 'RB'), ('hundred', 'CD'), ('of', 'IN'), ('church', 'NN'), ('member', 'NN'), ('in', 'IN'), ('fargo', 'JJ'), ('grand', 'JJ'), ('fork', 'NN'), ('and', 'CC'), ('jamestown', 'NN'), ('to', 'TO'), ('the', 'DT'), ('hepatitis', 'NN'), ('a', 'DT'), ('virus', 'NN'), ('in', 'IN'), ('late', 'JJ'), ('september', 'NN'), ('and', 'CC'), ('early', 'JJ'), ('october', 'NN'), ('the', 'DT'), ('state', 'NN'), ('health', 'NN'), ('department', 'NN'), ('ha', 'NN'), ('issued', 'VBD'), ('an', 'DT'), ('advisory', 'NN'), ('of', 'IN'), ('exposure', 'NN'), ('for', 'IN'), ('anyone', 'NN'), ('who', 'WP'), ('attended', 'VBD'), ('five', 'CD'), ('church', 'NN'), ('and', 'CC'), ('took', 'VBD'), ('communion', 'NN'), ('bishop', 'NN'), ('john', 'NN'), ('folda', 'NN'), ('pictured', 'VBN'), ('of', 'IN'), ('the', 'DT'), ('fargo', 'NN'), ('catholic', 'JJ'), ('diocese', 'NN'), ('in', 'IN'), ('north', 'JJ'), ('dakota', 'JJ'), ('ha', 'NN'), ('exposed', 'VBN'), ('potentially', 'RB'), ('hundred', 'CD'), ('of', 'IN'), ('church', 'NN'), ('member', 'NN'), ('in', 'IN'), ('fargo', 'JJ'), ('grand', 'JJ'), ('fork', 'NN'), ('and', 'CC'), ('jamestown', 'NN'), ('to', 'TO'), ('the', 'DT'), ('hepatitis', 'NN'), ('a', 'DT'), ('state', 'NN'), ('immunization', 'NN'), ('program', 'NN'), ('manager', 'NN'), ('molly', 'RB'), ('howell', 'VBP'), ('say', 'VBP'), ('the', 'DT'), ('risk', 'NN'), ('is', 'VBZ'), ('low', 'JJ'), ('but', 'CC'), ('official', 'JJ'), ('feel', 'NN'), ('it', 'PRP'), ('important', 'JJ'), ('to', 'TO'), ('alert', 'VB'), ('people', 'NNS'), ('to', 'TO'), ('the', 'DT'), ('possible', 'JJ'), ('exposure', 'NN'), ('the', 'DT'), ('diocese', 'NN'), ('announced', 'VBD'), ('on', 'IN'), ('monday', 'NN'), ('that', 'IN'), ('bishop', 'NN'), ('john', 'NN'), ('folda', 'NN'), ('is', 'VBZ'), ('taking', 'VBG'), ('time', 'NN'), ('off', 'RP'), ('after', 'IN'), ('being', 'VBG'), ('diagnosed', 'VBN'), ('with', 'IN'), ('hepatitis', 'NN'), ('a', 'DT'), ('the', 'DT'), ('diocese', 'JJ'), ('say', 'VBP'), ('he', 'PRP'), ('contracted', 'VBD'), ('the', 'DT'), ('infection', 'NN'), ('through', 'IN'), ('contaminated', 'VBN'), ('food', 'NN'), ('while', 'IN'), ('attending', 'VBG'), ('a', 'DT'), ('conference', 'NN'), ('for', 'IN'), ('newly', 'RB'), ('ordained', 'VBN'), ('bishop', 'NN'), ('in', 'IN'), ('italy', 'JJ'), ('last', 'JJ'), ('month', 'NN'), ('symptom', 'NN'), ('of', 'IN'), ('hepatitis', 'NN'), ('a', 'DT'), ('include', 'NN'), ('fever', 'NN'), ('tiredness', 'JJ'), ('loss', 'NN'), ('of', 'IN'), ('appetite', 'JJ'), ('nausea', 'NN'), ('and', 'CC'), ('abdominal', 'JJ'), ('discomfort', 'NN'), ('fargo', 'VBZ'), ('catholic', 'JJ'), ('diocese', 'NNS'), ('in', 'IN'), ('north', 'JJ'), ('dakota', 'NN'), ('pictured', 'VBN'), ('is', 'VBZ'), ('where', 'WRB'), ('the', 'DT'), ('bishop', 'NN'), ('is', 'VBZ'), ('located', 'VBN')])]"
            ]
          },
          "metadata": {},
          "execution_count": 15
        }
      ]
    },
    {
      "cell_type": "code",
      "execution_count": null,
      "metadata": {
        "id": "ZjkpzdYDyPJD"
      },
      "outputs": [],
      "source": [
        "#Generating pickle file for saving the further semantic analysis done on dataset\n",
        "filename1= \"training.pkl\"\n",
        "filename2 = \"valid.pkl\"\n",
        "filename3 = \"test.pkl\""
      ]
    },
    {
      "cell_type": "code",
      "execution_count": 42,
      "metadata": {
        "id": "d2XuPFgZyPJD"
      },
      "outputs": [],
      "source": [
        "#Spiltting the dataset in training, validation and test dataset to train our pre-trained model\n",
        "#Training on first 50 rows as of now\n",
        "train_df1 = main_df['Article'][0:50]\n",
        "valid_df1 = main_df['Summary'][0:50]                   \n",
        "test_df1 = main_df.loc[51:61, [\"Article\", \"Summary\"]]"
      ]
    },
    {
      "cell_type": "code",
      "execution_count": null,
      "metadata": {
        "id": "RhXKWUreyPJD"
      },
      "outputs": [],
      "source": [
        "#Storing the train,validate and test dataset to csv for further easy access\n",
        "train_df1.to_csv('train_df1.csv', index=False)\n",
        "valid_df1.to_csv('valid_df1.csv', index=False)\n",
        "test_df1.to_csv('test_df1.csv', index=False)"
      ]
    },
    {
      "cell_type": "code",
      "execution_count": null,
      "metadata": {
        "id": "nyU-08vAyPJD",
        "colab": {
          "base_uri": "https://localhost:8080/"
        },
        "outputId": "e570e988-1a78-47ed-8306-b3af17dbba2b"
      },
      "outputs": [
        {
          "output_type": "stream",
          "name": "stdout",
          "text": [
            "<class 'pandas.core.frame.DataFrame'>\n",
            "Int64Index: 50 entries, 0 to 49\n",
            "Data columns (total 1 columns):\n",
            " #   Column   Non-Null Count  Dtype \n",
            "---  ------   --------------  ----- \n",
            " 0   Article  50 non-null     object\n",
            "dtypes: object(1)\n",
            "memory usage: 800.0+ bytes\n"
          ]
        }
      ],
      "source": [
        "train_df1.to_frame().info()"
      ]
    },
    {
      "cell_type": "code",
      "execution_count": null,
      "metadata": {
        "id": "47GErIMayPJD",
        "colab": {
          "base_uri": "https://localhost:8080/"
        },
        "outputId": "edc8586e-0d3e-40af-87bf-41098f875fbe"
      },
      "outputs": [
        {
          "output_type": "stream",
          "name": "stdout",
          "text": [
            "<class 'pandas.core.frame.DataFrame'>\n",
            "Int64Index: 50 entries, 0 to 49\n",
            "Data columns (total 1 columns):\n",
            " #   Column   Non-Null Count  Dtype \n",
            "---  ------   --------------  ----- \n",
            " 0   Summary  50 non-null     object\n",
            "dtypes: object(1)\n",
            "memory usage: 800.0+ bytes\n"
          ]
        }
      ],
      "source": [
        "valid_df1.to_frame().info()"
      ]
    },
    {
      "cell_type": "code",
      "execution_count": 43,
      "metadata": {
        "id": "CUica3COyPJD",
        "colab": {
          "base_uri": "https://localhost:8080/"
        },
        "outputId": "23677961-5131-4634-e249-7d65d0ce02e8"
      },
      "outputs": [
        {
          "output_type": "stream",
          "name": "stdout",
          "text": [
            "<class 'pandas.core.frame.DataFrame'>\n",
            "Int64Index: 11 entries, 51 to 61\n",
            "Data columns (total 2 columns):\n",
            " #   Column   Non-Null Count  Dtype \n",
            "---  ------   --------------  ----- \n",
            " 0   Article  11 non-null     object\n",
            " 1   Summary  11 non-null     object\n",
            "dtypes: object(2)\n",
            "memory usage: 264.0+ bytes\n"
          ]
        }
      ],
      "source": [
        "test_df1.info()"
      ]
    },
    {
      "cell_type": "code",
      "source": [
        "test_df1"
      ],
      "metadata": {
        "colab": {
          "base_uri": "https://localhost:8080/",
          "height": 394
        },
        "id": "alf1awKlDLKI",
        "outputId": "e55d3bbe-5d6f-42bb-f8b4-e25e357790ac"
      },
      "execution_count": 44,
      "outputs": [
        {
          "output_type": "execute_result",
          "data": {
            "text/plain": [
              "                                              Article  \\\n",
              "51  cnn palestinian journalist are finding reporti...   \n",
              "52  washington cnn terrorist are likely to use a w...   \n",
              "53  cavite city philippine cnn at rhandolf fajardo...   \n",
              "54  by ted thornhill last updated at pm on decembe...   \n",
              "55  by chris brooke published est april updated es...   \n",
              "56  washington cnn the pilot of northwest flight d...   \n",
              "57  four police officer involved in the fatal purs...   \n",
              "58  by john hall scam patricia glancy conned five ...   \n",
              "59  the secret to staying slim could be in saliva ...   \n",
              "60  by james rush published est june updated est j...   \n",
              "61  a british teenager ha been sentenced to eight ...   \n",
              "\n",
              "                                              Summary  \n",
              "51  new palestinian security force say they will i...  \n",
              "52  new next terror attack on u likely to originat...  \n",
              "53  efren peaflorida wa bullied by gang in high sc...  \n",
              "54  the free iphone app come with a missile strike...  \n",
              "55  lee rowlands tried to raise a day for charity ...  \n",
              "56  first officer didnt completely load radio freq...  \n",
              "57  a court heard that four police officer used un...  \n",
              "58  patricia glancy conned couple out of money at ...  \n",
              "59  gene make a carbbusting compound and can influ...  \n",
              "60  historian seeking to identify troop of fallen ...  \n",
              "61  david lee collins wa stabbed to death after a ...  "
            ],
            "text/html": [
              "\n",
              "  <div id=\"df-903dda6b-351d-48b5-a5c0-0c6df09b9f2d\">\n",
              "    <div class=\"colab-df-container\">\n",
              "      <div>\n",
              "<style scoped>\n",
              "    .dataframe tbody tr th:only-of-type {\n",
              "        vertical-align: middle;\n",
              "    }\n",
              "\n",
              "    .dataframe tbody tr th {\n",
              "        vertical-align: top;\n",
              "    }\n",
              "\n",
              "    .dataframe thead th {\n",
              "        text-align: right;\n",
              "    }\n",
              "</style>\n",
              "<table border=\"1\" class=\"dataframe\">\n",
              "  <thead>\n",
              "    <tr style=\"text-align: right;\">\n",
              "      <th></th>\n",
              "      <th>Article</th>\n",
              "      <th>Summary</th>\n",
              "    </tr>\n",
              "  </thead>\n",
              "  <tbody>\n",
              "    <tr>\n",
              "      <th>51</th>\n",
              "      <td>cnn palestinian journalist are finding reporti...</td>\n",
              "      <td>new palestinian security force say they will i...</td>\n",
              "    </tr>\n",
              "    <tr>\n",
              "      <th>52</th>\n",
              "      <td>washington cnn terrorist are likely to use a w...</td>\n",
              "      <td>new next terror attack on u likely to originat...</td>\n",
              "    </tr>\n",
              "    <tr>\n",
              "      <th>53</th>\n",
              "      <td>cavite city philippine cnn at rhandolf fajardo...</td>\n",
              "      <td>efren peaflorida wa bullied by gang in high sc...</td>\n",
              "    </tr>\n",
              "    <tr>\n",
              "      <th>54</th>\n",
              "      <td>by ted thornhill last updated at pm on decembe...</td>\n",
              "      <td>the free iphone app come with a missile strike...</td>\n",
              "    </tr>\n",
              "    <tr>\n",
              "      <th>55</th>\n",
              "      <td>by chris brooke published est april updated es...</td>\n",
              "      <td>lee rowlands tried to raise a day for charity ...</td>\n",
              "    </tr>\n",
              "    <tr>\n",
              "      <th>56</th>\n",
              "      <td>washington cnn the pilot of northwest flight d...</td>\n",
              "      <td>first officer didnt completely load radio freq...</td>\n",
              "    </tr>\n",
              "    <tr>\n",
              "      <th>57</th>\n",
              "      <td>four police officer involved in the fatal purs...</td>\n",
              "      <td>a court heard that four police officer used un...</td>\n",
              "    </tr>\n",
              "    <tr>\n",
              "      <th>58</th>\n",
              "      <td>by john hall scam patricia glancy conned five ...</td>\n",
              "      <td>patricia glancy conned couple out of money at ...</td>\n",
              "    </tr>\n",
              "    <tr>\n",
              "      <th>59</th>\n",
              "      <td>the secret to staying slim could be in saliva ...</td>\n",
              "      <td>gene make a carbbusting compound and can influ...</td>\n",
              "    </tr>\n",
              "    <tr>\n",
              "      <th>60</th>\n",
              "      <td>by james rush published est june updated est j...</td>\n",
              "      <td>historian seeking to identify troop of fallen ...</td>\n",
              "    </tr>\n",
              "    <tr>\n",
              "      <th>61</th>\n",
              "      <td>a british teenager ha been sentenced to eight ...</td>\n",
              "      <td>david lee collins wa stabbed to death after a ...</td>\n",
              "    </tr>\n",
              "  </tbody>\n",
              "</table>\n",
              "</div>\n",
              "      <button class=\"colab-df-convert\" onclick=\"convertToInteractive('df-903dda6b-351d-48b5-a5c0-0c6df09b9f2d')\"\n",
              "              title=\"Convert this dataframe to an interactive table.\"\n",
              "              style=\"display:none;\">\n",
              "        \n",
              "  <svg xmlns=\"http://www.w3.org/2000/svg\" height=\"24px\"viewBox=\"0 0 24 24\"\n",
              "       width=\"24px\">\n",
              "    <path d=\"M0 0h24v24H0V0z\" fill=\"none\"/>\n",
              "    <path d=\"M18.56 5.44l.94 2.06.94-2.06 2.06-.94-2.06-.94-.94-2.06-.94 2.06-2.06.94zm-11 1L8.5 8.5l.94-2.06 2.06-.94-2.06-.94L8.5 2.5l-.94 2.06-2.06.94zm10 10l.94 2.06.94-2.06 2.06-.94-2.06-.94-.94-2.06-.94 2.06-2.06.94z\"/><path d=\"M17.41 7.96l-1.37-1.37c-.4-.4-.92-.59-1.43-.59-.52 0-1.04.2-1.43.59L10.3 9.45l-7.72 7.72c-.78.78-.78 2.05 0 2.83L4 21.41c.39.39.9.59 1.41.59.51 0 1.02-.2 1.41-.59l7.78-7.78 2.81-2.81c.8-.78.8-2.07 0-2.86zM5.41 20L4 18.59l7.72-7.72 1.47 1.35L5.41 20z\"/>\n",
              "  </svg>\n",
              "      </button>\n",
              "      \n",
              "  <style>\n",
              "    .colab-df-container {\n",
              "      display:flex;\n",
              "      flex-wrap:wrap;\n",
              "      gap: 12px;\n",
              "    }\n",
              "\n",
              "    .colab-df-convert {\n",
              "      background-color: #E8F0FE;\n",
              "      border: none;\n",
              "      border-radius: 50%;\n",
              "      cursor: pointer;\n",
              "      display: none;\n",
              "      fill: #1967D2;\n",
              "      height: 32px;\n",
              "      padding: 0 0 0 0;\n",
              "      width: 32px;\n",
              "    }\n",
              "\n",
              "    .colab-df-convert:hover {\n",
              "      background-color: #E2EBFA;\n",
              "      box-shadow: 0px 1px 2px rgba(60, 64, 67, 0.3), 0px 1px 3px 1px rgba(60, 64, 67, 0.15);\n",
              "      fill: #174EA6;\n",
              "    }\n",
              "\n",
              "    [theme=dark] .colab-df-convert {\n",
              "      background-color: #3B4455;\n",
              "      fill: #D2E3FC;\n",
              "    }\n",
              "\n",
              "    [theme=dark] .colab-df-convert:hover {\n",
              "      background-color: #434B5C;\n",
              "      box-shadow: 0px 1px 3px 1px rgba(0, 0, 0, 0.15);\n",
              "      filter: drop-shadow(0px 1px 2px rgba(0, 0, 0, 0.3));\n",
              "      fill: #FFFFFF;\n",
              "    }\n",
              "  </style>\n",
              "\n",
              "      <script>\n",
              "        const buttonEl =\n",
              "          document.querySelector('#df-903dda6b-351d-48b5-a5c0-0c6df09b9f2d button.colab-df-convert');\n",
              "        buttonEl.style.display =\n",
              "          google.colab.kernel.accessAllowed ? 'block' : 'none';\n",
              "\n",
              "        async function convertToInteractive(key) {\n",
              "          const element = document.querySelector('#df-903dda6b-351d-48b5-a5c0-0c6df09b9f2d');\n",
              "          const dataTable =\n",
              "            await google.colab.kernel.invokeFunction('convertToInteractive',\n",
              "                                                     [key], {});\n",
              "          if (!dataTable) return;\n",
              "\n",
              "          const docLinkHtml = 'Like what you see? Visit the ' +\n",
              "            '<a target=\"_blank\" href=https://colab.research.google.com/notebooks/data_table.ipynb>data table notebook</a>'\n",
              "            + ' to learn more about interactive tables.';\n",
              "          element.innerHTML = '';\n",
              "          dataTable['output_type'] = 'display_data';\n",
              "          await google.colab.output.renderOutput(dataTable, element);\n",
              "          const docLink = document.createElement('div');\n",
              "          docLink.innerHTML = docLinkHtml;\n",
              "          element.appendChild(docLink);\n",
              "        }\n",
              "      </script>\n",
              "    </div>\n",
              "  </div>\n",
              "  "
            ]
          },
          "metadata": {},
          "execution_count": 44
        }
      ]
    },
    {
      "cell_type": "markdown",
      "source": [
        "## **Training the model**"
      ],
      "metadata": {
        "id": "P8-SketV1OvK"
      }
    },
    {
      "cell_type": "code",
      "execution_count": null,
      "metadata": {
        "id": "hQ8qFkV_yPJD"
      },
      "outputs": [],
      "source": [
        "#Defining a PyTorch dataset named \"PegasusDataset\" that takes tokenized inputs and corresponding labels as arguments during initialization\n",
        "class PegasusDataset(torch.utils.data.Dataset):\n",
        "    def __init__(self, encodings, labels):\n",
        "        self.encodings = encodings\n",
        "        self.labels = labels\n",
        "    #This will return a single data sample from the dataset    \n",
        "    def __getitem__(self, idx):\n",
        "        item = {key: torch.tensor(val[idx]) for key, val in self.encodings.items()}\n",
        "        item['labels'] = torch.tensor(self.labels['input_ids'][idx])  # torch.tensor(self.labels[idx])\n",
        "        return item\n",
        "    def __len__(self):\n",
        "        return len(self.labels['input_ids'])  # len(self.labels)"
      ]
    },
    {
      "cell_type": "code",
      "execution_count": null,
      "metadata": {
        "id": "r6KB3N7PzNCy"
      },
      "outputs": [],
      "source": [
        "def CheckVals(val_texts,val_labels):\n",
        "  if(val_texts is None or val_labels is None):\n",
        "    return False\n",
        "  return True"
      ]
    },
    {
      "cell_type": "code",
      "execution_count": null,
      "metadata": {
        "id": "P1FKqJof02D-"
      },
      "outputs": [],
      "source": [
        "def CreateList(value):\n",
        "  return value.to_list()"
      ]
    },
    {
      "cell_type": "code",
      "execution_count": null,
      "metadata": {
        "id": "twGbzIXG1erI"
      },
      "outputs": [],
      "source": [
        "def pegasus(encoding, decoding):\n",
        "  return PegasusDataset(encoding, decoding)"
      ]
    },
    {
      "cell_type": "code",
      "execution_count": null,
      "metadata": {
        "id": "wgXm88R6dddg",
        "colab": {
          "base_uri": "https://localhost:8080/",
          "height": 49,
          "referenced_widgets": [
            "ea374a3a5bd74ee5839029f0b4261e79",
            "516b63122e9a40a49451a93e4be7dbdb",
            "94a33767450a48c49a5ecf4373e65870",
            "74580492a866454cb7da2c1965432253",
            "c4ce4b62c69c40e28501b6efdc63a123",
            "66e9f59fb0b7498d9ae5cb5df5cfc116",
            "b03d2c594b874ccdb1cebeccd71db307",
            "3c60f2ddc6ca49f0afcc301335b86d71",
            "5c84dccc2b7544a6a2911359ff473765",
            "5ab5fce9f7d745cfbc946e758ca63748",
            "7b7dbbff6ada4f95a5cd26bdedfbe681"
          ]
        },
        "outputId": "16036859-8ee3-41de-b7bd-557e32383151"
      },
      "outputs": [
        {
          "output_type": "display_data",
          "data": {
            "text/plain": [
              "Downloading (…)lve/main/config.json:   0%|          | 0.00/3.09k [00:00<?, ?B/s]"
            ],
            "application/vnd.jupyter.widget-view+json": {
              "version_major": 2,
              "version_minor": 0,
              "model_id": "ea374a3a5bd74ee5839029f0b4261e79"
            }
          },
          "metadata": {}
        }
      ],
      "source": [
        "from transformers import AutoConfig, AutoTokenizer\n",
        "\n",
        "config = AutoConfig.from_pretrained('google/pegasus-large')"
      ]
    },
    {
      "cell_type": "code",
      "execution_count": null,
      "metadata": {
        "id": "uYm6rGTyyPJD"
      },
      "outputs": [],
      "source": [
        "def prepare_data(model_name, \n",
        "                 train_texts, train_labels, \n",
        "                 val_texts=None, val_labels=None, \n",
        "                 test_texts=None, test_labels=None):\n",
        "  \"\"\"\n",
        "  Preparing input data in the format accepeted by model for fine-tuning\n",
        "  \"\"\"\n",
        "  tokenizer = AutoTokenizer.from_pretrained('google/pegasus-large')\n",
        "\n",
        "  #Checking if all the validation and test dataset has been provided or not\n",
        "  prepare_val = CheckVals(val_texts ,val_labels )\n",
        "  prepare_test = CheckVals(test_texts,test_labels)\n",
        "\n",
        "  #Generating tokens for article and summary and passing it to pegasus function to get the formatted data\n",
        "  def tokenize_data(texts, labels):\n",
        "    encodings = tokenizer(CreateList(texts['Article']), truncation=True, padding=True)\n",
        "    decodings = tokenizer(CreateList(labels['Summary']), truncation=True, padding=True)\n",
        "    #The below function is converting the tokens of article and summary to PegasusDataset Object\n",
        "    dataset_tokenized = pegasus(encodings, decodings)\n",
        "    return dataset_tokenized\n",
        "\n",
        "  train_dataset = tokenize_data(train_texts, train_labels)\n",
        "  if prepare_val:\n",
        "    val_dataset = tokenize_data(val_texts, val_labels)\n",
        "  else:\n",
        "    val_dataset=None\n",
        "  if prepare_test:\n",
        "    test_dataset = tokenize_data(test_texts, test_labels)\n",
        "  else:\n",
        "    test_dataset=None\n",
        "  return train_dataset, val_dataset, test_dataset, tokenizer"
      ]
    },
    {
      "cell_type": "code",
      "execution_count": null,
      "metadata": {
        "id": "a5O8Kn044U1N"
      },
      "outputs": [],
      "source": [
        "def torchDevice():\n",
        "  if torch.cuda.is_available():\n",
        "    return 'cuda'\n",
        "  else:\n",
        "   return 'cpu'"
      ]
    },
    {
      "cell_type": "code",
      "execution_count": null,
      "metadata": {
        "id": "SVaHYr155pTI"
      },
      "outputs": [],
      "source": [
        "def TrainArguments(val_dataset,output_dir):\n",
        "  if val_dataset is not None:\n",
        "    return TrainingArguments(\n",
        "      output_dir=output_dir,           \n",
        "      num_train_epochs=1,           \n",
        "      per_device_train_batch_size=1,  \n",
        "      per_device_eval_batch_size=1,    \n",
        "      save_steps=500,                  \n",
        "      save_total_limit=5,              \n",
        "      evaluation_strategy='steps',     \n",
        "      eval_steps=100,                  \n",
        "      warmup_steps=500,                \n",
        "      weight_decay=0.01,               \n",
        "      logging_dir='./logs',           \n",
        "      logging_steps=10,\n",
        "    )\n",
        "  else:\n",
        "    return TrainingArguments(\n",
        "      output_dir=output_dir,           \n",
        "      num_train_epochs=1,           \n",
        "      per_device_train_batch_size=1,  \n",
        "      #Saving checkpoints after 500 steps helpful during cases of session crash\n",
        "      save_steps=500,                  \n",
        "      save_total_limit=5,\n",
        "      #Will be considered when we increase the training step, basically it is for learning rate           \n",
        "      warmup_steps=500, \n",
        "      #Regularization term used to avoid overfitting               \n",
        "      weight_decay=0.01,               \n",
        "      logging_dir='./logs',            \n",
        "      logging_steps=10,\n",
        "    )\n"
      ]
    },
    {
      "cell_type": "code",
      "execution_count": null,
      "metadata": {
        "id": "ROhurpKHgo5u",
        "colab": {
          "base_uri": "https://localhost:8080/",
          "height": 35
        },
        "outputId": "e6854544-846c-475b-a642-7684a389f28b"
      },
      "outputs": [
        {
          "output_type": "execute_result",
          "data": {
            "text/plain": [
              "'cuda'"
            ],
            "application/vnd.google.colaboratory.intrinsic+json": {
              "type": "string"
            }
          },
          "metadata": {},
          "execution_count": 70
        }
      ],
      "source": [
        "torchDevice()"
      ]
    },
    {
      "cell_type": "code",
      "execution_count": null,
      "metadata": {
        "id": "ZmlwipbSyPJD"
      },
      "outputs": [],
      "source": [
        "def prepare_fine_tuning(tokenizer, train_dataset, val_dataset=None, freeze_encoder=False, output_dir='./results'):\n",
        "  model = PegasusForConditionalGeneration.from_pretrained('google/pegasus-large').to(torchDevice())\n",
        "\n",
        "#Keeping freeze encoder=False because fine tuning only the decoder part, also trianing data is limited so avoiding overfitting by freezing\n",
        "\n",
        "  if val_dataset is not None:\n",
        "    trainer = Trainer(\n",
        "      model=PegasusForConditionalGeneration.from_pretrained('google/pegasus-large').to(torchDevice()),                         \n",
        "      args=TrainArguments(val_dataset,output_dir),                  \n",
        "      train_dataset=train_dataset,         \n",
        "      eval_dataset=val_dataset,            \n",
        "      tokenizer=tokenizer\n",
        "    )\n",
        "\n",
        "  else:\n",
        "    trainer = Trainer(\n",
        "      model=PegasusForConditionalGeneration.from_pretrained('google/pegasus-large').to(torchDevice()),                         \n",
        "      args=TrainArguments(val_dataset,output_dir),                  \n",
        "      train_dataset=train_dataset,         \n",
        "      tokenizer=tokenizer\n",
        "    )\n",
        "\n",
        "  return trainer"
      ]
    },
    {
      "cell_type": "code",
      "execution_count": null,
      "metadata": {
        "id": "FvABsiVCyPJD"
      },
      "outputs": [],
      "source": [
        "#Converting train dataset from series to dataframe to ease processing\n",
        "train=train_df1.to_frame()"
      ]
    },
    {
      "cell_type": "code",
      "execution_count": null,
      "metadata": {
        "id": "i8rpCe-IyPJE"
      },
      "outputs": [],
      "source": [
        "#Converting validate dataset from series to dataframe to ease processing\n",
        "valid = valid_df1.to_frame()"
      ]
    },
    {
      "cell_type": "code",
      "source": [
        "test = test_df1"
      ],
      "metadata": {
        "id": "0_o6haqhA_rB"
      },
      "execution_count": 45,
      "outputs": []
    },
    {
      "cell_type": "code",
      "execution_count": 46,
      "metadata": {
        "id": "MIgxC6sKbgwT",
        "colab": {
          "base_uri": "https://localhost:8080/"
        },
        "outputId": "1d45b1c8-89c0-45f4-d125-6e2bd7a15730"
      },
      "outputs": [
        {
          "output_type": "stream",
          "name": "stdout",
          "text": [
            "Looking in indexes: https://pypi.org/simple, https://us-python.pkg.dev/colab-wheels/public/simple/\n",
            "Requirement already satisfied: sentencepiece in /usr/local/lib/python3.10/dist-packages (0.1.99)\n"
          ]
        }
      ],
      "source": [
        "!pip install sentencepiece "
      ]
    },
    {
      "cell_type": "markdown",
      "metadata": {
        "id": "ZwZG3JeOyPJE"
      },
      "source": [
        "## **Pegasus:**"
      ]
    },
    {
      "cell_type": "markdown",
      "metadata": {
        "id": "Jh1bysxryPJE"
      },
      "source": [
        "**As I mentioned in Mandate-2, I am using pegasus as pre-trained model. Initialising, I generated the glove vectors for my dataset and decided to modify the embedded layer of the model to take glove vectors as input but it was quite challenging. Hence, giving the text as input to PTM.**"
      ]
    },
    {
      "cell_type": "code",
      "execution_count": null,
      "metadata": {
        "id": "2jUfzybLyPJE",
        "colab": {
          "base_uri": "https://localhost:8080/",
          "height": 113,
          "referenced_widgets": [
            "10d60decb2a5410bb9225d67e6c2e5a3",
            "2daf2ecb256f4057b4c15fe7852273e6",
            "58d8c024addd4a7abba3ad6ef4780661",
            "632bbcf689654b45be2dc80289d26b99",
            "f21df4ab213c4d258a8f25c82afe9df6",
            "9c4bbbf9af86492ebbda6d353d7a60df",
            "4efc18ef9fa64710a20963f49e0b2900",
            "4be23910e418479ba87f7eabec4d4300",
            "b6714500ba08461299027e616aae97e8",
            "28950879b6694b72a74d6ddd9de9bd85",
            "9493772175714c6d8f0c57ea884666c9",
            "cf3bce2704394c16a10539ea5a95b7b6",
            "1d8825af62d44fb3aaf81b0b5ce039d4",
            "82b56cf8e216410cb16711d30e3e8a5f",
            "0546f4e7fa454128847b80f7bc0cec7d",
            "b7af03667b8b4fcebed356375024e6c4",
            "d51e73fb52934d60abc1eacd36b9c5a8",
            "ff61fc284d1041f0922233ea8672d279",
            "46127058f146497c86a49d7261de252b",
            "7267748ce4264fe583fda5f314af33a4",
            "7e64c98773224828bb5ee6f7920097d0",
            "2a54e94b836647ddb5b318a10e4457e3",
            "159bea387c9b44169d946091cd7f41a2",
            "846e3e531e154bdbbfcea27efc1fc5d2",
            "405a111232b9419fb846582746fe345c",
            "fbd004efb4b648e18a1c23ba327f7238",
            "5b5d01a67e9540e4b0aa4e1057b72e72",
            "7d3533f1b93348baab74a1290ecb4d2a",
            "dd1679e6a3e64280a9e8460db672a8f5",
            "1e7ff6ea23cc41c8ba20b4ed1db1f947",
            "7b1636f7dd2b4a1193e850b3d7081014",
            "8199bebfe5f24702bf4b9d1673a949eb",
            "dfbd66b597b3433bb832a6a545499e68"
          ]
        },
        "outputId": "58901ef7-8c39-40bf-fb2a-36fbd8a94c47"
      },
      "outputs": [
        {
          "output_type": "display_data",
          "data": {
            "text/plain": [
              "Downloading (…)okenizer_config.json:   0%|          | 0.00/88.0 [00:00<?, ?B/s]"
            ],
            "application/vnd.jupyter.widget-view+json": {
              "version_major": 2,
              "version_minor": 0,
              "model_id": "10d60decb2a5410bb9225d67e6c2e5a3"
            }
          },
          "metadata": {}
        },
        {
          "output_type": "display_data",
          "data": {
            "text/plain": [
              "Downloading (…)ve/main/spiece.model:   0%|          | 0.00/1.91M [00:00<?, ?B/s]"
            ],
            "application/vnd.jupyter.widget-view+json": {
              "version_major": 2,
              "version_minor": 0,
              "model_id": "cf3bce2704394c16a10539ea5a95b7b6"
            }
          },
          "metadata": {}
        },
        {
          "output_type": "display_data",
          "data": {
            "text/plain": [
              "Downloading (…)cial_tokens_map.json:   0%|          | 0.00/65.0 [00:00<?, ?B/s]"
            ],
            "application/vnd.jupyter.widget-view+json": {
              "version_major": 2,
              "version_minor": 0,
              "model_id": "159bea387c9b44169d946091cd7f41a2"
            }
          },
          "metadata": {}
        }
      ],
      "source": [
        "train_dataset, _, _, tokenizer = prepare_data('google/pegasus-large', train, valid)"
      ]
    },
    {
      "cell_type": "code",
      "execution_count": null,
      "metadata": {
        "id": "2LweVTfDyPJE",
        "colab": {
          "base_uri": "https://localhost:8080/",
          "height": 81,
          "referenced_widgets": [
            "04ff16790ece45c89b6786f63f18860b",
            "5b871a248d4e4ab8b1f933207fb33151",
            "a0da39ef1f3a444b98bd199d8179ad56",
            "c53fef9ae8b84a0e9c7344cce0e66238",
            "d47370cd1259431f841ab8d1e17d0280",
            "b45ad84a361b43e498e82a876778016f",
            "979ad4e4ca0745a5b22a8f010db52d55",
            "8ac6a5bc2060406291adaaf481adaaa7",
            "bc6e183d23364e9a8f8c4cbeedc58fbf",
            "4f2c0dd216834fecb1e6ea679786d51d",
            "317c66a18f3b48f4b6138636aaff269e",
            "f0c123bd22cd4d29a4af9b73bd0024fb",
            "2111790379ed4fe2a49f1e540f45eb9d",
            "ed7ddf8ea45d4c23a3db61f359f5d011",
            "ff35f34a89164ae8ad54ee82acc745f1",
            "bef6b59223374dcc8b577e26a08d6316",
            "2ec7c24e550b4b4cbd7b5c49b09a4f0a",
            "a32edcf47295462f8fdb3ee85357d198",
            "33ac832ac409463f802d91461c716d4e",
            "a993aaee8a474d9699d7912b832c5e92",
            "9d783ef3d2fc4af7877617a51b556231",
            "2c7933da66e24724acd27269319d4157"
          ]
        },
        "outputId": "c8197ab5-6c8b-4f53-8077-d620dda43399"
      },
      "outputs": [
        {
          "output_type": "display_data",
          "data": {
            "text/plain": [
              "Downloading pytorch_model.bin:   0%|          | 0.00/2.28G [00:00<?, ?B/s]"
            ],
            "application/vnd.jupyter.widget-view+json": {
              "version_major": 2,
              "version_minor": 0,
              "model_id": "04ff16790ece45c89b6786f63f18860b"
            }
          },
          "metadata": {}
        },
        {
          "output_type": "display_data",
          "data": {
            "text/plain": [
              "Downloading (…)neration_config.json:   0%|          | 0.00/260 [00:00<?, ?B/s]"
            ],
            "application/vnd.jupyter.widget-view+json": {
              "version_major": 2,
              "version_minor": 0,
              "model_id": "f0c123bd22cd4d29a4af9b73bd0024fb"
            }
          },
          "metadata": {}
        }
      ],
      "source": [
        "trainer = prepare_fine_tuning(tokenizer, train_dataset)"
      ]
    },
    {
      "cell_type": "code",
      "execution_count": null,
      "metadata": {
        "id": "Y2q8FsR9yPJE",
        "colab": {
          "base_uri": "https://localhost:8080/",
          "height": 304
        },
        "outputId": "815bdd26-8237-43cf-9132-8d291e92fa4a"
      },
      "outputs": [
        {
          "output_type": "stream",
          "name": "stderr",
          "text": [
            "/usr/local/lib/python3.10/dist-packages/transformers/optimization.py:391: FutureWarning: This implementation of AdamW is deprecated and will be removed in a future version. Use the PyTorch implementation torch.optim.AdamW instead, or set `no_deprecation_warning=True` to disable this warning\n",
            "  warnings.warn(\n",
            "You're using a PegasusTokenizerFast tokenizer. Please note that with a fast tokenizer, using the `__call__` method is faster than using a method to encode the text followed by a call to the `pad` method to get a padded encoding.\n"
          ]
        },
        {
          "output_type": "display_data",
          "data": {
            "text/plain": [
              "<IPython.core.display.HTML object>"
            ],
            "text/html": [
              "\n",
              "    <div>\n",
              "      \n",
              "      <progress value='50' max='50' style='width:300px; height:20px; vertical-align: middle;'></progress>\n",
              "      [50/50 00:46, Epoch 1/1]\n",
              "    </div>\n",
              "    <table border=\"1\" class=\"dataframe\">\n",
              "  <thead>\n",
              " <tr style=\"text-align: left;\">\n",
              "      <th>Step</th>\n",
              "      <th>Training Loss</th>\n",
              "    </tr>\n",
              "  </thead>\n",
              "  <tbody>\n",
              "    <tr>\n",
              "      <td>10</td>\n",
              "      <td>9.544700</td>\n",
              "    </tr>\n",
              "    <tr>\n",
              "      <td>20</td>\n",
              "      <td>8.451700</td>\n",
              "    </tr>\n",
              "    <tr>\n",
              "      <td>30</td>\n",
              "      <td>9.721300</td>\n",
              "    </tr>\n",
              "    <tr>\n",
              "      <td>40</td>\n",
              "      <td>9.008800</td>\n",
              "    </tr>\n",
              "    <tr>\n",
              "      <td>50</td>\n",
              "      <td>8.243500</td>\n",
              "    </tr>\n",
              "  </tbody>\n",
              "</table><p>"
            ]
          },
          "metadata": {}
        }
      ],
      "source": [
        "#Fine tuning the Pegasus on the dataset\n",
        "#Function is calculating training loss for every 10 rows\n",
        "#Using wandb for easily log and track metrics during training\n",
        "model = trainer.train()"
      ]
    },
    {
      "cell_type": "markdown",
      "metadata": {
        "id": "NBtE8EekyPJE"
      },
      "source": [
        "### **Further uploading the fine-tuned Pegasus to hugging face repository to avoid fine-tuning the model again and again.**"
      ]
    },
    {
      "cell_type": "code",
      "source": [
        "trainer.save_model(\"./pegasus_model_NLP\")"
      ],
      "metadata": {
        "id": "1Is1H2RRlzru"
      },
      "execution_count": null,
      "outputs": []
    },
    {
      "cell_type": "code",
      "source": [
        "from huggingface_hub import notebook_login"
      ],
      "metadata": {
        "id": "P7h2FFxQuaaX"
      },
      "execution_count": null,
      "outputs": []
    },
    {
      "cell_type": "code",
      "source": [
        "notebook_login()"
      ],
      "metadata": {
        "colab": {
          "base_uri": "https://localhost:8080/",
          "height": 145,
          "referenced_widgets": [
            "363a602a29d54ad895e4256a0c0f20a4",
            "cdaed70b58204e0581199e569f632c7a",
            "55521843d34c4556b5d8c2a05f132ab0",
            "ef75d51150ea49a7b81cc9c7f5dcc941",
            "919c07e232ac4b92a8edea84d158e447",
            "f5f8b4dd9dad45748bbeccf468f5ddad",
            "903fba4b422f4fdab738a8833a65af91",
            "60638acc7f2b4f3ba0cc3483358a27a6",
            "82a422f06bd2437d849343f169dceff7",
            "dfba15fab7d04c97a6aea82711f719ad",
            "2ff4950a25924de792343ffc27bf5e41",
            "0b46321c778844b6aa554aed55c33e88",
            "e60e4b24b57a4fce9c7a5d149233a24f",
            "e92254412f5d4a399e878921e1ec5402",
            "266d0e9223ee40f9b9719c54e32be4f1",
            "fa5095ceb54e408b95a4f6305a42888f",
            "7b972ae94fa046c5a54be5ab15369e3b",
            "6d3e6b493f39440a9cefef91392175ed",
            "610b1f1d02094c0b87e7094e4368e2cc",
            "aa2d23aa00e045ae8bcb5cee6a6dfcbc",
            "5e661242929a40028e87065963f48e25",
            "5615f165ffeb48bba5d3cffbc1b56237",
            "2f7dd16b39d947e69880c3a9841d85f1",
            "ab4d0d32c0584b84811a4d1cfafe8e8c",
            "cce15ea031224e76945bc6988e276d25",
            "9ef27321d1ec4f6d836d5598725e77ab",
            "f64bf25263d4414caac1c984f98799fd",
            "6a827fffdc514d91aa3647a9d53a222f",
            "aea3210a88d242dcb04d7c9d50ff9776",
            "a3d0a3e12ad5413b9db4fe7477419213",
            "58972f76daa54ceaac71665bcf50ce30",
            "4f4a39c53c1b4836b6675dab05a57622"
          ]
        },
        "id": "9XxA3ok1vk9B",
        "outputId": "4442dab0-e4bc-4c8c-e1e7-959a9820ddd8"
      },
      "execution_count": null,
      "outputs": [
        {
          "output_type": "display_data",
          "data": {
            "text/plain": [
              "VBox(children=(HTML(value='<center> <img\\nsrc=https://huggingface.co/front/assets/huggingface_logo-noborder.sv…"
            ],
            "application/vnd.jupyter.widget-view+json": {
              "version_major": 2,
              "version_minor": 0,
              "model_id": "363a602a29d54ad895e4256a0c0f20a4"
            }
          },
          "metadata": {}
        }
      ]
    },
    {
      "cell_type": "code",
      "source": [
        "trainer.push_to_hub(\"Yasha145/google_pegasus\")"
      ],
      "metadata": {
        "colab": {
          "base_uri": "https://localhost:8080/",
          "height": 374,
          "referenced_widgets": [
            "c1c88162669d479f80cad028a64adec9",
            "2fd2e60bd5234be9840c356767a2445e",
            "b74ac5b74501430e8edccb03e997a4d1",
            "92cae00ec3a74e4fb448643ae7ecb883",
            "73380d0485f74731afd324b562c2136b",
            "02d6e396c42a41fd8a4ca2d115fd3478",
            "2a52a0fa9ffe408e9c23a02489ed809d",
            "8ca3d50fd4304a988167c726f9535bf9",
            "a510cb0805f347dfa3079ab172800125",
            "32e83c1554da48c5b36ff7600663c9a6",
            "876699eada694f4cbb3caf1a5914617e",
            "348f96c8c9bc4d2f87a31e548b966149",
            "8aca588612be43869ab5d646fa81790f",
            "c57451028b2c4fdf92b63bdb01ce9a76",
            "3858bcd13c5446859e35f51834ee21aa",
            "3cc88a4440454749be10518c12359605",
            "ce282921d98545a6a228f3b946171b17",
            "a55f6f49935244909b3c74e5fc5acb03",
            "61c2bc3feeff45428cc429988dcf0f20",
            "5f5a546f058b48c294b3a41d6a311a50",
            "d1d610e5294248748f462f1fe7f7ba87",
            "f3753e7156604bfa83a706da9dfcda26",
            "aac3e890c7e5476986fb0d761b87bfe3",
            "c5a1c9256a5f4fdd942d98fecf0f9acb",
            "9933224d4f5f450389f3dd495e69748c",
            "80e18dd6592b43c88fc9b0d2aa22ad75",
            "0a217b4f614d488886139cd54c13893d",
            "6b773d04209d47b9bcc799ec878c4c11",
            "b7343bb1d0b44001b3fbe32ae3c2a908",
            "1fd18f0c8f02480d89b530bdfa5e6fa8",
            "0a21237d34df4c4b8e58c1b6d0c2f1d3",
            "75ab90291e8744f7ba4adc3cae90bea1",
            "2cf7e359c00a4563872eaba7ff6a79f9"
          ]
        },
        "id": "wCDED0MEv5kX",
        "outputId": "a798d5d4-aa4e-4552-e4e2-5c06a60da569"
      },
      "execution_count": null,
      "outputs": [
        {
          "output_type": "stream",
          "name": "stderr",
          "text": [
            "Cloning https://huggingface.co/Yasha145/results into local empty directory.\n",
            "WARNING:huggingface_hub.repository:Cloning https://huggingface.co/Yasha145/results into local empty directory.\n"
          ]
        },
        {
          "output_type": "display_data",
          "data": {
            "text/plain": [
              "Upload file pytorch_model.bin:   0%|          | 1.00/2.13G [00:00<?, ?B/s]"
            ],
            "application/vnd.jupyter.widget-view+json": {
              "version_major": 2,
              "version_minor": 0,
              "model_id": "c1c88162669d479f80cad028a64adec9"
            }
          },
          "metadata": {}
        },
        {
          "output_type": "display_data",
          "data": {
            "text/plain": [
              "Upload file spiece.model:   0%|          | 1.00/1.82M [00:00<?, ?B/s]"
            ],
            "application/vnd.jupyter.widget-view+json": {
              "version_major": 2,
              "version_minor": 0,
              "model_id": "348f96c8c9bc4d2f87a31e548b966149"
            }
          },
          "metadata": {}
        },
        {
          "output_type": "display_data",
          "data": {
            "text/plain": [
              "Upload file training_args.bin:   0%|          | 1.00/3.43k [00:00<?, ?B/s]"
            ],
            "application/vnd.jupyter.widget-view+json": {
              "version_major": 2,
              "version_minor": 0,
              "model_id": "aac3e890c7e5476986fb0d761b87bfe3"
            }
          },
          "metadata": {}
        },
        {
          "output_type": "stream",
          "name": "stderr",
          "text": [
            "To https://huggingface.co/Yasha145/results\n",
            "   6ef5320..cd743d2  main -> main\n",
            "\n",
            "WARNING:huggingface_hub.repository:To https://huggingface.co/Yasha145/results\n",
            "   6ef5320..cd743d2  main -> main\n",
            "\n",
            "To https://huggingface.co/Yasha145/results\n",
            "   cd743d2..3d4b675  main -> main\n",
            "\n",
            "WARNING:huggingface_hub.repository:To https://huggingface.co/Yasha145/results\n",
            "   cd743d2..3d4b675  main -> main\n",
            "\n"
          ]
        },
        {
          "output_type": "execute_result",
          "data": {
            "text/plain": [
              "'https://huggingface.co/Yasha145/results/commit/cd743d25a51704ab95c09cdd1f130cc939cd8b4c'"
            ],
            "application/vnd.google.colaboratory.intrinsic+json": {
              "type": "string"
            }
          },
          "metadata": {},
          "execution_count": 83
        }
      ]
    },
    {
      "cell_type": "markdown",
      "source": [
        "## **Rogue Score Calculation**"
      ],
      "metadata": {
        "id": "sgO_0_unylpO"
      }
    },
    {
      "cell_type": "code",
      "source": [
        "pip install rouge"
      ],
      "metadata": {
        "colab": {
          "base_uri": "https://localhost:8080/"
        },
        "id": "Smm4Ixly9K1i",
        "outputId": "98fb9a53-5830-495b-b716-ebe2baa42284"
      },
      "execution_count": 26,
      "outputs": [
        {
          "output_type": "stream",
          "name": "stdout",
          "text": [
            "Looking in indexes: https://pypi.org/simple, https://us-python.pkg.dev/colab-wheels/public/simple/\n",
            "Requirement already satisfied: rouge in /usr/local/lib/python3.10/dist-packages (1.0.1)\n",
            "Requirement already satisfied: six in /usr/local/lib/python3.10/dist-packages (from rouge) (1.16.0)\n"
          ]
        }
      ]
    },
    {
      "cell_type": "code",
      "source": [
        "pip install tensorflow"
      ],
      "metadata": {
        "colab": {
          "base_uri": "https://localhost:8080/"
        },
        "id": "G-4Sarir9Qpt",
        "outputId": "d23f7255-10ca-4f06-d784-07fcad8945d2"
      },
      "execution_count": 27,
      "outputs": [
        {
          "output_type": "stream",
          "name": "stdout",
          "text": [
            "Looking in indexes: https://pypi.org/simple, https://us-python.pkg.dev/colab-wheels/public/simple/\n",
            "Requirement already satisfied: tensorflow in /usr/local/lib/python3.10/dist-packages (2.12.0)\n",
            "Requirement already satisfied: opt-einsum>=2.3.2 in /usr/local/lib/python3.10/dist-packages (from tensorflow) (3.3.0)\n",
            "Requirement already satisfied: flatbuffers>=2.0 in /usr/local/lib/python3.10/dist-packages (from tensorflow) (23.3.3)\n",
            "Requirement already satisfied: h5py>=2.9.0 in /usr/local/lib/python3.10/dist-packages (from tensorflow) (3.8.0)\n",
            "Requirement already satisfied: tensorboard<2.13,>=2.12 in /usr/local/lib/python3.10/dist-packages (from tensorflow) (2.12.2)\n",
            "Requirement already satisfied: six>=1.12.0 in /usr/local/lib/python3.10/dist-packages (from tensorflow) (1.16.0)\n",
            "Requirement already satisfied: packaging in /usr/local/lib/python3.10/dist-packages (from tensorflow) (23.1)\n",
            "Requirement already satisfied: typing-extensions>=3.6.6 in /usr/local/lib/python3.10/dist-packages (from tensorflow) (4.5.0)\n",
            "Requirement already satisfied: numpy<1.24,>=1.22 in /usr/local/lib/python3.10/dist-packages (from tensorflow) (1.22.4)\n",
            "Requirement already satisfied: astunparse>=1.6.0 in /usr/local/lib/python3.10/dist-packages (from tensorflow) (1.6.3)\n",
            "Requirement already satisfied: keras<2.13,>=2.12.0 in /usr/local/lib/python3.10/dist-packages (from tensorflow) (2.12.0)\n",
            "Requirement already satisfied: google-pasta>=0.1.1 in /usr/local/lib/python3.10/dist-packages (from tensorflow) (0.2.0)\n",
            "Requirement already satisfied: termcolor>=1.1.0 in /usr/local/lib/python3.10/dist-packages (from tensorflow) (2.3.0)\n",
            "Requirement already satisfied: libclang>=13.0.0 in /usr/local/lib/python3.10/dist-packages (from tensorflow) (16.0.0)\n",
            "Requirement already satisfied: tensorflow-io-gcs-filesystem>=0.23.1 in /usr/local/lib/python3.10/dist-packages (from tensorflow) (0.32.0)\n",
            "Requirement already satisfied: absl-py>=1.0.0 in /usr/local/lib/python3.10/dist-packages (from tensorflow) (1.4.0)\n",
            "Requirement already satisfied: grpcio<2.0,>=1.24.3 in /usr/local/lib/python3.10/dist-packages (from tensorflow) (1.54.0)\n",
            "Requirement already satisfied: tensorflow-estimator<2.13,>=2.12.0 in /usr/local/lib/python3.10/dist-packages (from tensorflow) (2.12.0)\n",
            "Requirement already satisfied: gast<=0.4.0,>=0.2.1 in /usr/local/lib/python3.10/dist-packages (from tensorflow) (0.4.0)\n",
            "Requirement already satisfied: setuptools in /usr/local/lib/python3.10/dist-packages (from tensorflow) (67.7.2)\n",
            "Requirement already satisfied: wrapt<1.15,>=1.11.0 in /usr/local/lib/python3.10/dist-packages (from tensorflow) (1.14.1)\n",
            "Requirement already satisfied: jax>=0.3.15 in /usr/local/lib/python3.10/dist-packages (from tensorflow) (0.4.8)\n",
            "Requirement already satisfied: protobuf!=4.21.0,!=4.21.1,!=4.21.2,!=4.21.3,!=4.21.4,!=4.21.5,<5.0.0dev,>=3.20.3 in /usr/local/lib/python3.10/dist-packages (from tensorflow) (3.20.3)\n",
            "Requirement already satisfied: wheel<1.0,>=0.23.0 in /usr/local/lib/python3.10/dist-packages (from astunparse>=1.6.0->tensorflow) (0.40.0)\n",
            "Requirement already satisfied: scipy>=1.7 in /usr/local/lib/python3.10/dist-packages (from jax>=0.3.15->tensorflow) (1.10.1)\n",
            "Requirement already satisfied: ml-dtypes>=0.0.3 in /usr/local/lib/python3.10/dist-packages (from jax>=0.3.15->tensorflow) (0.1.0)\n",
            "Requirement already satisfied: markdown>=2.6.8 in /usr/local/lib/python3.10/dist-packages (from tensorboard<2.13,>=2.12->tensorflow) (3.4.3)\n",
            "Requirement already satisfied: tensorboard-plugin-wit>=1.6.0 in /usr/local/lib/python3.10/dist-packages (from tensorboard<2.13,>=2.12->tensorflow) (1.8.1)\n",
            "Requirement already satisfied: google-auth-oauthlib<1.1,>=0.5 in /usr/local/lib/python3.10/dist-packages (from tensorboard<2.13,>=2.12->tensorflow) (1.0.0)\n",
            "Requirement already satisfied: requests<3,>=2.21.0 in /usr/local/lib/python3.10/dist-packages (from tensorboard<2.13,>=2.12->tensorflow) (2.27.1)\n",
            "Requirement already satisfied: google-auth<3,>=1.6.3 in /usr/local/lib/python3.10/dist-packages (from tensorboard<2.13,>=2.12->tensorflow) (2.17.3)\n",
            "Requirement already satisfied: werkzeug>=1.0.1 in /usr/local/lib/python3.10/dist-packages (from tensorboard<2.13,>=2.12->tensorflow) (2.3.0)\n",
            "Requirement already satisfied: tensorboard-data-server<0.8.0,>=0.7.0 in /usr/local/lib/python3.10/dist-packages (from tensorboard<2.13,>=2.12->tensorflow) (0.7.0)\n",
            "Requirement already satisfied: pyasn1-modules>=0.2.1 in /usr/local/lib/python3.10/dist-packages (from google-auth<3,>=1.6.3->tensorboard<2.13,>=2.12->tensorflow) (0.3.0)\n",
            "Requirement already satisfied: cachetools<6.0,>=2.0.0 in /usr/local/lib/python3.10/dist-packages (from google-auth<3,>=1.6.3->tensorboard<2.13,>=2.12->tensorflow) (5.3.0)\n",
            "Requirement already satisfied: rsa<5,>=3.1.4 in /usr/local/lib/python3.10/dist-packages (from google-auth<3,>=1.6.3->tensorboard<2.13,>=2.12->tensorflow) (4.9)\n",
            "Requirement already satisfied: requests-oauthlib>=0.7.0 in /usr/local/lib/python3.10/dist-packages (from google-auth-oauthlib<1.1,>=0.5->tensorboard<2.13,>=2.12->tensorflow) (1.3.1)\n",
            "Requirement already satisfied: urllib3<1.27,>=1.21.1 in /usr/local/lib/python3.10/dist-packages (from requests<3,>=2.21.0->tensorboard<2.13,>=2.12->tensorflow) (1.26.15)\n",
            "Requirement already satisfied: certifi>=2017.4.17 in /usr/local/lib/python3.10/dist-packages (from requests<3,>=2.21.0->tensorboard<2.13,>=2.12->tensorflow) (2022.12.7)\n",
            "Requirement already satisfied: charset-normalizer~=2.0.0 in /usr/local/lib/python3.10/dist-packages (from requests<3,>=2.21.0->tensorboard<2.13,>=2.12->tensorflow) (2.0.12)\n",
            "Requirement already satisfied: idna<4,>=2.5 in /usr/local/lib/python3.10/dist-packages (from requests<3,>=2.21.0->tensorboard<2.13,>=2.12->tensorflow) (3.4)\n",
            "Requirement already satisfied: MarkupSafe>=2.1.1 in /usr/local/lib/python3.10/dist-packages (from werkzeug>=1.0.1->tensorboard<2.13,>=2.12->tensorflow) (2.1.2)\n",
            "Requirement already satisfied: pyasn1<0.6.0,>=0.4.6 in /usr/local/lib/python3.10/dist-packages (from pyasn1-modules>=0.2.1->google-auth<3,>=1.6.3->tensorboard<2.13,>=2.12->tensorflow) (0.5.0)\n",
            "Requirement already satisfied: oauthlib>=3.0.0 in /usr/local/lib/python3.10/dist-packages (from requests-oauthlib>=0.7.0->google-auth-oauthlib<1.1,>=0.5->tensorboard<2.13,>=2.12->tensorflow) (3.2.2)\n"
          ]
        }
      ]
    },
    {
      "cell_type": "code",
      "source": [
        "pip install transformers"
      ],
      "metadata": {
        "colab": {
          "base_uri": "https://localhost:8080/"
        },
        "id": "3kUxJilG9Xbu",
        "outputId": "90892136-eeff-4583-8fe9-f141a7812dd1"
      },
      "execution_count": 20,
      "outputs": [
        {
          "output_type": "stream",
          "name": "stdout",
          "text": [
            "Looking in indexes: https://pypi.org/simple, https://us-python.pkg.dev/colab-wheels/public/simple/\n",
            "Requirement already satisfied: transformers in /usr/local/lib/python3.10/dist-packages (4.28.1)\n",
            "Requirement already satisfied: pyyaml>=5.1 in /usr/local/lib/python3.10/dist-packages (from transformers) (6.0)\n",
            "Requirement already satisfied: huggingface-hub<1.0,>=0.11.0 in /usr/local/lib/python3.10/dist-packages (from transformers) (0.14.1)\n",
            "Requirement already satisfied: tqdm>=4.27 in /usr/local/lib/python3.10/dist-packages (from transformers) (4.65.0)\n",
            "Requirement already satisfied: numpy>=1.17 in /usr/local/lib/python3.10/dist-packages (from transformers) (1.22.4)\n",
            "Requirement already satisfied: packaging>=20.0 in /usr/local/lib/python3.10/dist-packages (from transformers) (23.1)\n",
            "Requirement already satisfied: regex!=2019.12.17 in /usr/local/lib/python3.10/dist-packages (from transformers) (2022.10.31)\n",
            "Requirement already satisfied: requests in /usr/local/lib/python3.10/dist-packages (from transformers) (2.27.1)\n",
            "Requirement already satisfied: tokenizers!=0.11.3,<0.14,>=0.11.1 in /usr/local/lib/python3.10/dist-packages (from transformers) (0.13.3)\n",
            "Requirement already satisfied: filelock in /usr/local/lib/python3.10/dist-packages (from transformers) (3.12.0)\n",
            "Requirement already satisfied: fsspec in /usr/local/lib/python3.10/dist-packages (from huggingface-hub<1.0,>=0.11.0->transformers) (2023.4.0)\n",
            "Requirement already satisfied: typing-extensions>=3.7.4.3 in /usr/local/lib/python3.10/dist-packages (from huggingface-hub<1.0,>=0.11.0->transformers) (4.5.0)\n",
            "Requirement already satisfied: idna<4,>=2.5 in /usr/local/lib/python3.10/dist-packages (from requests->transformers) (3.4)\n",
            "Requirement already satisfied: charset-normalizer~=2.0.0 in /usr/local/lib/python3.10/dist-packages (from requests->transformers) (2.0.12)\n",
            "Requirement already satisfied: certifi>=2017.4.17 in /usr/local/lib/python3.10/dist-packages (from requests->transformers) (2022.12.7)\n",
            "Requirement already satisfied: urllib3<1.27,>=1.21.1 in /usr/local/lib/python3.10/dist-packages (from requests->transformers) (1.26.15)\n"
          ]
        }
      ]
    },
    {
      "cell_type": "code",
      "source": [
        "import tensorflow as tf\n",
        "import transformers\n",
        "from transformers import PegasusTokenizer, PegasusForConditionalGeneration\n"
      ],
      "metadata": {
        "id": "LfXEtXJ48yC7"
      },
      "execution_count": 21,
      "outputs": []
    },
    {
      "cell_type": "code",
      "source": [
        "model_saved = PegasusForConditionalGeneration.from_pretrained(\"Yasha145/results\");"
      ],
      "metadata": {
        "colab": {
          "base_uri": "https://localhost:8080/",
          "height": 113,
          "referenced_widgets": [
            "a1af6d42676b4fd49c7290036f8dfbbf",
            "24498687d5504409908f729cc24d8521",
            "92205bed25db4d11b26c30d5634177a3",
            "b6a1af05588f4f2bb54252411e375bcb",
            "8106c6c8dee8415cb26900ce3627406f",
            "419225e31fa441338eae19862cb2e061",
            "d3a8d6860f6d42bfb46c5a2a4c2c7bab",
            "3c882effba974cb79ad6f376669092fa",
            "dc77e9e7fece4722bfe65b9969731d83",
            "acd5e87ee7c6472e8937d8588f7c2b96",
            "82fd6214fe7a4858ac7eed7055438ebc",
            "96a5f59c2c7442b591855bbd2a8ca155",
            "0e05ba7fc79b4d0485ac0ceae887f26b",
            "7cb8e43fcc8d49b7bb1868c41b2c6f89",
            "5b19c6cb3c004507819b3e0e5917bd17",
            "cc0647300f4a461e904d7a7d25a3a200",
            "053c563397a64a28a38fe5e166bf308a",
            "3c91235496c74d3dbed64d0c2196ba4e",
            "75f1122f279347ae90740096a5d88492",
            "2bd1c524cb5d43c5b8a416b8411d368e",
            "18d53b14118d48f2a83da75c6331c2c4",
            "5834f4fb081a426fbc26bfee60fa9ffe",
            "4938de7b667c40e9ab69b625c46ccfe4",
            "8d5cb6c51e9748a89b40edc170841b03",
            "8307ad7f8f7c40b89011858a19a449ec",
            "4ea20030c7534635857a5c463a27089d",
            "56b7d697d2f94f9abe0903c882fef9a1",
            "8130786eaf314e87a3808038fb65117c",
            "a9ffabb583634a19b463be786398060d",
            "034999e3ad4147e7975835a85d3d9379",
            "484c97e083ac4058b1cf582e5f0b558c",
            "25880134e06b4209a235b47e172ddc70",
            "f0c21809173f42b0a1316063b4fe487d"
          ]
        },
        "id": "gI1WBl4OzKDA",
        "outputId": "ea6d05ff-7253-4e91-b226-d2b8b568f7ba"
      },
      "execution_count": 22,
      "outputs": [
        {
          "output_type": "display_data",
          "data": {
            "text/plain": [
              "Downloading (…)lve/main/config.json:   0%|          | 0.00/3.12k [00:00<?, ?B/s]"
            ],
            "application/vnd.jupyter.widget-view+json": {
              "version_major": 2,
              "version_minor": 0,
              "model_id": "a1af6d42676b4fd49c7290036f8dfbbf"
            }
          },
          "metadata": {}
        },
        {
          "output_type": "display_data",
          "data": {
            "text/plain": [
              "Downloading pytorch_model.bin:   0%|          | 0.00/2.28G [00:00<?, ?B/s]"
            ],
            "application/vnd.jupyter.widget-view+json": {
              "version_major": 2,
              "version_minor": 0,
              "model_id": "96a5f59c2c7442b591855bbd2a8ca155"
            }
          },
          "metadata": {}
        },
        {
          "output_type": "display_data",
          "data": {
            "text/plain": [
              "Downloading (…)neration_config.json:   0%|          | 0.00/255 [00:00<?, ?B/s]"
            ],
            "application/vnd.jupyter.widget-view+json": {
              "version_major": 2,
              "version_minor": 0,
              "model_id": "4938de7b667c40e9ab69b625c46ccfe4"
            }
          },
          "metadata": {}
        }
      ]
    },
    {
      "cell_type": "code",
      "source": [
        "from transformers import AutoConfig, AutoTokenizer\n",
        "\n",
        "config = AutoConfig.from_pretrained('google/pegasus-large')"
      ],
      "metadata": {
        "colab": {
          "base_uri": "https://localhost:8080/",
          "height": 49,
          "referenced_widgets": [
            "4dac6911beaf4d3985bc229632cfbb8e",
            "f8f9b7af6569469b9a6ff799dfcc236f",
            "5c440d2b87e043c59400f3439471047d",
            "46b18b4aedb642d09f8e067a6222aa96",
            "3f8a1ff823de4b57a082eea149e194ed",
            "1633da4025da4edbb45ae103dfbb1a8f",
            "6938bfa5211a4f1aad6ae1d87c9a517b",
            "9c02d3ca8e934aedbe34912789ec8c9e",
            "fca744715a9d4a7ea1bf3ea66145a324",
            "baa0707262724f648c889725c94cf0a0",
            "447f43eb3073409b95c53f9c1cfb6687"
          ]
        },
        "id": "7_gjtArp4oDc",
        "outputId": "61718460-fe56-4925-834c-32809258bfcc"
      },
      "execution_count": 23,
      "outputs": [
        {
          "output_type": "display_data",
          "data": {
            "text/plain": [
              "Downloading (…)lve/main/config.json:   0%|          | 0.00/3.09k [00:00<?, ?B/s]"
            ],
            "application/vnd.jupyter.widget-view+json": {
              "version_major": 2,
              "version_minor": 0,
              "model_id": "4dac6911beaf4d3985bc229632cfbb8e"
            }
          },
          "metadata": {}
        }
      ]
    },
    {
      "cell_type": "code",
      "source": [
        "!pip install sentencepiece "
      ],
      "metadata": {
        "colab": {
          "base_uri": "https://localhost:8080/"
        },
        "id": "0d8KR9WKBTXe",
        "outputId": "648ccee7-b534-4a62-c7ed-5be5d3aec1b9"
      },
      "execution_count": 28,
      "outputs": [
        {
          "output_type": "stream",
          "name": "stdout",
          "text": [
            "Looking in indexes: https://pypi.org/simple, https://us-python.pkg.dev/colab-wheels/public/simple/\n",
            "Collecting sentencepiece\n",
            "  Downloading sentencepiece-0.1.99-cp310-cp310-manylinux_2_17_x86_64.manylinux2014_x86_64.whl (1.3 MB)\n",
            "\u001b[2K     \u001b[90m━━━━━━━━━━━━━━━━━━━━━━━━━━━━━━━━━━━━━━━━\u001b[0m \u001b[32m1.3/1.3 MB\u001b[0m \u001b[31m23.2 MB/s\u001b[0m eta \u001b[36m0:00:00\u001b[0m\n",
            "\u001b[?25hInstalling collected packages: sentencepiece\n",
            "Successfully installed sentencepiece-0.1.99\n"
          ]
        }
      ]
    },
    {
      "cell_type": "code",
      "source": [
        "tokenizer = AutoTokenizer.from_pretrained('google/pegasus-large')"
      ],
      "metadata": {
        "colab": {
          "base_uri": "https://localhost:8080/",
          "height": 113,
          "referenced_widgets": [
            "94f78b23d47e4613af6feafe721093de",
            "aa95fd6ba93d40c3ab97a437d13aee9a",
            "f616d825621f4e14acf3ca32ff3af36c",
            "54dba5da66a54d968e00573174dbe73f",
            "3eb3c976885547dd8ea2ff4e1fcc9b0a",
            "d96327db4de540aeb170accb80050d9b",
            "d6a12316c53c4580a8384f3224840627",
            "ddfc84d6a7874e84a55715e137330bff",
            "2578966d94874add995594712418c59c",
            "674a02f4cff148b29789925d8c748454",
            "b7d1428f0559468da007898ad798c6aa",
            "486e6c599a8942a0a58c13959bdb46b7",
            "101d467da45145e1aac7c775c8adec7d",
            "00dc4bd5bdb547a8a003542b2ab74865",
            "c4beb7ac8e464cc1b76030bc7bb8aa4f",
            "28bf31dcd5744e71a3124b5cc06eaf30",
            "c4c7c2f56fef44af9efb451d887a8707",
            "c9f62b4d14fa45ce8c7d962cd6aac1d3",
            "f07c1852449746d398f9ce6450edc68d",
            "a039043299da45e08cc9889e01e52f09",
            "dd103aaa90b241689af4c9ef0a7171ee",
            "b69d1b6f95fd4368bd03f3146fbff25e",
            "c0884fd04bf64e7a87f95d53e6b2f00a",
            "2d48c925ec6a42c4856642625c88ca77",
            "cfd32f542fe74dff8fcbc8b15ac43fa0",
            "32b039b47f184bdd9f7afeb2bf3f7ac0",
            "39377307e1a54294a25c987e63861013",
            "258113282341437699e418bad714d59c",
            "1c25f3e3f58446f4ad0224ccaef116b9",
            "432d8b5796094683a049166d221a30d8",
            "388bf78a32894cc7b9e74e449a2ef9b8",
            "a6ed5b2e279a46ecbbf8046d0cb795e0",
            "0eaa57d0007a4f23b21cb4da7093abb6"
          ]
        },
        "id": "2zD9kh3k9u8A",
        "outputId": "0f7f9e4e-08b4-42ad-dbd0-d16ff06e2c87"
      },
      "execution_count": 29,
      "outputs": [
        {
          "output_type": "display_data",
          "data": {
            "text/plain": [
              "Downloading (…)okenizer_config.json:   0%|          | 0.00/88.0 [00:00<?, ?B/s]"
            ],
            "application/vnd.jupyter.widget-view+json": {
              "version_major": 2,
              "version_minor": 0,
              "model_id": "94f78b23d47e4613af6feafe721093de"
            }
          },
          "metadata": {}
        },
        {
          "output_type": "display_data",
          "data": {
            "text/plain": [
              "Downloading (…)ve/main/spiece.model:   0%|          | 0.00/1.91M [00:00<?, ?B/s]"
            ],
            "application/vnd.jupyter.widget-view+json": {
              "version_major": 2,
              "version_minor": 0,
              "model_id": "486e6c599a8942a0a58c13959bdb46b7"
            }
          },
          "metadata": {}
        },
        {
          "output_type": "display_data",
          "data": {
            "text/plain": [
              "Downloading (…)cial_tokens_map.json:   0%|          | 0.00/65.0 [00:00<?, ?B/s]"
            ],
            "application/vnd.jupyter.widget-view+json": {
              "version_major": 2,
              "version_minor": 0,
              "model_id": "c0884fd04bf64e7a87f95d53e6b2f00a"
            }
          },
          "metadata": {}
        }
      ]
    },
    {
      "cell_type": "code",
      "source": [
        "test.info()"
      ],
      "metadata": {
        "colab": {
          "base_uri": "https://localhost:8080/"
        },
        "id": "wH7k8JUABEDn",
        "outputId": "500a9ac9-c01b-45c6-be52-b82d9bf8fb81"
      },
      "execution_count": null,
      "outputs": [
        {
          "output_type": "stream",
          "name": "stdout",
          "text": [
            "<class 'pandas.core.frame.DataFrame'>\n",
            "Int64Index: 11 entries, 51 to 61\n",
            "Data columns (total 2 columns):\n",
            " #   Column   Non-Null Count  Dtype \n",
            "---  ------   --------------  ----- \n",
            " 0   Article  11 non-null     object\n",
            " 1   Summary  11 non-null     object\n",
            "dtypes: object(2)\n",
            "memory usage: 264.0+ bytes\n"
          ]
        }
      ]
    },
    {
      "cell_type": "code",
      "source": [
        "generated_summaries = []\n",
        "target_summaries = []\n",
        "#target_summaries = test['Summary']"
      ],
      "metadata": {
        "id": "Vp4i-_Zm-NQa"
      },
      "execution_count": 47,
      "outputs": []
    },
    {
      "cell_type": "code",
      "source": [
        "test"
      ],
      "metadata": {
        "colab": {
          "base_uri": "https://localhost:8080/",
          "height": 394
        },
        "id": "0J9Jam6lC8Hk",
        "outputId": "d02cb568-c315-4a23-fd0b-c8eb3c8dac03"
      },
      "execution_count": 38,
      "outputs": [
        {
          "output_type": "execute_result",
          "data": {
            "text/plain": [
              "                                              Article  \\\n",
              "51  cnn palestinian journalist are finding reporti...   \n",
              "52  washington cnn terrorist are likely to use a w...   \n",
              "53  cavite city philippine cnn at rhandolf fajardo...   \n",
              "54  by ted thornhill last updated at pm on decembe...   \n",
              "55  by chris brooke published est april updated es...   \n",
              "56  washington cnn the pilot of northwest flight d...   \n",
              "57  four police officer involved in the fatal purs...   \n",
              "58  by john hall scam patricia glancy conned five ...   \n",
              "59  the secret to staying slim could be in saliva ...   \n",
              "60  by james rush published est june updated est j...   \n",
              "61  a british teenager ha been sentenced to eight ...   \n",
              "\n",
              "                                              Summary  \n",
              "51  new palestinian security force say they will i...  \n",
              "52  new next terror attack on u likely to originat...  \n",
              "53  efren peaflorida wa bullied by gang in high sc...  \n",
              "54  the free iphone app come with a missile strike...  \n",
              "55  lee rowlands tried to raise a day for charity ...  \n",
              "56  first officer didnt completely load radio freq...  \n",
              "57  a court heard that four police officer used un...  \n",
              "58  patricia glancy conned couple out of money at ...  \n",
              "59  gene make a carbbusting compound and can influ...  \n",
              "60  historian seeking to identify troop of fallen ...  \n",
              "61  david lee collins wa stabbed to death after a ...  "
            ],
            "text/html": [
              "\n",
              "  <div id=\"df-b3abfca3-4587-488d-8a08-e7305a96286d\">\n",
              "    <div class=\"colab-df-container\">\n",
              "      <div>\n",
              "<style scoped>\n",
              "    .dataframe tbody tr th:only-of-type {\n",
              "        vertical-align: middle;\n",
              "    }\n",
              "\n",
              "    .dataframe tbody tr th {\n",
              "        vertical-align: top;\n",
              "    }\n",
              "\n",
              "    .dataframe thead th {\n",
              "        text-align: right;\n",
              "    }\n",
              "</style>\n",
              "<table border=\"1\" class=\"dataframe\">\n",
              "  <thead>\n",
              "    <tr style=\"text-align: right;\">\n",
              "      <th></th>\n",
              "      <th>Article</th>\n",
              "      <th>Summary</th>\n",
              "    </tr>\n",
              "  </thead>\n",
              "  <tbody>\n",
              "    <tr>\n",
              "      <th>51</th>\n",
              "      <td>cnn palestinian journalist are finding reporti...</td>\n",
              "      <td>new palestinian security force say they will i...</td>\n",
              "    </tr>\n",
              "    <tr>\n",
              "      <th>52</th>\n",
              "      <td>washington cnn terrorist are likely to use a w...</td>\n",
              "      <td>new next terror attack on u likely to originat...</td>\n",
              "    </tr>\n",
              "    <tr>\n",
              "      <th>53</th>\n",
              "      <td>cavite city philippine cnn at rhandolf fajardo...</td>\n",
              "      <td>efren peaflorida wa bullied by gang in high sc...</td>\n",
              "    </tr>\n",
              "    <tr>\n",
              "      <th>54</th>\n",
              "      <td>by ted thornhill last updated at pm on decembe...</td>\n",
              "      <td>the free iphone app come with a missile strike...</td>\n",
              "    </tr>\n",
              "    <tr>\n",
              "      <th>55</th>\n",
              "      <td>by chris brooke published est april updated es...</td>\n",
              "      <td>lee rowlands tried to raise a day for charity ...</td>\n",
              "    </tr>\n",
              "    <tr>\n",
              "      <th>56</th>\n",
              "      <td>washington cnn the pilot of northwest flight d...</td>\n",
              "      <td>first officer didnt completely load radio freq...</td>\n",
              "    </tr>\n",
              "    <tr>\n",
              "      <th>57</th>\n",
              "      <td>four police officer involved in the fatal purs...</td>\n",
              "      <td>a court heard that four police officer used un...</td>\n",
              "    </tr>\n",
              "    <tr>\n",
              "      <th>58</th>\n",
              "      <td>by john hall scam patricia glancy conned five ...</td>\n",
              "      <td>patricia glancy conned couple out of money at ...</td>\n",
              "    </tr>\n",
              "    <tr>\n",
              "      <th>59</th>\n",
              "      <td>the secret to staying slim could be in saliva ...</td>\n",
              "      <td>gene make a carbbusting compound and can influ...</td>\n",
              "    </tr>\n",
              "    <tr>\n",
              "      <th>60</th>\n",
              "      <td>by james rush published est june updated est j...</td>\n",
              "      <td>historian seeking to identify troop of fallen ...</td>\n",
              "    </tr>\n",
              "    <tr>\n",
              "      <th>61</th>\n",
              "      <td>a british teenager ha been sentenced to eight ...</td>\n",
              "      <td>david lee collins wa stabbed to death after a ...</td>\n",
              "    </tr>\n",
              "  </tbody>\n",
              "</table>\n",
              "</div>\n",
              "      <button class=\"colab-df-convert\" onclick=\"convertToInteractive('df-b3abfca3-4587-488d-8a08-e7305a96286d')\"\n",
              "              title=\"Convert this dataframe to an interactive table.\"\n",
              "              style=\"display:none;\">\n",
              "        \n",
              "  <svg xmlns=\"http://www.w3.org/2000/svg\" height=\"24px\"viewBox=\"0 0 24 24\"\n",
              "       width=\"24px\">\n",
              "    <path d=\"M0 0h24v24H0V0z\" fill=\"none\"/>\n",
              "    <path d=\"M18.56 5.44l.94 2.06.94-2.06 2.06-.94-2.06-.94-.94-2.06-.94 2.06-2.06.94zm-11 1L8.5 8.5l.94-2.06 2.06-.94-2.06-.94L8.5 2.5l-.94 2.06-2.06.94zm10 10l.94 2.06.94-2.06 2.06-.94-2.06-.94-.94-2.06-.94 2.06-2.06.94z\"/><path d=\"M17.41 7.96l-1.37-1.37c-.4-.4-.92-.59-1.43-.59-.52 0-1.04.2-1.43.59L10.3 9.45l-7.72 7.72c-.78.78-.78 2.05 0 2.83L4 21.41c.39.39.9.59 1.41.59.51 0 1.02-.2 1.41-.59l7.78-7.78 2.81-2.81c.8-.78.8-2.07 0-2.86zM5.41 20L4 18.59l7.72-7.72 1.47 1.35L5.41 20z\"/>\n",
              "  </svg>\n",
              "      </button>\n",
              "      \n",
              "  <style>\n",
              "    .colab-df-container {\n",
              "      display:flex;\n",
              "      flex-wrap:wrap;\n",
              "      gap: 12px;\n",
              "    }\n",
              "\n",
              "    .colab-df-convert {\n",
              "      background-color: #E8F0FE;\n",
              "      border: none;\n",
              "      border-radius: 50%;\n",
              "      cursor: pointer;\n",
              "      display: none;\n",
              "      fill: #1967D2;\n",
              "      height: 32px;\n",
              "      padding: 0 0 0 0;\n",
              "      width: 32px;\n",
              "    }\n",
              "\n",
              "    .colab-df-convert:hover {\n",
              "      background-color: #E2EBFA;\n",
              "      box-shadow: 0px 1px 2px rgba(60, 64, 67, 0.3), 0px 1px 3px 1px rgba(60, 64, 67, 0.15);\n",
              "      fill: #174EA6;\n",
              "    }\n",
              "\n",
              "    [theme=dark] .colab-df-convert {\n",
              "      background-color: #3B4455;\n",
              "      fill: #D2E3FC;\n",
              "    }\n",
              "\n",
              "    [theme=dark] .colab-df-convert:hover {\n",
              "      background-color: #434B5C;\n",
              "      box-shadow: 0px 1px 3px 1px rgba(0, 0, 0, 0.15);\n",
              "      filter: drop-shadow(0px 1px 2px rgba(0, 0, 0, 0.3));\n",
              "      fill: #FFFFFF;\n",
              "    }\n",
              "  </style>\n",
              "\n",
              "      <script>\n",
              "        const buttonEl =\n",
              "          document.querySelector('#df-b3abfca3-4587-488d-8a08-e7305a96286d button.colab-df-convert');\n",
              "        buttonEl.style.display =\n",
              "          google.colab.kernel.accessAllowed ? 'block' : 'none';\n",
              "\n",
              "        async function convertToInteractive(key) {\n",
              "          const element = document.querySelector('#df-b3abfca3-4587-488d-8a08-e7305a96286d');\n",
              "          const dataTable =\n",
              "            await google.colab.kernel.invokeFunction('convertToInteractive',\n",
              "                                                     [key], {});\n",
              "          if (!dataTable) return;\n",
              "\n",
              "          const docLinkHtml = 'Like what you see? Visit the ' +\n",
              "            '<a target=\"_blank\" href=https://colab.research.google.com/notebooks/data_table.ipynb>data table notebook</a>'\n",
              "            + ' to learn more about interactive tables.';\n",
              "          element.innerHTML = '';\n",
              "          dataTable['output_type'] = 'display_data';\n",
              "          await google.colab.output.renderOutput(dataTable, element);\n",
              "          const docLink = document.createElement('div');\n",
              "          docLink.innerHTML = docLinkHtml;\n",
              "          element.appendChild(docLink);\n",
              "        }\n",
              "      </script>\n",
              "    </div>\n",
              "  </div>\n",
              "  "
            ]
          },
          "metadata": {},
          "execution_count": 38
        }
      ]
    },
    {
      "cell_type": "code",
      "source": [
        "type(test)"
      ],
      "metadata": {
        "colab": {
          "base_uri": "https://localhost:8080/"
        },
        "id": "zNR5Itx9GH0U",
        "outputId": "b219c3bd-8862-423a-f11c-066880c02365"
      },
      "execution_count": 35,
      "outputs": [
        {
          "output_type": "execute_result",
          "data": {
            "text/plain": [
              "pandas.core.frame.DataFrame"
            ]
          },
          "metadata": {},
          "execution_count": 35
        }
      ]
    },
    {
      "cell_type": "code",
      "source": [
        "#Converting dataframe to dictionary for ease of handling the articles\n",
        "test_list = test.to_dict('records')"
      ],
      "metadata": {
        "id": "Z_TAaiCnGmEE"
      },
      "execution_count": 40,
      "outputs": []
    },
    {
      "cell_type": "code",
      "source": [
        "test_list"
      ],
      "metadata": {
        "colab": {
          "base_uri": "https://localhost:8080/"
        },
        "id": "EfPXF0veG5Rb",
        "outputId": "96d10ce3-3574-4a27-fa40-80893363bf0f"
      },
      "execution_count": 37,
      "outputs": [
        {
          "output_type": "execute_result",
          "data": {
            "text/plain": [
              "[{'Article': 'cnn palestinian journalist are finding reporting increasingly difficult in the face of the growing abuse toward them by palestinian security force in the west bank and gaza according to a report released wednesday by human right watch the report no news is good news abuse against journalist by palestinian security force criticizes palestinian authority force in the west bank and hamas security force in gaza saying they are abusing local journalist and limiting press freedom in the palestinian territory the report focus on seven incident in the west bank and two in gaza saying they are case in which security force tortured beat and arbitrarily detained journalist confiscated their equipment and barred them from leaving the west bank and gaza human right watch cite a report issued by the palestinian center for development and medium freedom that say there wa a increase in the number of physical attack arrest confiscation of equipment and limitation of movement in the year we respect the human right watch report and other human right organization in what they do on the ground and we have the readiness to investigate each case said maj gen adnan dmeiri spokesman for the palestinian authority security service but he said why dont they consult u and ask u before publishing these report he said the security service will investigate and bring people to justice the pa ha no agenda to violate the right of human being and especially the right of the journalist we trust our justice system and the freedom of journalist is a priority of all thing most of the abuse against journalist are connected to the rift between fatah which control the west bank palestinian authority and hamas which control gaza according to the report prohamas journalist are targeted by the palestinian security force in the west bank and profatah journalist are targeted by the hamas security in gaza the report stress that the west bank security force have virtual impunity for serious human right violation and state that the utter failure of the palestinian authority leadership to address the prevailing culture of impunity for such abuse suggests that they reflect government policy we dont accept the comparison between u and the militia in gaza dmeiri said he said his organization ha no political agenda and we dont hold and detain people on their background we detain people if they have criminal or security threat or matter that threaten the internal security large sum are donated to the palestinian authority security force in the west bank by the united state and the european union human right watch call on the donor country to condition their support to those security service by making sure that palestinian authority official investigate and punish security personnel for their abuse attack on international journalist in gaza also have increased in the past couple of month in march a journalist were covering a demonstration in gaza calling for reconciliation between fatah and hamas the office of reuters cnn and nhk were raided by hamas security force effort to get a response from hamas official were not immediately successful the tel avivbased foreign press association released a statement expressing it grave concern that hamas security force brutally attacked photographer and cameraman beating them breaking equipment and confiscating photo and video footage the organization called the development the latest in a string of chilling attack on reporter in gaza the united state and european union have designated hamas a a terrorist organization human right watch describes itself on it website a one of the world leading independent organization dedicated to defending and protecting human right cnns kareem khadder contributed to this report',\n",
              "  'Summary': 'new palestinian security force say they will investigate the allegation the human right watch report focus on seven incident in the west bank and two in gaza journalist were tortured beat and arbitrarily detained the report say the rift between fatah and hamas is behind most of the incident it say'},\n",
              " {'Article': 'washington cnn terrorist are likely to use a weapon of mass destruction somewhere in the world in the next five year a blueribbon panel assembled by congress ha concluded police watch over traveler at new york grand central terminal before thanksgiving they are more likely to use a biological weapon than a nuclear one and the result could be devastating the chairman of the commission told cnn the consequence of a biological attack are almost beyond comprehension it would be time or a hundred in term of the number of people who would be killed former sen bob graham said he cited the flu virus that killed million of people in a an example today it is still in the laboratory but if it should get out and into the hand of scientist who knew how to use it for a violent purpose we could have multiple time the million people who were killed year ago he said watch how official worry about a biological terror attack the u government need to move more aggressively to limit the spread of biological weapon the commission said in it report graham warned that such measure would be costly but were necessary the leadership of this country and the world will have to decide how much of a priority they place on avoiding the worst weapon in the world getting in the hand of the worst people in the world he said it is not going to be cheap it is not going to be accomplished without some sacrifice it wont be accomplished without putting this issue ahead of some other competing national and international goal but i think our safety and security depend upon doing so he added graham said a biological attack wa more likely than a nuclear one because it would be easier to carry out biological weapon are more available he said anthrax is a natural product of dead animal other serious pathogen are available in equally accessible form there are so many scientist who have the skill to convert a pathogen from benign helpful purpose into an illicit very harmful weapon he added but the commission warned that there is also a threat of nuclear terrorism both because more country are developing nuclear weapon and because some existing nuclear power are expanding their arsenal terrorist organization are intent on acquiring nuclear weapon said the report which wa published tuesday on the internet and will be officially released wednesday cnn obtained a copy of the report monday evening it cited testimony before the commission from former sen sam nunn who said that the risk of a nuclear weapon being used today is growing not receding the report recommends a range of measure including increased security and awareness at biological research lab and strengthening international treaty against the spread of biological and nuclear weapon many biological pathogen and nuclear material around the world are poorly secured and thus vulnerable to theft by those who would put these material to harmful use or would sell them on the black market to potential terrorist the report warned the commission expressed particular concern about the nuclear program of iran and north korea and about pakistan which it described a the intersection of nuclear weapon and terrorism while observing that pakistan is a u ally the report said the next terrorist attack against the united state is likely to originate from within the federally administered tribal area in pakistan the tribal area lie in northwest pakistan where the government exerts little control the united state say it is a haven for militant from both pakistan and neighboring afghanistan congress created the commission to investigate and report on wmd and terrorism in line with a recommendation from the commission which compiled a report on the september terrorist attack on the united state commissioner heard testimony from more than expert from around the world over the course of their sixmonth investigation cnns jeanne meserve contributed to this report',\n",
              "  'Summary': 'new next terror attack on u likely to originate in pakistan tribal area report say terrorist with biological weapon could kill million panel chairman say biological attack more likely than nuclear attack report say number of nation with nuclear weapon also growing panel say'},\n",
              " {'Article': 'cavite city philippine cnn at rhandolf fajardo reflects on his former life a a gang member efren peafloridas dynamic teen company offer filipino youth an alternative to gang through education my gang mate were the most influential thing in my life say fajardo who joined a gang when he wa in sixth grade we were pressured to join he not alone in the philippine teenage membership in urban gang ha surged to an estimated in the past year according to the preda foundation a local human right charity i thought id get stuck in that situation and that my life would never improve recall fajardo i would probably be in jail right now most likely a drug addict if i hadnt met efren efren peaflorida also wa bullied by gang in high school today he offer filipino youth an alternative to gang membership through education vote now for the cnn hero of the year gang member are groomed in the slum a early a year old say peaflorida they are all victim of poverty for the past year peaflorida and his team of teen volunteer have taught basic reading and writing to child living on the street their main tool a pushcart classroom stocked with book pen table and chair his dynamic teen company recreates a school setting in unconventional location such a the cemetery and municipal trash dump peaflorida know firsthand the adversity faced by these child born into a poor family he lived in a shanty near the city dump site but he say he refused to allow his circumstance to define his future instead of being discouraged i promised myself that i would pursue education he recall i will strive hard i will do my best in high school peaflorida faced a new set of challenge gang activity wa rampant they terrorized the student body vandalized the school and inducted member by forcing them to rape young girl he say i felt the social discrimination i wa afraid to walk down the street peaflorida remembers standing up to a gang leader refusing to join his gang that confrontation proved fateful at he and his friend got the idea to divert teenager like u to be productive he say he created the dynamic teen company to offer his classmate an outlet to lift up themselves and their community for peaflorida that meant returning to the slum of his childhood to give kid the education he felt they deserved they need education to be successful in life it just giving them what others gave to me he say today child ranging from age to flock to the pushcart every saturday to learn reading writing arithmetic and english from peaflorida and his trained teen volunteer watch peaflorida and his group in action with their push cart classroom our volunteer serve a an inspiration to other child he say the group also run a hygiene clinic where child can get a bath and learn how to brush their teeth since an estimated member have helped teach more than child living in the slum the organization support it effort by making and selling craft and collecting item to recycle take a look at the slum where peaflorida and his group spend their saturday through his group peaflorida ha successfully mentored former gang member addict and dropout seeing potential where others see problem before i really didnt care for my life say michael advincula who started doing drug when he wa but then efren patiently dug me from where i wa buried it wa efren who pushed me to get my life together watch advincula describe how he met peaflorida in the slum today advincula is a senior in high school and one of the group volunteer peaflorida hope to expand the pushcart to other area giving more child the chance to learn and stay out of gang i always tell my volunteer that you are the change that you dream and i am the change that i dream and collectively we are the change that this world need to be want to get involved check out the dynamic teen company and see how to help',\n",
              "  'Summary': 'efren peaflorida wa bullied by gang in high school in the philippine now his dynamic teen company offer an alternative to gang through education since some member have taught more than child in slum vote now for the cnn hero of the year at cnncomheroes'},\n",
              " {'Article': 'by ted thornhill last updated at pm on december bored of your surroundings and want to liven thing up or fancy destroying that broken bit of office machinery now there an app thatll add a bit of action movie magic into your life by superimposing dramatic special effect over mobile phone footage action movie fx for iphone come courtesy of jj abrams production company bad robot interactive which is behind star trek super and mission impossible scroll down for mailonlines blockbuster debut kaboom a mailonline reporter find himself in the line of fire dramatic the apps effect are incredibly realistic leave it to the professional the company behind the app bad robot ha plenty of expertise with movie special effect the free app come with two effect a missile strike and a car crash and the result are incredible simply hit record and film a scene then use a slider to mark the point at which you want the fx to begin the missile strike is gigantic and a burning pile of rubble is left behind after the initial explosion the car crash is equally professionallooking swirl of dust precede an suv dropping out of the sky and flying into the camera carnage a terrifying car crash is one of the free effect that come with the app light iphone action for cent you can add in a helicopter crash gunning for filmmaking glory the app also feature fake armed police simple the app is straightforward to use and it only take second before youve made specialeffectsladen footage there are even actionmovie sound effect to accompany the carnage more effect such a a helicopter falling from the sky can be added for a small fee so far it proving hugely popular with one user jimmo olson commenting i ordered a missile strike on my office calendar look like im leaving early today',\n",
              "  'Summary': 'the free iphone app come with a missile strike and a car crash'},\n",
              " {'Article': 'by chris brooke published est april updated est april a man went berserk and stabbed his fiance because of the stress of trying to win a dream wedding contest a court heard yesterday lee rowlands and madelaine moir both were one of five couple in the competition final who were attempting to win the prize by raising the most money for charity in a week they were working hour a day to try to raise the money when rowlands suffered a psychotic episode he allegedly began hearing voice and attacked miss moir with two kitchen knife a she cowered on the floor strain lee rowlands right and his fiance madelaine moir he he attacked with two kitchen knife during a psychotic episode while desperately trying to win a radio competition for a dream wedding she wa wounded on her breast arm finger and knee and he ran into the street believing he had killed her sheffield crown court wa told yesterday rowlands wa jailed for month after admitting unlawful wounding he will be released in a few week because he ha been in custody for month and would have been automatically freed at the halfway point of his sentence miss moir is said to have stood by him and they still hope to get married the couple had been together for two year before the attack on march last year they entered the competition run by sheffieldbased independent radio station hallam fm in the hope of winning the wedding package including a honeymoon in sri lanka venue hire dress flower and photographer in her application miss moir wrote we wish we had met year ago we love each other and want to shout it to the world stand by your man miss moir arrives at sheffield crown court to see rowlands sentenced the pair still hope to marry one day alison dorrell prosecuting said the couple had a happy relationship and rowlands had become the father figure to the divorcee two child but miss moir had noticed her partner heart beating irregularly and he began to speak about hearing voice he also threatened to jump out of the window and harm himself during the episode rowlands attacked his fiance with two kitchen knife at their home in armthorpe doncaster he then ran outside in his boxer short saying he had killed her rowlands wa found by police sobbing in the street miss dorrell said he wa making no sense at all miss moir needed hospital treatment and later had surgery on a finger injury she said later she didnt recognise the man who attacked her he wasnt himself and she wa of the view that he didnt want to hurt her and he wasnt thinking rationally said miss dorrell miss moir wrote in her victim statement we never argued this is why i cant say what happened it is a if somebody else had taken over his body the court heard she had helped turn rowlands life around he had served time in jail and they entered the wedding contest because he wa desperate to prove himself richard barradell defending said the couple aimed to raise each a day to win the wedding prize however it became clear thing were getting to lee rowlands mr barradell said something snapped and rowlands had a psychotic mental breakdown of rapid onset he is desperately sorry for what he did he cant explain it judge robert moore said rowlands had been receiving mental health treatment and his release in a few week under licence would enable him to continue his rehabilitation sorry we are unable to accept comment for legal reason',\n",
              "  'Summary': 'lee rowlands tried to raise a day for charity to win the competition but the strain got too much and he suffered a psychotic episode he stabbed fiance madelaine moir in the breast arm finger and knee'},\n",
              " {'Article': 'washington cnn the pilot of northwest flight did not fall asleep when they overflew their destination by more than mile in october the national transportation safety board said thursday in a detailed report on the wayward flight the two pilot became distracted by a conversation about the airline new work schedule system and by laptop computer they were using in violation of company policy and did not communicate with air traffic control for about hour and minute while they cruised past their minneapolis minnesota destination at foot the ntsb said the safety board also faulted the federal aviation administration for air traffic control shortcoming the ntsb report give the most complete official account to date of the errant flight which prompted the faa to revoke both pilot license prompted the airline to suspend them from flying and prompted the faa to adopt new procedure to notify the u military in case where the faa loses contact with commercial aircraft according to the account the flight from san diego california wa routine until the plane wa in the denver colorado region there air traffic controller directed the crew of the airbus to change their radio frequency the copilot or first officer acknowledged the frequency change and read back the correct frequency however neither the captain nor the first officer contacted controller on the new frequency until about hour and minute later when winnipeg manitoba controller directed the crew to contact minneapolis the ntsb said that because of the proximity of the winnipeg frequency to the last frequency acknowledged by the pilot winnipeg is megahertz while the last frequency used wa it is likely the first officer began to dial in the new frequency but never completed the frequency change by pushing an activation button nor did the first officer attempt to contact the next controller the ntsb said the frequency change likely occurred while the captain wa taking a restroom break and while a flight attendant wa serving dinner these event may have distracted the first officer from completing the frequency change or attempting to contact the next atc controller the ntsb said further the captain absence would have prevented him from checking the copilot action when the captain returned the pilot became involved in a conversation over new scheduling procedure and the first officer tutored the captain using their computer the ntsb said the pilot allowed this conversation to monopolize their attention the board said both pilot state that they heard radio chatter but did not hear a radio call for the laptop computer they used likely blocked their view of numerous visual alert including text message sent by airline dispatcher and at least nine message regarding their position on the airplane primary flight display the ntsb said northwest airline policy prohibited the use of the laptop the ntsb said both pilot told the ntsb the first indication of anything unusual wa when a flight attendant called to ask about their arrival time the captain looked at his navigation display and saw duluth minnesota to his left and eau claire wisconsin to his right the board said the ntsb said it could not determine why the pilot did not respond to numerous radio call but said it could be because the volume wa turned down the pilot were distracted or the plane wa outside the coverage for the megahertz transmitter the ntsb faulted the faa for not catching the pilot error earlier saying the plane entered two denver sector uneventfully but radio contact wa not established in the next two sector where controller were preparing for a shift change neither sector controller relief briefing included information that communication had not been established with the plane the ntsb said the ntsb said the faa had no standard procedure to indicate that an aircraft had not made radio contact when electronic radar handoff of plane occurred from one sector to the next because of this lack of standardization passed through two denver atc sector without the controller being aware that it had not made radio contact the safety board said almost minute had elapsed before the next sector controller attempted to regain contact with the plane and realized the plane wa unresponsive to radio call the board said recognizing the problem controller first attempted to regain contact by calling northwest dispatcher then by calling an emergency frequency but did not use word such a emergency or mayday that may have helped capture the pilot attention the ntsb said the pilot did not respond a a result of the investigation and of the crash of an executive jet in montana in the safety board is recommending step to prevent a repeat of the incident six day after the event the faa revoked the license of capt timothy bryan cheney and first officer richard irwin cole saying their lack of awareness that they had overflown the minneapolis airport wa completely unacceptable and put your passenger and your crew in serious jeopardy but in a settlement signed with the pilot on monday the pilot acknowledged no wrongdoing and the faa agreed to allow the pilot to reapply for their license in august two month shorter than would ordinarily be allowed a spokesman for delta airline which merged with northwest said this week the airline internal investigation is continuing',\n",
              "  'Summary': 'first officer didnt completely load radio frequency ntsb say he and pilot then were distracted by discussion personal computer ntsb say ntsb also blame air traffic controller for not realizing problem earlier'},\n",
              " {'Article': 'four police officer involved in the fatal pursuit of a young student used unnecessary excessive and unlawful force against him a court ha heard brazilian student roberto curti died in the early hour of march after a chase and violent struggle with police in sydney cbd in which he wa tasered handcuffed hit with capsicum spray and knelt on policeman scott james edmondson and daniel david barling have been charged with assault occasioning actual bodily harm while chin aun lim and damian john ralph face the charge of assault all four have pleaded not guilty brazilian student roberto curti died in the early hour of march following a chase and violent struggle with police in which he wa tasered handcuffed hit with capsicum spray and knelt on a court heard on monday that the four police officer involved used unnecessary excessive and unlawful force against mr curti on the opening day of a fourweek hearing prosecutor cate dodds on monday said mr curti became increasingly afraid and erratic after taking the drug lsd with two friend on the night of march by the early hour of the morning mr curti wa seen running around the city before going to a convenience store and stealing two packet of tim tam after a triple zero call police initially described the biscuit theft over the radio a an armed robbery involving two men policeman scott james edmondson left and daniel david barling right pictured earlier this month have been charged with assault occasioning actual bodily harm mr curti wa eventually spotted by police who began chasing him along pitt street at about he wa dressed in blue jean and had no shirt and no shoe on when police caught him m dodds said lim successfully deployed his taser at mr curti causing him to fall to the ground what happened next she said wa unnecessary excessive and unlawful a mr curti lay handcuffed on the ground surrounded by cop lim discharged his taser for a second time chin aun lim left and damian john ralph right face the charge of assault meanwhile barling the court heard used the tasers drivestun mode on five separate occasion while edmondson used his twice mr curti wa also hit with capsicum spray by ralph m dodds said the cause of mr curtis death is undetermined but he wa unable to be resuscitated at the scene the hearing continues on tuesday earlier this month the four police officer were seeking to permanently halt criminal proceeding against them in a hearing in the first week of november barrister bret walker sc told downing centre local court they were now making an application to stay the proceeding against them all four have pleaded not guilty and earlier this month were trying to halt all criminal proceeding against them barrister bret walker sc told the court the prosecution case against the four police officer including scott edmondson pictured wa rooted in an eradicable error the prosecution case against the four had been tainted by directed interview which took place in the day after mr curtis death mr walker said during the interview officer were compelled to answer question by threat of disciplinary action and therefore their answer should not have been used against them instead mr walker argued the interview became inextricably entangled in the ensuing investigation of them this meant the prosecution case wa rooted in an eradicable error he said the hearing commenced on monday and will run for the next four week chin aun lim is pictured here a fortnight ago but crown advocate natalie adam sc appearing on behalf of the attorneygeneral said only three page of lims interview had ever been handed to the dpp if the admissibility of the interview wa in question m adam said there should be an application for that evidence to be excluded this is not a basis for a stay she said adding that should be a last resort magistrate mark buscombe will hand down his decision on the permanent stay application by the four police officer on november police officer damian ralph leaving the downing centre court in sydney on november',\n",
              "  'Summary': 'a court heard that four police officer used unnecessary excessive and unlawful force against a student brazilian student roberto curtis died in march following a chase and violent struggle with police in which he wa tasered all officer have pleaded not guilty a four week hearing commenced on monday'},\n",
              " {'Article': 'by john hall scam patricia glancy conned five couple who were getting married at wentworth golf club a wedding planner who stole from couple marrying at one of britain top golf club ha avoided jail because she spent the money on a friend who wa dying of cancer patricia glancy conned five couple into leaving blank cheque with wentworth golf club in surrey which she would then cash into her own bank account although she admitted stealing the money glancy wa spared prison after it emerged she spent it on taking her dying friend thelma harte on holiday to new york a well a on large donation to cancer charity glancy stole a total of pound between march and june last year and had resigned shortly before the con wa discovered by golf club boss the scheme wa wa finally detected when a bride emailed the club about her wedding preparation only to be told she had not put down a deposit and the organiser had left judge peter moss sitting at guildford crown court today sentenced glancy to six month in prison suspended for month the court heard she had paid back every penny of the stolen money and that the golf club had honoured the wedding of all couple that fell victim to the scam during the trial judge moss wa handed proof glancy used to the cash to pay for a trip to new york for a friend thelma harte who wa dying of cancer m harte is believed to have died before the scam wa detected glancy also provided evidence that she had used the rest of the money to buy good from the golf club shop which were sold a item at charity auction to raise money for two cancer hospice wentworth golf club picked up a you would expect of a reputable organisation the cost to fulfill their obligation that fell through because of your fraud you risked damaging their reputation because of your action said judge moss you fully admitted this matter and i bear in mind you are year of age and of good character suspended sentence patricia glancy pictured wa spared jail after it emerged she spent the stolen money taking a dying friend on holiday to new york a well a making large donation to cancer charity money guildford crown court heard that wentworth golf club pictured had honoured all the wedding for couple that found themselves conned out of thousand of pound by glancy your best friend wa dying of cancer and you wanted to provide trip for her to new york and you also mentioned you had given donation to charity event for two particular hospice judge moss added you certainly had bought equipment from the professional shop at a discount no doubt with some of the proceeds you had taken from your customer i saw evidence you had been engaged in those charity event it attracted for you personally a considerable amount of praise and admiration from family and friend that may well have been the motivation for you glancy from ascot in berkshire admitted five count of fraud by false representation at an earlier court appearance judge moss said her crime deserved custodial punishment but decided to suspend her sixmonth prison sentence for month the judge told glancy that she would immediately serve the sixmonth term if she committed any further crime in the next month scene patricia glancy conned five couple into leaving blank cheque at the worldfamous wentworth golf club in surrey pictured she would then deposit the cheque into her own bank account he also ordered that she paid pound cost prosecutor trina little had earlier told the judge how glancy worked at wentworth golf club near virginia water surrey from january to may last year a club event sale manager she said she wa tasked to arrange wedding reception for people getting married at the club and liaised with the party in doing so miss glancy wa asking for deposit on four of the count the party paid by cheque they left them blank and she said she would stamp them with the wentworth golf club stamp she completed her name and detail one payment wa made by bank transfer but instead of giving the club detail to the couple glancy gave her own account number the prosecutor said lisa patel and mo maan had just under pound diverted without their knowledge lauren sandfords father wrote a cheque for pound a a deposit for his daughter wedding to gary kearton home guildford crown court heard patricia glancy had now repaid all the money she had stolen above glancys home in ascot berkshire a further cheque for an almost identical sum for daniella field and matt joy reception failed to land in the club account then pound for nikki hitchmore and hooverney martinezs big day wa taken before nadine maraj and shiraz sharif had just over pound vanish into glancys account the fraud which were carried out between march and june were exposed by an investigation launched after lisa patel tried to send glancy an email only for a message to bounce back saying she had left the club wentworth honoured the payment to make sure the wedding went ahead a planned glancys defence counsel robert spencerbernard told the judge that his client wa genuinely remorseful and had paid back the full amount to wentworth the judge had deferred glancys sentencing hearing last month to give her time to prove she had spent the money on charitable cause and to repay the cash',\n",
              "  'Summary': 'patricia glancy conned couple out of money at wentworth golf club she admitted five count of fraud with the stolen money totaling glancy wa today spared jail after proving how the spent stolen money she had donated large sum to charity and took dying friend to new york'},\n",
              " {'Article': 'the secret to staying slim could be in saliva researcher have found that a gene that make a carbbusting compound ha a large influence on weight nicknamed the atkins gene in some quarter after the popular diet it official scientific nickname is the gene make an enzyme that is found in saliva and begin the breakdown and digestion of starchy food like chip crisp and rice carbohydrate researcher have found that a gene that make an enzyme found in saliva begin the breakdown of starchy food and can have a large influence on weight the study showed that people who had more copy of the gene made more of the enzyme and were more likely to be slim although we normally think of gene a coming in pair some people will only have one copy of a gene others will have two three or even more in the case of the gene it possible to have up to copy those who had fewer copy would be likely to find carbohydrate more difficult to digest and therefore more likely to put on weight the journal nature genetics report nickname the gene ha been nicknamed the atkins gene after the popular diet devised by dr robert atkins pictured it is not clear why but one possibility is that the undigested starch is feasted on by gut bacteria that fuel obesity by tinkering with the metabolism the researcher from king college london and imperial college london said that future dietary advice may have to be tailored to a person digestive system professor tim spector the study joint lead author said these finding are very exciting the next step is to find out more about the activity of this digestive enzyme and whether this might prove a useful marker or target for the treatment of obesity in the future a simple blood or saliva test might be used to measure level of key enzyme such a amylase in the body and therefore dietary advice for both overweight and underweight people treatment are a long way away but this is an important step in realising that all of u digest and metabolise food differently and we can move away from onesize fit all diet to more personalised approach',\n",
              "  'Summary': 'gene make a carbbusting compound and can influence weight gene make enzyme in saliva that begin the breakdown of starchy food it ha been nicknamed the atkins gene after the popular diet study find that those with more copy of the gene are likely to be slim'},\n",
              " {'Article': 'by james rush published est june updated est june historian seeking to identify a troop of fallen world war one soldier could be one step closer to cracking the year mystery after tracing the descendant of a young man killed in france in the group of unknown soldier who fell during heavy gunfire during a battle in beaucampsligny france could be identified thanks to dna provided by the greatnephew of private frederick thompson who wa reported missing in action at the age of it is believed private frederick could be one of the found at the site in france in now his greatnephew eric saunders from worcester ha submitted a dna sample in the hope it match with one of the set of remains and prof it belongs to his relative eric saunders ha submitted a dna sample in the hope it will confirm one of the set of remains of soldier found in beaucampsligny france belongs to his great uncle private frederick thompson left and right with his wife wa reported missing in at the age of historian believe he could be one of the soldier found in beaucampsligny france in and historian from the commonwealth war grave commission hope that after the dna testing ha been undertaken they will finally be able to discover their identity and give them a military funeral year on the remains of the soldier were uncovered by farmer digging up sewer in private frederick thompson killed in action early in the first world war may be identified nearly a century after his death archaeologist uncovered partial skeletal remains of men alongside toothbrush and brass button proving the men belonged to the battalion york and lancaster regiment after their remains were uncovered by farmer digging up sewer in one young soldier private frederick thompson killed in action early in the first world war may be identified nearly a century after his death from dna provided by his greatnephew in one of the first dna test on the soldier remains the commission managed to track down private thompson closest living relative his great nephew mr saunders and they are now awaiting the result of his dna test to see if private thompson will be the first unknown soldier to be identified mr saunders said i had no idea that any of my relative served in the great war i feel immensely proud to discover that my great uncle fought for his country i wa stunned to discover that he had been killed at the age of just i have grandchild that age myself and i cant even begin to imagine what those soldier poor mother went through i know it happened to a lot of people but it really hit home to find out that happened to one of my own relative i didnt really know anything about my mother side of the family we were both shocked the number of discovery of remains varies from year to year but since the commonwealth war graf commission ha dealt with an average of about case each year over the last decade the highest number of discovery wa in when case were found while the lowest wa case in each case can involve multiple set of remains bomber crew for example commonly involve seven casualty but generally discovery are of one or two casualty at a time the most common cause of discovery are building work or farmer ploughing field the vast majority of case are in france and belgium in all instance the responsibility for investigation and identification rest with the relevant service authority the armed force of the country for which the individual wa serving the commission responsibility begin when the remains are handed over for burial the commission then identifies the appropriate cemetery usually the closest commonwealth war cemetery in which there is space manufacture the headstone prepare the grave and care for the individual in perpetuity once the burial ha taken place i wa very keen to give a dna sample to try and prove the identity of these unknown hero ive been told it may take several month to come back with a result but i hope i can do my bit to give those men the proper funeral they deserve ive said that i would like to attend the funeral ceremony for the men even if it turn out not to be my uncle remains i feel a though i have a bond with those men now the battalion york and lancaster regiment had been based in ireland at the outbreak of the war landing in france on september and taking part in the battle of armentihres the battalion then headed to fight with the division along a line from preniesques to radinghem in an action that lasted from october to all the men will be laid to rest in the same graveyard with full military honour to mark the centenary of their death in october an mod spokesman said the use of dna can in some case enable u to confirm the identity of remains that are discovered but after many decade result may be inconclusive we always take step to make family fully aware of this possibility dna testing is only used where there is a realistic chance of a positive match being obtained and may not be appropriate in all case the jccc historic casework team undertakes a unique and essential role in investigating where remains of british service personnel are found on wartime battlefield and is always mindful that their work often close a chapter for family who have lost loved one many year ago historic find beaucampsligny is situated to the west of lille in france',\n",
              "  'Summary': 'historian seeking to identify troop of fallen wwi soldier found in france eric saunders provided dna sample to see if one wa his great uncle private frederick thompson wa reported missing in action at the age of'},\n",
              " {'Article': 'a british teenager ha been sentenced to eight year in prison over the stabbing death of a british soldier during a nightclub brawl in cyprus david lee collins from london wa stabbed to death after a fight broke out in a nightclub in the popular resort of ayia napa last november the court said that mohamed abdulkadir osman originally from somalia but living in london wa provoked and lost selfcontrol when he pulled out a switchblade and fatally stabbed mr collins tragic david lee collins wa stabbed to death after a fight broke out in a nightclub in the popular resort of ayia napa last november the photo on the right is thought to be last image taken of him before his death the threejudge bench said that collins had confronted osman and his friend after being punched by an unidentified nightclub patron raising a clenched fist at the group and telling them are you bad men a phrase which the court said is interpreted in britain a a challenge to a fight the court said that it wa a group of friend with collins all of whom were soldier that started the fight the court also took into account that there wa no premeditation on osmans part since he didnt previously know the victim had fully cooperated with investigator and had apologised to the victim family sentenced mohammed abdulkadir osman originally from somalia but believed to have been living in london admitted manslaughter at a court hearing in larnaca on april and returned for sentencin david collins mother lisa minott arrived at the court in larnaca cypru clutching a large handbag with a painted portrait of her son but it discounted osmans consumption of alcohol a a mitigating factor and noted the fact that he had the switchblade on him inside the club carried the possibility of harm being caused police searching osmans hotel room at the time turned up marijuana two brass knuckle and switchblade that the defendant said he bought from a local store a souvenir to take back home and give to friend charge against two other teenager who were both at the time of the stabbing were dropped mr collins from the battalion royal regiment of fusilier died from a ruptured heart caused by a sharp instrument according to a postmortem killed while offduty tribute have been paid to mr collins second left on twitter and a facebook page ha been set up in his memory party mr collins fourth from right in black and red cap wa stabbed to death after a fight broke out in a nightclub scene the stabbing took place during a fight between four soldier and three british tourist at this nightclub he wa stationed at the british army base at dhekelia but wa due to fly to afghanistan the day before he died and his battalion mission wa delayed mr collins mother lisa minott and her sister along with member of his regiment were in court to hear the sentencing mod spokeswoman connie pierce said the attack took place in an area of the eastern mediterranean island that british soldier are told to avoid because of previous incident after the rape and murder of danish tour guide louise jensen by british serviceman in the centre of ayia napa a clubbing resort with a reputation for sex drug and violence wa declared off limit to soldier by military top brass on the island about british military personnel are stationed in cyprus at base retained after the former british colony gained independence in in nine british soldier went on trial accused of trashing a pub and beating up it owner during a mass bar brawl on the island the serviceman who were celebrating finishing tour of iraq and afghanistan and coming home to the uk were all acquitted sorry we are not currently accepting comment on this article',\n",
              "  'Summary': 'david lee collins wa stabbed to death after a fight broke out died after being stabbed in ayia napa nightclub last november mohammed abdulkadir osman originally from somalia wa jailed court collins friend who were all soldier started the fight'}]"
            ]
          },
          "metadata": {},
          "execution_count": 37
        }
      ]
    },
    {
      "cell_type": "markdown",
      "source": [
        "## **Fine-tuned model: Summary Generation against Test Dataset**"
      ],
      "metadata": {
        "id": "scEYgy-ydbOX"
      }
    },
    {
      "cell_type": "code",
      "source": [
        "for example in test_list:\n",
        "    inputs = tokenizer(example['Article'], truncation=True, padding='longest', return_tensors=\"pt\")\n",
        "    # inputs = tokenizer.encode(example['Article'], return_tensors='tf')\n",
        "    summary_ids = model_saved.generate(**inputs)\n",
        "    generated_summary=tokenizer.batch_decode(summary_ids, skip_special_tokens=True)\n",
        "    generated_summaries.append(generated_summary)\n",
        "    target_summaries.append(example['Summary'])"
      ],
      "metadata": {
        "id": "ib4BPYNNdRC2",
        "colab": {
          "base_uri": "https://localhost:8080/"
        },
        "outputId": "4d589eae-7812-41c3-e3da-60af0e68f281"
      },
      "execution_count": 48,
      "outputs": [
        {
          "output_type": "stream",
          "name": "stderr",
          "text": [
            "/usr/local/lib/python3.10/dist-packages/transformers/generation/utils.py:1313: UserWarning: Using `max_length`'s default (256) to control the generation length. This behaviour is deprecated and will be removed from the config in v5 of Transformers -- we recommend using `max_new_tokens` to control the maximum length of the generation.\n",
            "  warnings.warn(\n"
          ]
        }
      ]
    },
    {
      "cell_type": "code",
      "source": [
        "type(generated_summaries)"
      ],
      "metadata": {
        "colab": {
          "base_uri": "https://localhost:8080/"
        },
        "id": "OdpG-OFCqz__",
        "outputId": "8c1c1a10-7f37-4164-d6ad-7abb8d0b1ea2"
      },
      "execution_count": null,
      "outputs": [
        {
          "output_type": "execute_result",
          "data": {
            "text/plain": [
              "list"
            ]
          },
          "metadata": {},
          "execution_count": 99
        }
      ]
    },
    {
      "cell_type": "code",
      "source": [
        "type(target_summaries)"
      ],
      "metadata": {
        "colab": {
          "base_uri": "https://localhost:8080/"
        },
        "id": "b7fX0Iduq3N2",
        "outputId": "2a7f92f4-77bb-4ba0-fef5-da122d966db2"
      },
      "execution_count": null,
      "outputs": [
        {
          "output_type": "execute_result",
          "data": {
            "text/plain": [
              "list"
            ]
          },
          "metadata": {},
          "execution_count": 100
        }
      ]
    },
    {
      "cell_type": "code",
      "source": [
        "!pip install rouge_score"
      ],
      "metadata": {
        "colab": {
          "base_uri": "https://localhost:8080/"
        },
        "id": "d13oj1xSrwr5",
        "outputId": "2582a423-2994-4481-fce7-a42c69d86f96"
      },
      "execution_count": 49,
      "outputs": [
        {
          "output_type": "stream",
          "name": "stdout",
          "text": [
            "Looking in indexes: https://pypi.org/simple, https://us-python.pkg.dev/colab-wheels/public/simple/\n",
            "Collecting rouge_score\n",
            "  Downloading rouge_score-0.1.2.tar.gz (17 kB)\n",
            "  Preparing metadata (setup.py) ... \u001b[?25l\u001b[?25hdone\n",
            "Requirement already satisfied: absl-py in /usr/local/lib/python3.10/dist-packages (from rouge_score) (1.4.0)\n",
            "Requirement already satisfied: nltk in /usr/local/lib/python3.10/dist-packages (from rouge_score) (3.8.1)\n",
            "Requirement already satisfied: numpy in /usr/local/lib/python3.10/dist-packages (from rouge_score) (1.22.4)\n",
            "Requirement already satisfied: six>=1.14.0 in /usr/local/lib/python3.10/dist-packages (from rouge_score) (1.16.0)\n",
            "Requirement already satisfied: regex>=2021.8.3 in /usr/local/lib/python3.10/dist-packages (from nltk->rouge_score) (2022.10.31)\n",
            "Requirement already satisfied: click in /usr/local/lib/python3.10/dist-packages (from nltk->rouge_score) (8.1.3)\n",
            "Requirement already satisfied: tqdm in /usr/local/lib/python3.10/dist-packages (from nltk->rouge_score) (4.65.0)\n",
            "Requirement already satisfied: joblib in /usr/local/lib/python3.10/dist-packages (from nltk->rouge_score) (1.2.0)\n",
            "Building wheels for collected packages: rouge_score\n",
            "  Building wheel for rouge_score (setup.py) ... \u001b[?25l\u001b[?25hdone\n",
            "  Created wheel for rouge_score: filename=rouge_score-0.1.2-py3-none-any.whl size=24954 sha256=79ca370c7668fff3078b293a2e3ab74e172307f4f6c5dd824dbae07d830ad78b\n",
            "  Stored in directory: /root/.cache/pip/wheels/5f/dd/89/461065a73be61a532ff8599a28e9beef17985c9e9c31e541b4\n",
            "Successfully built rouge_score\n",
            "Installing collected packages: rouge_score\n",
            "Successfully installed rouge_score-0.1.2\n"
          ]
        }
      ]
    },
    {
      "cell_type": "code",
      "source": [
        "from rouge_score import rouge_scorer"
      ],
      "metadata": {
        "id": "9S6jaa53rzK9"
      },
      "execution_count": 50,
      "outputs": []
    },
    {
      "cell_type": "code",
      "source": [
        "scorer = rouge_scorer.RougeScorer(['rouge1', 'rouge2', 'rougeL'], use_stemmer=True)"
      ],
      "metadata": {
        "id": "yNk_oDUOr3x5"
      },
      "execution_count": 51,
      "outputs": []
    },
    {
      "cell_type": "code",
      "source": [
        "generated_summaries"
      ],
      "metadata": {
        "colab": {
          "base_uri": "https://localhost:8080/"
        },
        "id": "HTMewylmsZm0",
        "outputId": "cb8bb56c-aa51-42dc-db54-ad66c20cfd52"
      },
      "execution_count": 38,
      "outputs": [
        {
          "output_type": "execute_result",
          "data": {
            "text/plain": [
              "[['cnn palestinian journalist are finding reporting increasingly difficult in the face of the growing abuse toward them by palestinian security force in the west bank and gaza according to a report released wednesday by human right watch the report no news is good news abuse against journalist by palestinian security force criticizes palestinian authority force in the west bank and hamas security force in gaza saying they are abusing local journalist and limiting press freedom in the palestinian territory the report focus on seven incident in the west bank and two in gaza saying they are case in which security force tortured beat and arbitrarily detained journalist confiscated their equipment and barred them from leaving the west bank and gaza human right watch cite a report issued by the palestinian center for development and medium freedom that say there wa a increase in the number of physical attack arrest confiscation of equipment and limitation of movement in the year we respect the human right watch report and other human right organization in what they do on the ground and we have the readiness to investigate each case said maj gen adnan dmeiri spokesman for the palestinian authority security service but he said why dont they consult u and ask u before publishing these report he said the security service will investigate and bring people to justice the pa ha'],\n",
              " ['washington cnn terrorist are likely to use a weapon of mass destruction somewhere in the world in the next five year a blueribbon panel assembled by congress ha concluded police watch over traveler at new york grand central terminal before thanksgiving they are more likely to use a biological weapon than a nuclear one and the result could be devastating the chairman of the commission told cnn the consequence of a biological attack are almost beyond comprehension it would be time or a hundred in term of the number of people who would be killed former sen bob graham said he cited the flu virus that killed million of people in a an example today it is still in the laboratory but if it should get out and into the hand of scientist who knew how to use it for a violent purpose we could have multiple time the million people who were killed year ago he said watch how official worry about a biological terror attack the u government need to move more aggressively to limit the spread of biological weapon the commission said in it report graham warned that such measure would be costly but were necessary the leadership of this country and the world will have to decide how much of a priority they place on avoiding the worst weapon in the world getting in the hand of the worst people in the world he said it is not going to be cheap it is not going to'],\n",
              " ['cavite city philippine cnn at rhandolf fajardo reflects on his former life a a gang member efren peafloridas dynamic teen company offer filipino youth an alternative to gang through education my gang mate were the most influential thing in my life say fajardo who joined a gang when he wa in sixth grade we were pressured to join he not alone in the philippine teenage membership in urban gang ha surged to an estimated in the past year according to the preda foundation a local human right charity i thought id get stuck in that situation and that my life would never improve recall fajardo i would probably be in jail right now most likely a drug addict if i hadnt met efren efren peaflorida also bullied wa by gang in high school today he offer filipino youth an alternative to gang membership through education vote now for the cnn hero of the year gang member are groomed in the slum a early a year old say peaflorida they are all victim of poverty for the past year peaflorida and his team of teen volunteer have taught basic reading and writing to child living on the street their main tool a pushcart classroom stocked with book pen table and chair his dynamic teen company recreates a school setting in unconventional location such a'],\n",
              " ['by ted thornhill last updated at pm on december bored of your surroundings and want to liven thing up or fancy destroying that broken bit of office machinery now there an app thatll add a bit of action movie magic into your life by superimposing dramatic special effect over mobile phone footage action movie fx for iphone come courtesy of jj abrams production company bad robot interactive which is behind star trek super and mission impossible scroll down for mailonlines blockbuster debut kaboom a mailonline reporter find himself in the line of fire dramatic the apps effect are incredibly realistic leave it to the professional the company behind the app bad robot ha plenty of expertise with movie special effect the free app come with two effect a missile strike and a car crash and the result are incredible simply hit record and film a scene then use a slider to mark the point at which you want the fx to begin the missile strike is gigantic and a burning pile of rubble is left behind after the initial explosion the car crash is equally professionallooking swirl of dust precede an suv dropping out of the sky and flying into the camera carnage a terrifying car crash is one of the free effect that come with the app light iphone action for cent you can add in a helicopter crash gunning for filmmaking glory the app also feature fake armed'],\n",
              " ['by chris brooke published est april updated est april a man went berserk and stabbed his fiance because of the stress of trying to win a dream wedding contest a court heard yesterday lee rowlands and madelaine moir both were one of five couple in the competition final who were attempting to win the prize by raising the most money for charity in a week they were working hour a day to try to raise the money when rowlands suffered a psychotic episode he allegedly began hearing voice and attacked miss moir with two kitchen knife a she cowered on the floor strain lee rowlands right and his fiance madelaine moir he he attacked with two kitchen knife during a psychotic episode while desperately trying to win a radio competition for a dream wedding she wa wounded on her breast arm finger and knee and he ran into the street believing he had killed her sheffield crown court wa told yesterday rowlands wa jailed for month after admitting unlawful wounding he will be released in a few week because he ha been in custody for month and would have been automatically freed at the halfway point of his sentence miss moir is said to have stood by him and they still hope to get married the couple had been together for two year before the attack on march last year they entered the competition run by shef'],\n",
              " ['washington cnn the pilot of northwest flight did not fall asleep when they overflew their destination by more than mile in october the national transportation safety board said in a detailed report on the wayward flight the two pilot became distracted by a conversation about the airline new work schedule system and by laptop computer they were using in violation of company policy and did not communicate with air traffic control for about hour and minute while they cruised past their minneapolis minnesota destination at foot the ntsb said the safety board also faulted the federal aviation administration for air traffic control shortcoming the ntsb report give the most complete official account to date of the errant flight which prompted the faa to revoke both pilot license prompted the airline to suspend them from flying and prompted the faa to adopt new procedure to notify the u military in case where the faa loses contact with commercial aircraft according to the account the flight from san diego california wa routine until the plane wa in the denver colorado region there air traffic controller directed the crew of the airbus to change their radio frequency the copilot or first officer acknowledged the frequency change and read back the correct frequency however neither the captain nor the first officer contacted controller on the new frequency until about hour and minute later when winnipeg manitoba controller directed the crew'],\n",
              " ['four police officer involved in the fatal pursuit of a young student used unnecessary excessive and unlawful force against him a court ha heard brazilian student roberto curti died in the early hour of march after a chase and violent struggle with police in sydney cbd in which he wa tasered handcuffed hit with capsicum spray and knelt on policeman scott james edmondson and daniel david barling have been charged with assault occasioning actual bodily harm while chin aun lim and damian john ralph face the charge of assault all four have pleaded not guilty brazilian student roberto curti died in the early hour of march following a chase and violent struggle with police in which he wa tasered handcuffed hit with capsicum spray and knelt on a court heard on monday that the four police officer involved used unnecessary excessive and unlawful force against mr curti on the opening day of a fourweek hearing prosecutor cate dodds on monday said mr curti became increasingly afraid and erratic after taking the drug lsd with two friend on the night of march by the early hour of the morning mr curti wa seen running around the city before going to a convenience store and stealing two packet of tim tam after a triple zero call police initially described the biscuit theft over the radio'],\n",
              " ['by john hall scam patricia glancy conned five couple who were getting married at wentworth golf club a wedding planner who stole from couple marrying at one of britain top golf club ha avoided jail because she spent the money on a friend who wa dying of cancer patricia glancy conned five couple into leaving blank cheque with wentworth golf club in surrey which she would then cash into her own bank account although she admitted stealing the money glancy wa spared prison after it emerged she spent it on taking her dying friend thelma harte on holiday to new york a well a on large donation to cancer charity glancy stole a total of pound cheque between march and june last year and had resigned shortly before the con wa discovered by golf club boss the scheme wa wa finally detected when a bride emailed the club about her wedding preparation only to be told she had not put down a deposit and the organiser had left judge peter moss sitting at guildford crown court today sentenced glancy to six month in prison suspended for month the court heard she had paid back every penny of the stolen money and that the golf club had honoured the wedding of all couple that fell victim to the scam during the trial judge moss wa handed proof glancy used to the cash to pay for a trip'],\n",
              " ['the secret to staying slim could be in saliva researcher have found that a gene that make a carbbusting compound ha a large influence on weight nicknamed the atkins gene in some quarter after the popular diet it official scientific nickname is the gene make an enzyme that is found in saliva and begin the breakdown and digestion of starchy food like chip crisp and rice carbohydrate researcher have found that a gene that make an enzyme found in saliva begin the breakdown of starchy food and can have a large influence on weight the study showed that people who had more copy of the gene made more of the enzyme and were more likely to be slim although we normally think of gene a coming in pair some people will only have one copy of a gene others will have two three or even more in the case of the gene it possible to have up to copy those who had fewer copy would be likely to find carbohydrate more difficult to digest and therefore more likely to put on weight the journal nature genetics report nickname the gene ha been nicknamed the atkins gene after the popular diet devised by dr robert atkins pictured it is not clear why but one possibility is that the undigested starch is feasted on by gut bacteria that fuel obesity by tinkering with the metabolism the researcher from king college london and imperial college london said that future'],\n",
              " ['by james rush published est september updated est june historian seeking to identify a troop of fallen world war one soldier could be one step closer to cracking the year mystery after tracing the descendant of a young man killed in france in the group of unknown soldier who fell during heavy gunfire during a battle in beaucampsligny france could be identified thanks to dna provided by the greatnephew of private frederick thompson who wa reported missing in september at the age of it is believed private frederick could be one of the found at the site in france in now his greatnephew eric saunders from worcester ha submitted a dna sample in the hope it match with one of the set of remains and prof it belongs to his relative eric saunders ha submitted a dna sample in the hope it will confirm one of the set of remains of soldier found in beaucampsligny france belongs to his great uncle private frederick thompson left and right with his wife wa reported missing in september at the age of historian believe he could be one of the soldier found in beaucampsligny france in and historian from the commonwealth war grave commission hope that after the dna testing ha been undertaken they will finally be able to discover their identity'],\n",
              " ['a british teenager ha been sentenced to eight year in prison over the stabbing death of a british soldier during a nightclub brawl in cyprus david lee collins from london wa stabbed to death after a fight broke out in a nightclub in the popular resort of ayia napa last november the court said that mohamed abdulkadir osman originally from somalia but living in london wa provoked and lost selfcontrol when he pulled out a switchblade and fatally stabbed mr collins tragic david lee collins wa stabbed to death after a fight broke out in a nightclub in the popular resort of ayia napa last november the photo on the right is thought to be last image taken of him before his death the threejudge bench said that collins had confronted osman and his friend after being punched by an unidentified nightclub patron raising a clenched fist at the group and telling them are you bad men a phrase which the court said is interpreted in britain a a challenge to a fight the court said that it wa a group of friend with collins all of whom were soldier that started the fight the court also took into account that there wa no premeditation for violence on osmans part since he didnt previously know the victim']]"
            ]
          },
          "metadata": {},
          "execution_count": 38
        }
      ]
    },
    {
      "cell_type": "code",
      "source": [
        "#Converting list of list of strings to list of strings for better comparsion for score\n",
        "single_list_generated_summaries = [item for sublist in generated_summaries for item in sublist]"
      ],
      "metadata": {
        "id": "aZHVfdlUvj63"
      },
      "execution_count": 52,
      "outputs": []
    },
    {
      "cell_type": "code",
      "source": [
        "len(single_list_generated_summaries)"
      ],
      "metadata": {
        "colab": {
          "base_uri": "https://localhost:8080/"
        },
        "id": "wH2yTucYwj3c",
        "outputId": "b19a3866-e4c1-49fb-aec1-7bfa99e688fc"
      },
      "execution_count": null,
      "outputs": [
        {
          "output_type": "execute_result",
          "data": {
            "text/plain": [
              "11"
            ]
          },
          "metadata": {},
          "execution_count": 123
        }
      ]
    },
    {
      "cell_type": "code",
      "source": [
        "len(target_summaries)"
      ],
      "metadata": {
        "colab": {
          "base_uri": "https://localhost:8080/"
        },
        "id": "2wGP6NKHw3P_",
        "outputId": "f1ca432e-bece-4306-a91e-e26e6081e89c"
      },
      "execution_count": null,
      "outputs": [
        {
          "output_type": "execute_result",
          "data": {
            "text/plain": [
              "11"
            ]
          },
          "metadata": {},
          "execution_count": 130
        }
      ]
    },
    {
      "cell_type": "code",
      "source": [
        "target_summaries"
      ],
      "metadata": {
        "colab": {
          "base_uri": "https://localhost:8080/"
        },
        "id": "yR2bSX4wxUbJ",
        "outputId": "c7514db5-5d0c-42da-c163-8f826da87537"
      },
      "execution_count": 40,
      "outputs": [
        {
          "output_type": "execute_result",
          "data": {
            "text/plain": [
              "['new palestinian security force say they will investigate the allegation the human right watch report focus on seven incident in the west bank and two in gaza journalist were tortured beat and arbitrarily detained the report say the rift between fatah and hamas is behind most of the incident it say',\n",
              " 'new next terror attack on u likely to originate in pakistan tribal area report say terrorist with biological weapon could kill million panel chairman say biological attack more likely than nuclear attack report say number of nation with nuclear weapon also growing panel say',\n",
              " 'efren peaflorida wa bullied by gang in high school in the philippine now his dynamic teen company offer an alternative to gang through education since some member have taught more than child in slum vote now for the cnn hero of the year at cnncomheroes',\n",
              " 'the free iphone app come with a missile strike and a car crash',\n",
              " 'lee rowlands tried to raise a day for charity to win the competition but the strain got too much and he suffered a psychotic episode he stabbed fiance madelaine moir in the breast arm finger and knee',\n",
              " 'first officer didnt completely load radio frequency ntsb say he and pilot then were distracted by discussion personal computer ntsb say ntsb also blame air traffic controller for not realizing problem earlier',\n",
              " 'a court heard that four police officer used unnecessary excessive and unlawful force against a student brazilian student roberto curtis died in march following a chase and violent struggle with police in which he wa tasered all officer have pleaded not guilty a four week hearing commenced on monday',\n",
              " 'patricia glancy conned couple out of money at wentworth golf club she admitted five count of fraud with the stolen money totaling glancy wa today spared jail after proving how the spent stolen money she had donated large sum to charity and took dying friend to new york',\n",
              " 'gene make a carbbusting compound and can influence weight gene make enzyme in saliva that begin the breakdown of starchy food it ha been nicknamed the atkins gene after the popular diet study find that those with more copy of the gene are likely to be slim',\n",
              " 'historian seeking to identify troop of fallen wwi soldier found in france eric saunders provided dna sample to see if one wa his great uncle private frederick thompson wa reported missing in action at the age of',\n",
              " 'david lee collins wa stabbed to death after a fight broke out died after being stabbed in ayia napa nightclub last november mohammed abdulkadir osman originally from somalia wa jailed court collins friend who were all soldier started the fight']"
            ]
          },
          "metadata": {},
          "execution_count": 40
        }
      ]
    },
    {
      "cell_type": "markdown",
      "source": [
        "## **Calculating scores against the summaries generated by the trained model and the expected summaries**"
      ],
      "metadata": {
        "id": "VdTqudsAd2gV"
      }
    },
    {
      "cell_type": "code",
      "source": [
        "from rouge import Rouge\n",
        "rouge = Rouge()\n",
        "# Calculating scores against the summaries generated by the trained model and the expected summaries\n",
        "scores = rouge.get_scores(single_list_generated_summaries, target_summaries, avg=True)\n",
        "print(scores)"
      ],
      "metadata": {
        "colab": {
          "base_uri": "https://localhost:8080/"
        },
        "id": "x4dImShKv-Vj",
        "outputId": "21ca3535-667c-46da-f409-702b47515c6d"
      },
      "execution_count": 53,
      "outputs": [
        {
          "output_type": "stream",
          "name": "stdout",
          "text": [
            "{'rouge-1': {'r': 0.8356025990932, 'p': 0.22437636671207664, 'f': 0.3486692866284592}, 'rouge-2': {'r': 0.4799314497535841, 'p': 0.0942670631540141, 'f': 0.15485379445029335}, 'rouge-l': {'r': 0.635093258706883, 'p': 0.17049841183233563, 'f': 0.26437905424348596}}\n"
          ]
        }
      ]
    },
    {
      "cell_type": "code",
      "source": [
        "thresholds = {\n",
        "    'rouge-1': 0.3,\n",
        "    'rouge-2': 0.15,\n",
        "    'rouge-l': 0.25\n",
        "}\n",
        "\n",
        "n_correct = 0\n",
        "for i in range(len(generated_summaries)):\n",
        "    is_correct = True\n",
        "    for metric, threshold in thresholds.items():\n",
        "        if scores[metric]['f'] < threshold:\n",
        "            is_correct = False\n",
        "            break\n",
        "    if is_correct:\n",
        "        n_correct += 1\n",
        "\n",
        "accuracy = n_correct / len(generated_summaries)\n",
        "print('Accuracy:', accuracy)"
      ],
      "metadata": {
        "id": "ueS9UK4pxknG",
        "colab": {
          "base_uri": "https://localhost:8080/"
        },
        "outputId": "438a4e32-d305-44ef-9ce3-b316ba89be0f"
      },
      "execution_count": 54,
      "outputs": [
        {
          "output_type": "stream",
          "name": "stdout",
          "text": [
            "Accuracy: 1.0\n"
          ]
        }
      ]
    }
  ],
  "metadata": {
    "colab": {
      "provenance": []
    },
    "gpuClass": "standard",
    "kernelspec": {
      "display_name": "Python 3",
      "language": "python",
      "name": "python3"
    },
    "language_info": {
      "codemirror_mode": {
        "name": "ipython",
        "version": 3
      },
      "file_extension": ".py",
      "mimetype": "text/x-python",
      "name": "python",
      "nbconvert_exporter": "python",
      "pygments_lexer": "ipython3",
      "version": "3.7.12"
    },
    "widgets": {
      "application/vnd.jupyter.widget-state+json": {
        "ea374a3a5bd74ee5839029f0b4261e79": {
          "model_module": "@jupyter-widgets/controls",
          "model_name": "HBoxModel",
          "model_module_version": "1.5.0",
          "state": {
            "_dom_classes": [],
            "_model_module": "@jupyter-widgets/controls",
            "_model_module_version": "1.5.0",
            "_model_name": "HBoxModel",
            "_view_count": null,
            "_view_module": "@jupyter-widgets/controls",
            "_view_module_version": "1.5.0",
            "_view_name": "HBoxView",
            "box_style": "",
            "children": [
              "IPY_MODEL_516b63122e9a40a49451a93e4be7dbdb",
              "IPY_MODEL_94a33767450a48c49a5ecf4373e65870",
              "IPY_MODEL_74580492a866454cb7da2c1965432253"
            ],
            "layout": "IPY_MODEL_c4ce4b62c69c40e28501b6efdc63a123"
          }
        },
        "516b63122e9a40a49451a93e4be7dbdb": {
          "model_module": "@jupyter-widgets/controls",
          "model_name": "HTMLModel",
          "model_module_version": "1.5.0",
          "state": {
            "_dom_classes": [],
            "_model_module": "@jupyter-widgets/controls",
            "_model_module_version": "1.5.0",
            "_model_name": "HTMLModel",
            "_view_count": null,
            "_view_module": "@jupyter-widgets/controls",
            "_view_module_version": "1.5.0",
            "_view_name": "HTMLView",
            "description": "",
            "description_tooltip": null,
            "layout": "IPY_MODEL_66e9f59fb0b7498d9ae5cb5df5cfc116",
            "placeholder": "​",
            "style": "IPY_MODEL_b03d2c594b874ccdb1cebeccd71db307",
            "value": "Downloading (…)lve/main/config.json: 100%"
          }
        },
        "94a33767450a48c49a5ecf4373e65870": {
          "model_module": "@jupyter-widgets/controls",
          "model_name": "FloatProgressModel",
          "model_module_version": "1.5.0",
          "state": {
            "_dom_classes": [],
            "_model_module": "@jupyter-widgets/controls",
            "_model_module_version": "1.5.0",
            "_model_name": "FloatProgressModel",
            "_view_count": null,
            "_view_module": "@jupyter-widgets/controls",
            "_view_module_version": "1.5.0",
            "_view_name": "ProgressView",
            "bar_style": "success",
            "description": "",
            "description_tooltip": null,
            "layout": "IPY_MODEL_3c60f2ddc6ca49f0afcc301335b86d71",
            "max": 3094,
            "min": 0,
            "orientation": "horizontal",
            "style": "IPY_MODEL_5c84dccc2b7544a6a2911359ff473765",
            "value": 3094
          }
        },
        "74580492a866454cb7da2c1965432253": {
          "model_module": "@jupyter-widgets/controls",
          "model_name": "HTMLModel",
          "model_module_version": "1.5.0",
          "state": {
            "_dom_classes": [],
            "_model_module": "@jupyter-widgets/controls",
            "_model_module_version": "1.5.0",
            "_model_name": "HTMLModel",
            "_view_count": null,
            "_view_module": "@jupyter-widgets/controls",
            "_view_module_version": "1.5.0",
            "_view_name": "HTMLView",
            "description": "",
            "description_tooltip": null,
            "layout": "IPY_MODEL_5ab5fce9f7d745cfbc946e758ca63748",
            "placeholder": "​",
            "style": "IPY_MODEL_7b7dbbff6ada4f95a5cd26bdedfbe681",
            "value": " 3.09k/3.09k [00:00&lt;00:00, 237kB/s]"
          }
        },
        "c4ce4b62c69c40e28501b6efdc63a123": {
          "model_module": "@jupyter-widgets/base",
          "model_name": "LayoutModel",
          "model_module_version": "1.2.0",
          "state": {
            "_model_module": "@jupyter-widgets/base",
            "_model_module_version": "1.2.0",
            "_model_name": "LayoutModel",
            "_view_count": null,
            "_view_module": "@jupyter-widgets/base",
            "_view_module_version": "1.2.0",
            "_view_name": "LayoutView",
            "align_content": null,
            "align_items": null,
            "align_self": null,
            "border": null,
            "bottom": null,
            "display": null,
            "flex": null,
            "flex_flow": null,
            "grid_area": null,
            "grid_auto_columns": null,
            "grid_auto_flow": null,
            "grid_auto_rows": null,
            "grid_column": null,
            "grid_gap": null,
            "grid_row": null,
            "grid_template_areas": null,
            "grid_template_columns": null,
            "grid_template_rows": null,
            "height": null,
            "justify_content": null,
            "justify_items": null,
            "left": null,
            "margin": null,
            "max_height": null,
            "max_width": null,
            "min_height": null,
            "min_width": null,
            "object_fit": null,
            "object_position": null,
            "order": null,
            "overflow": null,
            "overflow_x": null,
            "overflow_y": null,
            "padding": null,
            "right": null,
            "top": null,
            "visibility": null,
            "width": null
          }
        },
        "66e9f59fb0b7498d9ae5cb5df5cfc116": {
          "model_module": "@jupyter-widgets/base",
          "model_name": "LayoutModel",
          "model_module_version": "1.2.0",
          "state": {
            "_model_module": "@jupyter-widgets/base",
            "_model_module_version": "1.2.0",
            "_model_name": "LayoutModel",
            "_view_count": null,
            "_view_module": "@jupyter-widgets/base",
            "_view_module_version": "1.2.0",
            "_view_name": "LayoutView",
            "align_content": null,
            "align_items": null,
            "align_self": null,
            "border": null,
            "bottom": null,
            "display": null,
            "flex": null,
            "flex_flow": null,
            "grid_area": null,
            "grid_auto_columns": null,
            "grid_auto_flow": null,
            "grid_auto_rows": null,
            "grid_column": null,
            "grid_gap": null,
            "grid_row": null,
            "grid_template_areas": null,
            "grid_template_columns": null,
            "grid_template_rows": null,
            "height": null,
            "justify_content": null,
            "justify_items": null,
            "left": null,
            "margin": null,
            "max_height": null,
            "max_width": null,
            "min_height": null,
            "min_width": null,
            "object_fit": null,
            "object_position": null,
            "order": null,
            "overflow": null,
            "overflow_x": null,
            "overflow_y": null,
            "padding": null,
            "right": null,
            "top": null,
            "visibility": null,
            "width": null
          }
        },
        "b03d2c594b874ccdb1cebeccd71db307": {
          "model_module": "@jupyter-widgets/controls",
          "model_name": "DescriptionStyleModel",
          "model_module_version": "1.5.0",
          "state": {
            "_model_module": "@jupyter-widgets/controls",
            "_model_module_version": "1.5.0",
            "_model_name": "DescriptionStyleModel",
            "_view_count": null,
            "_view_module": "@jupyter-widgets/base",
            "_view_module_version": "1.2.0",
            "_view_name": "StyleView",
            "description_width": ""
          }
        },
        "3c60f2ddc6ca49f0afcc301335b86d71": {
          "model_module": "@jupyter-widgets/base",
          "model_name": "LayoutModel",
          "model_module_version": "1.2.0",
          "state": {
            "_model_module": "@jupyter-widgets/base",
            "_model_module_version": "1.2.0",
            "_model_name": "LayoutModel",
            "_view_count": null,
            "_view_module": "@jupyter-widgets/base",
            "_view_module_version": "1.2.0",
            "_view_name": "LayoutView",
            "align_content": null,
            "align_items": null,
            "align_self": null,
            "border": null,
            "bottom": null,
            "display": null,
            "flex": null,
            "flex_flow": null,
            "grid_area": null,
            "grid_auto_columns": null,
            "grid_auto_flow": null,
            "grid_auto_rows": null,
            "grid_column": null,
            "grid_gap": null,
            "grid_row": null,
            "grid_template_areas": null,
            "grid_template_columns": null,
            "grid_template_rows": null,
            "height": null,
            "justify_content": null,
            "justify_items": null,
            "left": null,
            "margin": null,
            "max_height": null,
            "max_width": null,
            "min_height": null,
            "min_width": null,
            "object_fit": null,
            "object_position": null,
            "order": null,
            "overflow": null,
            "overflow_x": null,
            "overflow_y": null,
            "padding": null,
            "right": null,
            "top": null,
            "visibility": null,
            "width": null
          }
        },
        "5c84dccc2b7544a6a2911359ff473765": {
          "model_module": "@jupyter-widgets/controls",
          "model_name": "ProgressStyleModel",
          "model_module_version": "1.5.0",
          "state": {
            "_model_module": "@jupyter-widgets/controls",
            "_model_module_version": "1.5.0",
            "_model_name": "ProgressStyleModel",
            "_view_count": null,
            "_view_module": "@jupyter-widgets/base",
            "_view_module_version": "1.2.0",
            "_view_name": "StyleView",
            "bar_color": null,
            "description_width": ""
          }
        },
        "5ab5fce9f7d745cfbc946e758ca63748": {
          "model_module": "@jupyter-widgets/base",
          "model_name": "LayoutModel",
          "model_module_version": "1.2.0",
          "state": {
            "_model_module": "@jupyter-widgets/base",
            "_model_module_version": "1.2.0",
            "_model_name": "LayoutModel",
            "_view_count": null,
            "_view_module": "@jupyter-widgets/base",
            "_view_module_version": "1.2.0",
            "_view_name": "LayoutView",
            "align_content": null,
            "align_items": null,
            "align_self": null,
            "border": null,
            "bottom": null,
            "display": null,
            "flex": null,
            "flex_flow": null,
            "grid_area": null,
            "grid_auto_columns": null,
            "grid_auto_flow": null,
            "grid_auto_rows": null,
            "grid_column": null,
            "grid_gap": null,
            "grid_row": null,
            "grid_template_areas": null,
            "grid_template_columns": null,
            "grid_template_rows": null,
            "height": null,
            "justify_content": null,
            "justify_items": null,
            "left": null,
            "margin": null,
            "max_height": null,
            "max_width": null,
            "min_height": null,
            "min_width": null,
            "object_fit": null,
            "object_position": null,
            "order": null,
            "overflow": null,
            "overflow_x": null,
            "overflow_y": null,
            "padding": null,
            "right": null,
            "top": null,
            "visibility": null,
            "width": null
          }
        },
        "7b7dbbff6ada4f95a5cd26bdedfbe681": {
          "model_module": "@jupyter-widgets/controls",
          "model_name": "DescriptionStyleModel",
          "model_module_version": "1.5.0",
          "state": {
            "_model_module": "@jupyter-widgets/controls",
            "_model_module_version": "1.5.0",
            "_model_name": "DescriptionStyleModel",
            "_view_count": null,
            "_view_module": "@jupyter-widgets/base",
            "_view_module_version": "1.2.0",
            "_view_name": "StyleView",
            "description_width": ""
          }
        },
        "10d60decb2a5410bb9225d67e6c2e5a3": {
          "model_module": "@jupyter-widgets/controls",
          "model_name": "HBoxModel",
          "model_module_version": "1.5.0",
          "state": {
            "_dom_classes": [],
            "_model_module": "@jupyter-widgets/controls",
            "_model_module_version": "1.5.0",
            "_model_name": "HBoxModel",
            "_view_count": null,
            "_view_module": "@jupyter-widgets/controls",
            "_view_module_version": "1.5.0",
            "_view_name": "HBoxView",
            "box_style": "",
            "children": [
              "IPY_MODEL_2daf2ecb256f4057b4c15fe7852273e6",
              "IPY_MODEL_58d8c024addd4a7abba3ad6ef4780661",
              "IPY_MODEL_632bbcf689654b45be2dc80289d26b99"
            ],
            "layout": "IPY_MODEL_f21df4ab213c4d258a8f25c82afe9df6"
          }
        },
        "2daf2ecb256f4057b4c15fe7852273e6": {
          "model_module": "@jupyter-widgets/controls",
          "model_name": "HTMLModel",
          "model_module_version": "1.5.0",
          "state": {
            "_dom_classes": [],
            "_model_module": "@jupyter-widgets/controls",
            "_model_module_version": "1.5.0",
            "_model_name": "HTMLModel",
            "_view_count": null,
            "_view_module": "@jupyter-widgets/controls",
            "_view_module_version": "1.5.0",
            "_view_name": "HTMLView",
            "description": "",
            "description_tooltip": null,
            "layout": "IPY_MODEL_9c4bbbf9af86492ebbda6d353d7a60df",
            "placeholder": "​",
            "style": "IPY_MODEL_4efc18ef9fa64710a20963f49e0b2900",
            "value": "Downloading (…)okenizer_config.json: 100%"
          }
        },
        "58d8c024addd4a7abba3ad6ef4780661": {
          "model_module": "@jupyter-widgets/controls",
          "model_name": "FloatProgressModel",
          "model_module_version": "1.5.0",
          "state": {
            "_dom_classes": [],
            "_model_module": "@jupyter-widgets/controls",
            "_model_module_version": "1.5.0",
            "_model_name": "FloatProgressModel",
            "_view_count": null,
            "_view_module": "@jupyter-widgets/controls",
            "_view_module_version": "1.5.0",
            "_view_name": "ProgressView",
            "bar_style": "success",
            "description": "",
            "description_tooltip": null,
            "layout": "IPY_MODEL_4be23910e418479ba87f7eabec4d4300",
            "max": 88,
            "min": 0,
            "orientation": "horizontal",
            "style": "IPY_MODEL_b6714500ba08461299027e616aae97e8",
            "value": 88
          }
        },
        "632bbcf689654b45be2dc80289d26b99": {
          "model_module": "@jupyter-widgets/controls",
          "model_name": "HTMLModel",
          "model_module_version": "1.5.0",
          "state": {
            "_dom_classes": [],
            "_model_module": "@jupyter-widgets/controls",
            "_model_module_version": "1.5.0",
            "_model_name": "HTMLModel",
            "_view_count": null,
            "_view_module": "@jupyter-widgets/controls",
            "_view_module_version": "1.5.0",
            "_view_name": "HTMLView",
            "description": "",
            "description_tooltip": null,
            "layout": "IPY_MODEL_28950879b6694b72a74d6ddd9de9bd85",
            "placeholder": "​",
            "style": "IPY_MODEL_9493772175714c6d8f0c57ea884666c9",
            "value": " 88.0/88.0 [00:00&lt;00:00, 4.29kB/s]"
          }
        },
        "f21df4ab213c4d258a8f25c82afe9df6": {
          "model_module": "@jupyter-widgets/base",
          "model_name": "LayoutModel",
          "model_module_version": "1.2.0",
          "state": {
            "_model_module": "@jupyter-widgets/base",
            "_model_module_version": "1.2.0",
            "_model_name": "LayoutModel",
            "_view_count": null,
            "_view_module": "@jupyter-widgets/base",
            "_view_module_version": "1.2.0",
            "_view_name": "LayoutView",
            "align_content": null,
            "align_items": null,
            "align_self": null,
            "border": null,
            "bottom": null,
            "display": null,
            "flex": null,
            "flex_flow": null,
            "grid_area": null,
            "grid_auto_columns": null,
            "grid_auto_flow": null,
            "grid_auto_rows": null,
            "grid_column": null,
            "grid_gap": null,
            "grid_row": null,
            "grid_template_areas": null,
            "grid_template_columns": null,
            "grid_template_rows": null,
            "height": null,
            "justify_content": null,
            "justify_items": null,
            "left": null,
            "margin": null,
            "max_height": null,
            "max_width": null,
            "min_height": null,
            "min_width": null,
            "object_fit": null,
            "object_position": null,
            "order": null,
            "overflow": null,
            "overflow_x": null,
            "overflow_y": null,
            "padding": null,
            "right": null,
            "top": null,
            "visibility": null,
            "width": null
          }
        },
        "9c4bbbf9af86492ebbda6d353d7a60df": {
          "model_module": "@jupyter-widgets/base",
          "model_name": "LayoutModel",
          "model_module_version": "1.2.0",
          "state": {
            "_model_module": "@jupyter-widgets/base",
            "_model_module_version": "1.2.0",
            "_model_name": "LayoutModel",
            "_view_count": null,
            "_view_module": "@jupyter-widgets/base",
            "_view_module_version": "1.2.0",
            "_view_name": "LayoutView",
            "align_content": null,
            "align_items": null,
            "align_self": null,
            "border": null,
            "bottom": null,
            "display": null,
            "flex": null,
            "flex_flow": null,
            "grid_area": null,
            "grid_auto_columns": null,
            "grid_auto_flow": null,
            "grid_auto_rows": null,
            "grid_column": null,
            "grid_gap": null,
            "grid_row": null,
            "grid_template_areas": null,
            "grid_template_columns": null,
            "grid_template_rows": null,
            "height": null,
            "justify_content": null,
            "justify_items": null,
            "left": null,
            "margin": null,
            "max_height": null,
            "max_width": null,
            "min_height": null,
            "min_width": null,
            "object_fit": null,
            "object_position": null,
            "order": null,
            "overflow": null,
            "overflow_x": null,
            "overflow_y": null,
            "padding": null,
            "right": null,
            "top": null,
            "visibility": null,
            "width": null
          }
        },
        "4efc18ef9fa64710a20963f49e0b2900": {
          "model_module": "@jupyter-widgets/controls",
          "model_name": "DescriptionStyleModel",
          "model_module_version": "1.5.0",
          "state": {
            "_model_module": "@jupyter-widgets/controls",
            "_model_module_version": "1.5.0",
            "_model_name": "DescriptionStyleModel",
            "_view_count": null,
            "_view_module": "@jupyter-widgets/base",
            "_view_module_version": "1.2.0",
            "_view_name": "StyleView",
            "description_width": ""
          }
        },
        "4be23910e418479ba87f7eabec4d4300": {
          "model_module": "@jupyter-widgets/base",
          "model_name": "LayoutModel",
          "model_module_version": "1.2.0",
          "state": {
            "_model_module": "@jupyter-widgets/base",
            "_model_module_version": "1.2.0",
            "_model_name": "LayoutModel",
            "_view_count": null,
            "_view_module": "@jupyter-widgets/base",
            "_view_module_version": "1.2.0",
            "_view_name": "LayoutView",
            "align_content": null,
            "align_items": null,
            "align_self": null,
            "border": null,
            "bottom": null,
            "display": null,
            "flex": null,
            "flex_flow": null,
            "grid_area": null,
            "grid_auto_columns": null,
            "grid_auto_flow": null,
            "grid_auto_rows": null,
            "grid_column": null,
            "grid_gap": null,
            "grid_row": null,
            "grid_template_areas": null,
            "grid_template_columns": null,
            "grid_template_rows": null,
            "height": null,
            "justify_content": null,
            "justify_items": null,
            "left": null,
            "margin": null,
            "max_height": null,
            "max_width": null,
            "min_height": null,
            "min_width": null,
            "object_fit": null,
            "object_position": null,
            "order": null,
            "overflow": null,
            "overflow_x": null,
            "overflow_y": null,
            "padding": null,
            "right": null,
            "top": null,
            "visibility": null,
            "width": null
          }
        },
        "b6714500ba08461299027e616aae97e8": {
          "model_module": "@jupyter-widgets/controls",
          "model_name": "ProgressStyleModel",
          "model_module_version": "1.5.0",
          "state": {
            "_model_module": "@jupyter-widgets/controls",
            "_model_module_version": "1.5.0",
            "_model_name": "ProgressStyleModel",
            "_view_count": null,
            "_view_module": "@jupyter-widgets/base",
            "_view_module_version": "1.2.0",
            "_view_name": "StyleView",
            "bar_color": null,
            "description_width": ""
          }
        },
        "28950879b6694b72a74d6ddd9de9bd85": {
          "model_module": "@jupyter-widgets/base",
          "model_name": "LayoutModel",
          "model_module_version": "1.2.0",
          "state": {
            "_model_module": "@jupyter-widgets/base",
            "_model_module_version": "1.2.0",
            "_model_name": "LayoutModel",
            "_view_count": null,
            "_view_module": "@jupyter-widgets/base",
            "_view_module_version": "1.2.0",
            "_view_name": "LayoutView",
            "align_content": null,
            "align_items": null,
            "align_self": null,
            "border": null,
            "bottom": null,
            "display": null,
            "flex": null,
            "flex_flow": null,
            "grid_area": null,
            "grid_auto_columns": null,
            "grid_auto_flow": null,
            "grid_auto_rows": null,
            "grid_column": null,
            "grid_gap": null,
            "grid_row": null,
            "grid_template_areas": null,
            "grid_template_columns": null,
            "grid_template_rows": null,
            "height": null,
            "justify_content": null,
            "justify_items": null,
            "left": null,
            "margin": null,
            "max_height": null,
            "max_width": null,
            "min_height": null,
            "min_width": null,
            "object_fit": null,
            "object_position": null,
            "order": null,
            "overflow": null,
            "overflow_x": null,
            "overflow_y": null,
            "padding": null,
            "right": null,
            "top": null,
            "visibility": null,
            "width": null
          }
        },
        "9493772175714c6d8f0c57ea884666c9": {
          "model_module": "@jupyter-widgets/controls",
          "model_name": "DescriptionStyleModel",
          "model_module_version": "1.5.0",
          "state": {
            "_model_module": "@jupyter-widgets/controls",
            "_model_module_version": "1.5.0",
            "_model_name": "DescriptionStyleModel",
            "_view_count": null,
            "_view_module": "@jupyter-widgets/base",
            "_view_module_version": "1.2.0",
            "_view_name": "StyleView",
            "description_width": ""
          }
        },
        "cf3bce2704394c16a10539ea5a95b7b6": {
          "model_module": "@jupyter-widgets/controls",
          "model_name": "HBoxModel",
          "model_module_version": "1.5.0",
          "state": {
            "_dom_classes": [],
            "_model_module": "@jupyter-widgets/controls",
            "_model_module_version": "1.5.0",
            "_model_name": "HBoxModel",
            "_view_count": null,
            "_view_module": "@jupyter-widgets/controls",
            "_view_module_version": "1.5.0",
            "_view_name": "HBoxView",
            "box_style": "",
            "children": [
              "IPY_MODEL_1d8825af62d44fb3aaf81b0b5ce039d4",
              "IPY_MODEL_82b56cf8e216410cb16711d30e3e8a5f",
              "IPY_MODEL_0546f4e7fa454128847b80f7bc0cec7d"
            ],
            "layout": "IPY_MODEL_b7af03667b8b4fcebed356375024e6c4"
          }
        },
        "1d8825af62d44fb3aaf81b0b5ce039d4": {
          "model_module": "@jupyter-widgets/controls",
          "model_name": "HTMLModel",
          "model_module_version": "1.5.0",
          "state": {
            "_dom_classes": [],
            "_model_module": "@jupyter-widgets/controls",
            "_model_module_version": "1.5.0",
            "_model_name": "HTMLModel",
            "_view_count": null,
            "_view_module": "@jupyter-widgets/controls",
            "_view_module_version": "1.5.0",
            "_view_name": "HTMLView",
            "description": "",
            "description_tooltip": null,
            "layout": "IPY_MODEL_d51e73fb52934d60abc1eacd36b9c5a8",
            "placeholder": "​",
            "style": "IPY_MODEL_ff61fc284d1041f0922233ea8672d279",
            "value": "Downloading (…)ve/main/spiece.model: 100%"
          }
        },
        "82b56cf8e216410cb16711d30e3e8a5f": {
          "model_module": "@jupyter-widgets/controls",
          "model_name": "FloatProgressModel",
          "model_module_version": "1.5.0",
          "state": {
            "_dom_classes": [],
            "_model_module": "@jupyter-widgets/controls",
            "_model_module_version": "1.5.0",
            "_model_name": "FloatProgressModel",
            "_view_count": null,
            "_view_module": "@jupyter-widgets/controls",
            "_view_module_version": "1.5.0",
            "_view_name": "ProgressView",
            "bar_style": "success",
            "description": "",
            "description_tooltip": null,
            "layout": "IPY_MODEL_46127058f146497c86a49d7261de252b",
            "max": 1912529,
            "min": 0,
            "orientation": "horizontal",
            "style": "IPY_MODEL_7267748ce4264fe583fda5f314af33a4",
            "value": 1912529
          }
        },
        "0546f4e7fa454128847b80f7bc0cec7d": {
          "model_module": "@jupyter-widgets/controls",
          "model_name": "HTMLModel",
          "model_module_version": "1.5.0",
          "state": {
            "_dom_classes": [],
            "_model_module": "@jupyter-widgets/controls",
            "_model_module_version": "1.5.0",
            "_model_name": "HTMLModel",
            "_view_count": null,
            "_view_module": "@jupyter-widgets/controls",
            "_view_module_version": "1.5.0",
            "_view_name": "HTMLView",
            "description": "",
            "description_tooltip": null,
            "layout": "IPY_MODEL_7e64c98773224828bb5ee6f7920097d0",
            "placeholder": "​",
            "style": "IPY_MODEL_2a54e94b836647ddb5b318a10e4457e3",
            "value": " 1.91M/1.91M [00:00&lt;00:00, 4.67MB/s]"
          }
        },
        "b7af03667b8b4fcebed356375024e6c4": {
          "model_module": "@jupyter-widgets/base",
          "model_name": "LayoutModel",
          "model_module_version": "1.2.0",
          "state": {
            "_model_module": "@jupyter-widgets/base",
            "_model_module_version": "1.2.0",
            "_model_name": "LayoutModel",
            "_view_count": null,
            "_view_module": "@jupyter-widgets/base",
            "_view_module_version": "1.2.0",
            "_view_name": "LayoutView",
            "align_content": null,
            "align_items": null,
            "align_self": null,
            "border": null,
            "bottom": null,
            "display": null,
            "flex": null,
            "flex_flow": null,
            "grid_area": null,
            "grid_auto_columns": null,
            "grid_auto_flow": null,
            "grid_auto_rows": null,
            "grid_column": null,
            "grid_gap": null,
            "grid_row": null,
            "grid_template_areas": null,
            "grid_template_columns": null,
            "grid_template_rows": null,
            "height": null,
            "justify_content": null,
            "justify_items": null,
            "left": null,
            "margin": null,
            "max_height": null,
            "max_width": null,
            "min_height": null,
            "min_width": null,
            "object_fit": null,
            "object_position": null,
            "order": null,
            "overflow": null,
            "overflow_x": null,
            "overflow_y": null,
            "padding": null,
            "right": null,
            "top": null,
            "visibility": null,
            "width": null
          }
        },
        "d51e73fb52934d60abc1eacd36b9c5a8": {
          "model_module": "@jupyter-widgets/base",
          "model_name": "LayoutModel",
          "model_module_version": "1.2.0",
          "state": {
            "_model_module": "@jupyter-widgets/base",
            "_model_module_version": "1.2.0",
            "_model_name": "LayoutModel",
            "_view_count": null,
            "_view_module": "@jupyter-widgets/base",
            "_view_module_version": "1.2.0",
            "_view_name": "LayoutView",
            "align_content": null,
            "align_items": null,
            "align_self": null,
            "border": null,
            "bottom": null,
            "display": null,
            "flex": null,
            "flex_flow": null,
            "grid_area": null,
            "grid_auto_columns": null,
            "grid_auto_flow": null,
            "grid_auto_rows": null,
            "grid_column": null,
            "grid_gap": null,
            "grid_row": null,
            "grid_template_areas": null,
            "grid_template_columns": null,
            "grid_template_rows": null,
            "height": null,
            "justify_content": null,
            "justify_items": null,
            "left": null,
            "margin": null,
            "max_height": null,
            "max_width": null,
            "min_height": null,
            "min_width": null,
            "object_fit": null,
            "object_position": null,
            "order": null,
            "overflow": null,
            "overflow_x": null,
            "overflow_y": null,
            "padding": null,
            "right": null,
            "top": null,
            "visibility": null,
            "width": null
          }
        },
        "ff61fc284d1041f0922233ea8672d279": {
          "model_module": "@jupyter-widgets/controls",
          "model_name": "DescriptionStyleModel",
          "model_module_version": "1.5.0",
          "state": {
            "_model_module": "@jupyter-widgets/controls",
            "_model_module_version": "1.5.0",
            "_model_name": "DescriptionStyleModel",
            "_view_count": null,
            "_view_module": "@jupyter-widgets/base",
            "_view_module_version": "1.2.0",
            "_view_name": "StyleView",
            "description_width": ""
          }
        },
        "46127058f146497c86a49d7261de252b": {
          "model_module": "@jupyter-widgets/base",
          "model_name": "LayoutModel",
          "model_module_version": "1.2.0",
          "state": {
            "_model_module": "@jupyter-widgets/base",
            "_model_module_version": "1.2.0",
            "_model_name": "LayoutModel",
            "_view_count": null,
            "_view_module": "@jupyter-widgets/base",
            "_view_module_version": "1.2.0",
            "_view_name": "LayoutView",
            "align_content": null,
            "align_items": null,
            "align_self": null,
            "border": null,
            "bottom": null,
            "display": null,
            "flex": null,
            "flex_flow": null,
            "grid_area": null,
            "grid_auto_columns": null,
            "grid_auto_flow": null,
            "grid_auto_rows": null,
            "grid_column": null,
            "grid_gap": null,
            "grid_row": null,
            "grid_template_areas": null,
            "grid_template_columns": null,
            "grid_template_rows": null,
            "height": null,
            "justify_content": null,
            "justify_items": null,
            "left": null,
            "margin": null,
            "max_height": null,
            "max_width": null,
            "min_height": null,
            "min_width": null,
            "object_fit": null,
            "object_position": null,
            "order": null,
            "overflow": null,
            "overflow_x": null,
            "overflow_y": null,
            "padding": null,
            "right": null,
            "top": null,
            "visibility": null,
            "width": null
          }
        },
        "7267748ce4264fe583fda5f314af33a4": {
          "model_module": "@jupyter-widgets/controls",
          "model_name": "ProgressStyleModel",
          "model_module_version": "1.5.0",
          "state": {
            "_model_module": "@jupyter-widgets/controls",
            "_model_module_version": "1.5.0",
            "_model_name": "ProgressStyleModel",
            "_view_count": null,
            "_view_module": "@jupyter-widgets/base",
            "_view_module_version": "1.2.0",
            "_view_name": "StyleView",
            "bar_color": null,
            "description_width": ""
          }
        },
        "7e64c98773224828bb5ee6f7920097d0": {
          "model_module": "@jupyter-widgets/base",
          "model_name": "LayoutModel",
          "model_module_version": "1.2.0",
          "state": {
            "_model_module": "@jupyter-widgets/base",
            "_model_module_version": "1.2.0",
            "_model_name": "LayoutModel",
            "_view_count": null,
            "_view_module": "@jupyter-widgets/base",
            "_view_module_version": "1.2.0",
            "_view_name": "LayoutView",
            "align_content": null,
            "align_items": null,
            "align_self": null,
            "border": null,
            "bottom": null,
            "display": null,
            "flex": null,
            "flex_flow": null,
            "grid_area": null,
            "grid_auto_columns": null,
            "grid_auto_flow": null,
            "grid_auto_rows": null,
            "grid_column": null,
            "grid_gap": null,
            "grid_row": null,
            "grid_template_areas": null,
            "grid_template_columns": null,
            "grid_template_rows": null,
            "height": null,
            "justify_content": null,
            "justify_items": null,
            "left": null,
            "margin": null,
            "max_height": null,
            "max_width": null,
            "min_height": null,
            "min_width": null,
            "object_fit": null,
            "object_position": null,
            "order": null,
            "overflow": null,
            "overflow_x": null,
            "overflow_y": null,
            "padding": null,
            "right": null,
            "top": null,
            "visibility": null,
            "width": null
          }
        },
        "2a54e94b836647ddb5b318a10e4457e3": {
          "model_module": "@jupyter-widgets/controls",
          "model_name": "DescriptionStyleModel",
          "model_module_version": "1.5.0",
          "state": {
            "_model_module": "@jupyter-widgets/controls",
            "_model_module_version": "1.5.0",
            "_model_name": "DescriptionStyleModel",
            "_view_count": null,
            "_view_module": "@jupyter-widgets/base",
            "_view_module_version": "1.2.0",
            "_view_name": "StyleView",
            "description_width": ""
          }
        },
        "159bea387c9b44169d946091cd7f41a2": {
          "model_module": "@jupyter-widgets/controls",
          "model_name": "HBoxModel",
          "model_module_version": "1.5.0",
          "state": {
            "_dom_classes": [],
            "_model_module": "@jupyter-widgets/controls",
            "_model_module_version": "1.5.0",
            "_model_name": "HBoxModel",
            "_view_count": null,
            "_view_module": "@jupyter-widgets/controls",
            "_view_module_version": "1.5.0",
            "_view_name": "HBoxView",
            "box_style": "",
            "children": [
              "IPY_MODEL_846e3e531e154bdbbfcea27efc1fc5d2",
              "IPY_MODEL_405a111232b9419fb846582746fe345c",
              "IPY_MODEL_fbd004efb4b648e18a1c23ba327f7238"
            ],
            "layout": "IPY_MODEL_5b5d01a67e9540e4b0aa4e1057b72e72"
          }
        },
        "846e3e531e154bdbbfcea27efc1fc5d2": {
          "model_module": "@jupyter-widgets/controls",
          "model_name": "HTMLModel",
          "model_module_version": "1.5.0",
          "state": {
            "_dom_classes": [],
            "_model_module": "@jupyter-widgets/controls",
            "_model_module_version": "1.5.0",
            "_model_name": "HTMLModel",
            "_view_count": null,
            "_view_module": "@jupyter-widgets/controls",
            "_view_module_version": "1.5.0",
            "_view_name": "HTMLView",
            "description": "",
            "description_tooltip": null,
            "layout": "IPY_MODEL_7d3533f1b93348baab74a1290ecb4d2a",
            "placeholder": "​",
            "style": "IPY_MODEL_dd1679e6a3e64280a9e8460db672a8f5",
            "value": "Downloading (…)cial_tokens_map.json: 100%"
          }
        },
        "405a111232b9419fb846582746fe345c": {
          "model_module": "@jupyter-widgets/controls",
          "model_name": "FloatProgressModel",
          "model_module_version": "1.5.0",
          "state": {
            "_dom_classes": [],
            "_model_module": "@jupyter-widgets/controls",
            "_model_module_version": "1.5.0",
            "_model_name": "FloatProgressModel",
            "_view_count": null,
            "_view_module": "@jupyter-widgets/controls",
            "_view_module_version": "1.5.0",
            "_view_name": "ProgressView",
            "bar_style": "success",
            "description": "",
            "description_tooltip": null,
            "layout": "IPY_MODEL_1e7ff6ea23cc41c8ba20b4ed1db1f947",
            "max": 65,
            "min": 0,
            "orientation": "horizontal",
            "style": "IPY_MODEL_7b1636f7dd2b4a1193e850b3d7081014",
            "value": 65
          }
        },
        "fbd004efb4b648e18a1c23ba327f7238": {
          "model_module": "@jupyter-widgets/controls",
          "model_name": "HTMLModel",
          "model_module_version": "1.5.0",
          "state": {
            "_dom_classes": [],
            "_model_module": "@jupyter-widgets/controls",
            "_model_module_version": "1.5.0",
            "_model_name": "HTMLModel",
            "_view_count": null,
            "_view_module": "@jupyter-widgets/controls",
            "_view_module_version": "1.5.0",
            "_view_name": "HTMLView",
            "description": "",
            "description_tooltip": null,
            "layout": "IPY_MODEL_8199bebfe5f24702bf4b9d1673a949eb",
            "placeholder": "​",
            "style": "IPY_MODEL_dfbd66b597b3433bb832a6a545499e68",
            "value": " 65.0/65.0 [00:00&lt;00:00, 4.07kB/s]"
          }
        },
        "5b5d01a67e9540e4b0aa4e1057b72e72": {
          "model_module": "@jupyter-widgets/base",
          "model_name": "LayoutModel",
          "model_module_version": "1.2.0",
          "state": {
            "_model_module": "@jupyter-widgets/base",
            "_model_module_version": "1.2.0",
            "_model_name": "LayoutModel",
            "_view_count": null,
            "_view_module": "@jupyter-widgets/base",
            "_view_module_version": "1.2.0",
            "_view_name": "LayoutView",
            "align_content": null,
            "align_items": null,
            "align_self": null,
            "border": null,
            "bottom": null,
            "display": null,
            "flex": null,
            "flex_flow": null,
            "grid_area": null,
            "grid_auto_columns": null,
            "grid_auto_flow": null,
            "grid_auto_rows": null,
            "grid_column": null,
            "grid_gap": null,
            "grid_row": null,
            "grid_template_areas": null,
            "grid_template_columns": null,
            "grid_template_rows": null,
            "height": null,
            "justify_content": null,
            "justify_items": null,
            "left": null,
            "margin": null,
            "max_height": null,
            "max_width": null,
            "min_height": null,
            "min_width": null,
            "object_fit": null,
            "object_position": null,
            "order": null,
            "overflow": null,
            "overflow_x": null,
            "overflow_y": null,
            "padding": null,
            "right": null,
            "top": null,
            "visibility": null,
            "width": null
          }
        },
        "7d3533f1b93348baab74a1290ecb4d2a": {
          "model_module": "@jupyter-widgets/base",
          "model_name": "LayoutModel",
          "model_module_version": "1.2.0",
          "state": {
            "_model_module": "@jupyter-widgets/base",
            "_model_module_version": "1.2.0",
            "_model_name": "LayoutModel",
            "_view_count": null,
            "_view_module": "@jupyter-widgets/base",
            "_view_module_version": "1.2.0",
            "_view_name": "LayoutView",
            "align_content": null,
            "align_items": null,
            "align_self": null,
            "border": null,
            "bottom": null,
            "display": null,
            "flex": null,
            "flex_flow": null,
            "grid_area": null,
            "grid_auto_columns": null,
            "grid_auto_flow": null,
            "grid_auto_rows": null,
            "grid_column": null,
            "grid_gap": null,
            "grid_row": null,
            "grid_template_areas": null,
            "grid_template_columns": null,
            "grid_template_rows": null,
            "height": null,
            "justify_content": null,
            "justify_items": null,
            "left": null,
            "margin": null,
            "max_height": null,
            "max_width": null,
            "min_height": null,
            "min_width": null,
            "object_fit": null,
            "object_position": null,
            "order": null,
            "overflow": null,
            "overflow_x": null,
            "overflow_y": null,
            "padding": null,
            "right": null,
            "top": null,
            "visibility": null,
            "width": null
          }
        },
        "dd1679e6a3e64280a9e8460db672a8f5": {
          "model_module": "@jupyter-widgets/controls",
          "model_name": "DescriptionStyleModel",
          "model_module_version": "1.5.0",
          "state": {
            "_model_module": "@jupyter-widgets/controls",
            "_model_module_version": "1.5.0",
            "_model_name": "DescriptionStyleModel",
            "_view_count": null,
            "_view_module": "@jupyter-widgets/base",
            "_view_module_version": "1.2.0",
            "_view_name": "StyleView",
            "description_width": ""
          }
        },
        "1e7ff6ea23cc41c8ba20b4ed1db1f947": {
          "model_module": "@jupyter-widgets/base",
          "model_name": "LayoutModel",
          "model_module_version": "1.2.0",
          "state": {
            "_model_module": "@jupyter-widgets/base",
            "_model_module_version": "1.2.0",
            "_model_name": "LayoutModel",
            "_view_count": null,
            "_view_module": "@jupyter-widgets/base",
            "_view_module_version": "1.2.0",
            "_view_name": "LayoutView",
            "align_content": null,
            "align_items": null,
            "align_self": null,
            "border": null,
            "bottom": null,
            "display": null,
            "flex": null,
            "flex_flow": null,
            "grid_area": null,
            "grid_auto_columns": null,
            "grid_auto_flow": null,
            "grid_auto_rows": null,
            "grid_column": null,
            "grid_gap": null,
            "grid_row": null,
            "grid_template_areas": null,
            "grid_template_columns": null,
            "grid_template_rows": null,
            "height": null,
            "justify_content": null,
            "justify_items": null,
            "left": null,
            "margin": null,
            "max_height": null,
            "max_width": null,
            "min_height": null,
            "min_width": null,
            "object_fit": null,
            "object_position": null,
            "order": null,
            "overflow": null,
            "overflow_x": null,
            "overflow_y": null,
            "padding": null,
            "right": null,
            "top": null,
            "visibility": null,
            "width": null
          }
        },
        "7b1636f7dd2b4a1193e850b3d7081014": {
          "model_module": "@jupyter-widgets/controls",
          "model_name": "ProgressStyleModel",
          "model_module_version": "1.5.0",
          "state": {
            "_model_module": "@jupyter-widgets/controls",
            "_model_module_version": "1.5.0",
            "_model_name": "ProgressStyleModel",
            "_view_count": null,
            "_view_module": "@jupyter-widgets/base",
            "_view_module_version": "1.2.0",
            "_view_name": "StyleView",
            "bar_color": null,
            "description_width": ""
          }
        },
        "8199bebfe5f24702bf4b9d1673a949eb": {
          "model_module": "@jupyter-widgets/base",
          "model_name": "LayoutModel",
          "model_module_version": "1.2.0",
          "state": {
            "_model_module": "@jupyter-widgets/base",
            "_model_module_version": "1.2.0",
            "_model_name": "LayoutModel",
            "_view_count": null,
            "_view_module": "@jupyter-widgets/base",
            "_view_module_version": "1.2.0",
            "_view_name": "LayoutView",
            "align_content": null,
            "align_items": null,
            "align_self": null,
            "border": null,
            "bottom": null,
            "display": null,
            "flex": null,
            "flex_flow": null,
            "grid_area": null,
            "grid_auto_columns": null,
            "grid_auto_flow": null,
            "grid_auto_rows": null,
            "grid_column": null,
            "grid_gap": null,
            "grid_row": null,
            "grid_template_areas": null,
            "grid_template_columns": null,
            "grid_template_rows": null,
            "height": null,
            "justify_content": null,
            "justify_items": null,
            "left": null,
            "margin": null,
            "max_height": null,
            "max_width": null,
            "min_height": null,
            "min_width": null,
            "object_fit": null,
            "object_position": null,
            "order": null,
            "overflow": null,
            "overflow_x": null,
            "overflow_y": null,
            "padding": null,
            "right": null,
            "top": null,
            "visibility": null,
            "width": null
          }
        },
        "dfbd66b597b3433bb832a6a545499e68": {
          "model_module": "@jupyter-widgets/controls",
          "model_name": "DescriptionStyleModel",
          "model_module_version": "1.5.0",
          "state": {
            "_model_module": "@jupyter-widgets/controls",
            "_model_module_version": "1.5.0",
            "_model_name": "DescriptionStyleModel",
            "_view_count": null,
            "_view_module": "@jupyter-widgets/base",
            "_view_module_version": "1.2.0",
            "_view_name": "StyleView",
            "description_width": ""
          }
        },
        "04ff16790ece45c89b6786f63f18860b": {
          "model_module": "@jupyter-widgets/controls",
          "model_name": "HBoxModel",
          "model_module_version": "1.5.0",
          "state": {
            "_dom_classes": [],
            "_model_module": "@jupyter-widgets/controls",
            "_model_module_version": "1.5.0",
            "_model_name": "HBoxModel",
            "_view_count": null,
            "_view_module": "@jupyter-widgets/controls",
            "_view_module_version": "1.5.0",
            "_view_name": "HBoxView",
            "box_style": "",
            "children": [
              "IPY_MODEL_5b871a248d4e4ab8b1f933207fb33151",
              "IPY_MODEL_a0da39ef1f3a444b98bd199d8179ad56",
              "IPY_MODEL_c53fef9ae8b84a0e9c7344cce0e66238"
            ],
            "layout": "IPY_MODEL_d47370cd1259431f841ab8d1e17d0280"
          }
        },
        "5b871a248d4e4ab8b1f933207fb33151": {
          "model_module": "@jupyter-widgets/controls",
          "model_name": "HTMLModel",
          "model_module_version": "1.5.0",
          "state": {
            "_dom_classes": [],
            "_model_module": "@jupyter-widgets/controls",
            "_model_module_version": "1.5.0",
            "_model_name": "HTMLModel",
            "_view_count": null,
            "_view_module": "@jupyter-widgets/controls",
            "_view_module_version": "1.5.0",
            "_view_name": "HTMLView",
            "description": "",
            "description_tooltip": null,
            "layout": "IPY_MODEL_b45ad84a361b43e498e82a876778016f",
            "placeholder": "​",
            "style": "IPY_MODEL_979ad4e4ca0745a5b22a8f010db52d55",
            "value": "Downloading pytorch_model.bin: 100%"
          }
        },
        "a0da39ef1f3a444b98bd199d8179ad56": {
          "model_module": "@jupyter-widgets/controls",
          "model_name": "FloatProgressModel",
          "model_module_version": "1.5.0",
          "state": {
            "_dom_classes": [],
            "_model_module": "@jupyter-widgets/controls",
            "_model_module_version": "1.5.0",
            "_model_name": "FloatProgressModel",
            "_view_count": null,
            "_view_module": "@jupyter-widgets/controls",
            "_view_module_version": "1.5.0",
            "_view_name": "ProgressView",
            "bar_style": "success",
            "description": "",
            "description_tooltip": null,
            "layout": "IPY_MODEL_8ac6a5bc2060406291adaaf481adaaa7",
            "max": 2275327883,
            "min": 0,
            "orientation": "horizontal",
            "style": "IPY_MODEL_bc6e183d23364e9a8f8c4cbeedc58fbf",
            "value": 2275327883
          }
        },
        "c53fef9ae8b84a0e9c7344cce0e66238": {
          "model_module": "@jupyter-widgets/controls",
          "model_name": "HTMLModel",
          "model_module_version": "1.5.0",
          "state": {
            "_dom_classes": [],
            "_model_module": "@jupyter-widgets/controls",
            "_model_module_version": "1.5.0",
            "_model_name": "HTMLModel",
            "_view_count": null,
            "_view_module": "@jupyter-widgets/controls",
            "_view_module_version": "1.5.0",
            "_view_name": "HTMLView",
            "description": "",
            "description_tooltip": null,
            "layout": "IPY_MODEL_4f2c0dd216834fecb1e6ea679786d51d",
            "placeholder": "​",
            "style": "IPY_MODEL_317c66a18f3b48f4b6138636aaff269e",
            "value": " 2.28G/2.28G [00:23&lt;00:00, 184MB/s]"
          }
        },
        "d47370cd1259431f841ab8d1e17d0280": {
          "model_module": "@jupyter-widgets/base",
          "model_name": "LayoutModel",
          "model_module_version": "1.2.0",
          "state": {
            "_model_module": "@jupyter-widgets/base",
            "_model_module_version": "1.2.0",
            "_model_name": "LayoutModel",
            "_view_count": null,
            "_view_module": "@jupyter-widgets/base",
            "_view_module_version": "1.2.0",
            "_view_name": "LayoutView",
            "align_content": null,
            "align_items": null,
            "align_self": null,
            "border": null,
            "bottom": null,
            "display": null,
            "flex": null,
            "flex_flow": null,
            "grid_area": null,
            "grid_auto_columns": null,
            "grid_auto_flow": null,
            "grid_auto_rows": null,
            "grid_column": null,
            "grid_gap": null,
            "grid_row": null,
            "grid_template_areas": null,
            "grid_template_columns": null,
            "grid_template_rows": null,
            "height": null,
            "justify_content": null,
            "justify_items": null,
            "left": null,
            "margin": null,
            "max_height": null,
            "max_width": null,
            "min_height": null,
            "min_width": null,
            "object_fit": null,
            "object_position": null,
            "order": null,
            "overflow": null,
            "overflow_x": null,
            "overflow_y": null,
            "padding": null,
            "right": null,
            "top": null,
            "visibility": null,
            "width": null
          }
        },
        "b45ad84a361b43e498e82a876778016f": {
          "model_module": "@jupyter-widgets/base",
          "model_name": "LayoutModel",
          "model_module_version": "1.2.0",
          "state": {
            "_model_module": "@jupyter-widgets/base",
            "_model_module_version": "1.2.0",
            "_model_name": "LayoutModel",
            "_view_count": null,
            "_view_module": "@jupyter-widgets/base",
            "_view_module_version": "1.2.0",
            "_view_name": "LayoutView",
            "align_content": null,
            "align_items": null,
            "align_self": null,
            "border": null,
            "bottom": null,
            "display": null,
            "flex": null,
            "flex_flow": null,
            "grid_area": null,
            "grid_auto_columns": null,
            "grid_auto_flow": null,
            "grid_auto_rows": null,
            "grid_column": null,
            "grid_gap": null,
            "grid_row": null,
            "grid_template_areas": null,
            "grid_template_columns": null,
            "grid_template_rows": null,
            "height": null,
            "justify_content": null,
            "justify_items": null,
            "left": null,
            "margin": null,
            "max_height": null,
            "max_width": null,
            "min_height": null,
            "min_width": null,
            "object_fit": null,
            "object_position": null,
            "order": null,
            "overflow": null,
            "overflow_x": null,
            "overflow_y": null,
            "padding": null,
            "right": null,
            "top": null,
            "visibility": null,
            "width": null
          }
        },
        "979ad4e4ca0745a5b22a8f010db52d55": {
          "model_module": "@jupyter-widgets/controls",
          "model_name": "DescriptionStyleModel",
          "model_module_version": "1.5.0",
          "state": {
            "_model_module": "@jupyter-widgets/controls",
            "_model_module_version": "1.5.0",
            "_model_name": "DescriptionStyleModel",
            "_view_count": null,
            "_view_module": "@jupyter-widgets/base",
            "_view_module_version": "1.2.0",
            "_view_name": "StyleView",
            "description_width": ""
          }
        },
        "8ac6a5bc2060406291adaaf481adaaa7": {
          "model_module": "@jupyter-widgets/base",
          "model_name": "LayoutModel",
          "model_module_version": "1.2.0",
          "state": {
            "_model_module": "@jupyter-widgets/base",
            "_model_module_version": "1.2.0",
            "_model_name": "LayoutModel",
            "_view_count": null,
            "_view_module": "@jupyter-widgets/base",
            "_view_module_version": "1.2.0",
            "_view_name": "LayoutView",
            "align_content": null,
            "align_items": null,
            "align_self": null,
            "border": null,
            "bottom": null,
            "display": null,
            "flex": null,
            "flex_flow": null,
            "grid_area": null,
            "grid_auto_columns": null,
            "grid_auto_flow": null,
            "grid_auto_rows": null,
            "grid_column": null,
            "grid_gap": null,
            "grid_row": null,
            "grid_template_areas": null,
            "grid_template_columns": null,
            "grid_template_rows": null,
            "height": null,
            "justify_content": null,
            "justify_items": null,
            "left": null,
            "margin": null,
            "max_height": null,
            "max_width": null,
            "min_height": null,
            "min_width": null,
            "object_fit": null,
            "object_position": null,
            "order": null,
            "overflow": null,
            "overflow_x": null,
            "overflow_y": null,
            "padding": null,
            "right": null,
            "top": null,
            "visibility": null,
            "width": null
          }
        },
        "bc6e183d23364e9a8f8c4cbeedc58fbf": {
          "model_module": "@jupyter-widgets/controls",
          "model_name": "ProgressStyleModel",
          "model_module_version": "1.5.0",
          "state": {
            "_model_module": "@jupyter-widgets/controls",
            "_model_module_version": "1.5.0",
            "_model_name": "ProgressStyleModel",
            "_view_count": null,
            "_view_module": "@jupyter-widgets/base",
            "_view_module_version": "1.2.0",
            "_view_name": "StyleView",
            "bar_color": null,
            "description_width": ""
          }
        },
        "4f2c0dd216834fecb1e6ea679786d51d": {
          "model_module": "@jupyter-widgets/base",
          "model_name": "LayoutModel",
          "model_module_version": "1.2.0",
          "state": {
            "_model_module": "@jupyter-widgets/base",
            "_model_module_version": "1.2.0",
            "_model_name": "LayoutModel",
            "_view_count": null,
            "_view_module": "@jupyter-widgets/base",
            "_view_module_version": "1.2.0",
            "_view_name": "LayoutView",
            "align_content": null,
            "align_items": null,
            "align_self": null,
            "border": null,
            "bottom": null,
            "display": null,
            "flex": null,
            "flex_flow": null,
            "grid_area": null,
            "grid_auto_columns": null,
            "grid_auto_flow": null,
            "grid_auto_rows": null,
            "grid_column": null,
            "grid_gap": null,
            "grid_row": null,
            "grid_template_areas": null,
            "grid_template_columns": null,
            "grid_template_rows": null,
            "height": null,
            "justify_content": null,
            "justify_items": null,
            "left": null,
            "margin": null,
            "max_height": null,
            "max_width": null,
            "min_height": null,
            "min_width": null,
            "object_fit": null,
            "object_position": null,
            "order": null,
            "overflow": null,
            "overflow_x": null,
            "overflow_y": null,
            "padding": null,
            "right": null,
            "top": null,
            "visibility": null,
            "width": null
          }
        },
        "317c66a18f3b48f4b6138636aaff269e": {
          "model_module": "@jupyter-widgets/controls",
          "model_name": "DescriptionStyleModel",
          "model_module_version": "1.5.0",
          "state": {
            "_model_module": "@jupyter-widgets/controls",
            "_model_module_version": "1.5.0",
            "_model_name": "DescriptionStyleModel",
            "_view_count": null,
            "_view_module": "@jupyter-widgets/base",
            "_view_module_version": "1.2.0",
            "_view_name": "StyleView",
            "description_width": ""
          }
        },
        "f0c123bd22cd4d29a4af9b73bd0024fb": {
          "model_module": "@jupyter-widgets/controls",
          "model_name": "HBoxModel",
          "model_module_version": "1.5.0",
          "state": {
            "_dom_classes": [],
            "_model_module": "@jupyter-widgets/controls",
            "_model_module_version": "1.5.0",
            "_model_name": "HBoxModel",
            "_view_count": null,
            "_view_module": "@jupyter-widgets/controls",
            "_view_module_version": "1.5.0",
            "_view_name": "HBoxView",
            "box_style": "",
            "children": [
              "IPY_MODEL_2111790379ed4fe2a49f1e540f45eb9d",
              "IPY_MODEL_ed7ddf8ea45d4c23a3db61f359f5d011",
              "IPY_MODEL_ff35f34a89164ae8ad54ee82acc745f1"
            ],
            "layout": "IPY_MODEL_bef6b59223374dcc8b577e26a08d6316"
          }
        },
        "2111790379ed4fe2a49f1e540f45eb9d": {
          "model_module": "@jupyter-widgets/controls",
          "model_name": "HTMLModel",
          "model_module_version": "1.5.0",
          "state": {
            "_dom_classes": [],
            "_model_module": "@jupyter-widgets/controls",
            "_model_module_version": "1.5.0",
            "_model_name": "HTMLModel",
            "_view_count": null,
            "_view_module": "@jupyter-widgets/controls",
            "_view_module_version": "1.5.0",
            "_view_name": "HTMLView",
            "description": "",
            "description_tooltip": null,
            "layout": "IPY_MODEL_2ec7c24e550b4b4cbd7b5c49b09a4f0a",
            "placeholder": "​",
            "style": "IPY_MODEL_a32edcf47295462f8fdb3ee85357d198",
            "value": "Downloading (…)neration_config.json: 100%"
          }
        },
        "ed7ddf8ea45d4c23a3db61f359f5d011": {
          "model_module": "@jupyter-widgets/controls",
          "model_name": "FloatProgressModel",
          "model_module_version": "1.5.0",
          "state": {
            "_dom_classes": [],
            "_model_module": "@jupyter-widgets/controls",
            "_model_module_version": "1.5.0",
            "_model_name": "FloatProgressModel",
            "_view_count": null,
            "_view_module": "@jupyter-widgets/controls",
            "_view_module_version": "1.5.0",
            "_view_name": "ProgressView",
            "bar_style": "success",
            "description": "",
            "description_tooltip": null,
            "layout": "IPY_MODEL_33ac832ac409463f802d91461c716d4e",
            "max": 260,
            "min": 0,
            "orientation": "horizontal",
            "style": "IPY_MODEL_a993aaee8a474d9699d7912b832c5e92",
            "value": 260
          }
        },
        "ff35f34a89164ae8ad54ee82acc745f1": {
          "model_module": "@jupyter-widgets/controls",
          "model_name": "HTMLModel",
          "model_module_version": "1.5.0",
          "state": {
            "_dom_classes": [],
            "_model_module": "@jupyter-widgets/controls",
            "_model_module_version": "1.5.0",
            "_model_name": "HTMLModel",
            "_view_count": null,
            "_view_module": "@jupyter-widgets/controls",
            "_view_module_version": "1.5.0",
            "_view_name": "HTMLView",
            "description": "",
            "description_tooltip": null,
            "layout": "IPY_MODEL_9d783ef3d2fc4af7877617a51b556231",
            "placeholder": "​",
            "style": "IPY_MODEL_2c7933da66e24724acd27269319d4157",
            "value": " 260/260 [00:00&lt;00:00, 12.2kB/s]"
          }
        },
        "bef6b59223374dcc8b577e26a08d6316": {
          "model_module": "@jupyter-widgets/base",
          "model_name": "LayoutModel",
          "model_module_version": "1.2.0",
          "state": {
            "_model_module": "@jupyter-widgets/base",
            "_model_module_version": "1.2.0",
            "_model_name": "LayoutModel",
            "_view_count": null,
            "_view_module": "@jupyter-widgets/base",
            "_view_module_version": "1.2.0",
            "_view_name": "LayoutView",
            "align_content": null,
            "align_items": null,
            "align_self": null,
            "border": null,
            "bottom": null,
            "display": null,
            "flex": null,
            "flex_flow": null,
            "grid_area": null,
            "grid_auto_columns": null,
            "grid_auto_flow": null,
            "grid_auto_rows": null,
            "grid_column": null,
            "grid_gap": null,
            "grid_row": null,
            "grid_template_areas": null,
            "grid_template_columns": null,
            "grid_template_rows": null,
            "height": null,
            "justify_content": null,
            "justify_items": null,
            "left": null,
            "margin": null,
            "max_height": null,
            "max_width": null,
            "min_height": null,
            "min_width": null,
            "object_fit": null,
            "object_position": null,
            "order": null,
            "overflow": null,
            "overflow_x": null,
            "overflow_y": null,
            "padding": null,
            "right": null,
            "top": null,
            "visibility": null,
            "width": null
          }
        },
        "2ec7c24e550b4b4cbd7b5c49b09a4f0a": {
          "model_module": "@jupyter-widgets/base",
          "model_name": "LayoutModel",
          "model_module_version": "1.2.0",
          "state": {
            "_model_module": "@jupyter-widgets/base",
            "_model_module_version": "1.2.0",
            "_model_name": "LayoutModel",
            "_view_count": null,
            "_view_module": "@jupyter-widgets/base",
            "_view_module_version": "1.2.0",
            "_view_name": "LayoutView",
            "align_content": null,
            "align_items": null,
            "align_self": null,
            "border": null,
            "bottom": null,
            "display": null,
            "flex": null,
            "flex_flow": null,
            "grid_area": null,
            "grid_auto_columns": null,
            "grid_auto_flow": null,
            "grid_auto_rows": null,
            "grid_column": null,
            "grid_gap": null,
            "grid_row": null,
            "grid_template_areas": null,
            "grid_template_columns": null,
            "grid_template_rows": null,
            "height": null,
            "justify_content": null,
            "justify_items": null,
            "left": null,
            "margin": null,
            "max_height": null,
            "max_width": null,
            "min_height": null,
            "min_width": null,
            "object_fit": null,
            "object_position": null,
            "order": null,
            "overflow": null,
            "overflow_x": null,
            "overflow_y": null,
            "padding": null,
            "right": null,
            "top": null,
            "visibility": null,
            "width": null
          }
        },
        "a32edcf47295462f8fdb3ee85357d198": {
          "model_module": "@jupyter-widgets/controls",
          "model_name": "DescriptionStyleModel",
          "model_module_version": "1.5.0",
          "state": {
            "_model_module": "@jupyter-widgets/controls",
            "_model_module_version": "1.5.0",
            "_model_name": "DescriptionStyleModel",
            "_view_count": null,
            "_view_module": "@jupyter-widgets/base",
            "_view_module_version": "1.2.0",
            "_view_name": "StyleView",
            "description_width": ""
          }
        },
        "33ac832ac409463f802d91461c716d4e": {
          "model_module": "@jupyter-widgets/base",
          "model_name": "LayoutModel",
          "model_module_version": "1.2.0",
          "state": {
            "_model_module": "@jupyter-widgets/base",
            "_model_module_version": "1.2.0",
            "_model_name": "LayoutModel",
            "_view_count": null,
            "_view_module": "@jupyter-widgets/base",
            "_view_module_version": "1.2.0",
            "_view_name": "LayoutView",
            "align_content": null,
            "align_items": null,
            "align_self": null,
            "border": null,
            "bottom": null,
            "display": null,
            "flex": null,
            "flex_flow": null,
            "grid_area": null,
            "grid_auto_columns": null,
            "grid_auto_flow": null,
            "grid_auto_rows": null,
            "grid_column": null,
            "grid_gap": null,
            "grid_row": null,
            "grid_template_areas": null,
            "grid_template_columns": null,
            "grid_template_rows": null,
            "height": null,
            "justify_content": null,
            "justify_items": null,
            "left": null,
            "margin": null,
            "max_height": null,
            "max_width": null,
            "min_height": null,
            "min_width": null,
            "object_fit": null,
            "object_position": null,
            "order": null,
            "overflow": null,
            "overflow_x": null,
            "overflow_y": null,
            "padding": null,
            "right": null,
            "top": null,
            "visibility": null,
            "width": null
          }
        },
        "a993aaee8a474d9699d7912b832c5e92": {
          "model_module": "@jupyter-widgets/controls",
          "model_name": "ProgressStyleModel",
          "model_module_version": "1.5.0",
          "state": {
            "_model_module": "@jupyter-widgets/controls",
            "_model_module_version": "1.5.0",
            "_model_name": "ProgressStyleModel",
            "_view_count": null,
            "_view_module": "@jupyter-widgets/base",
            "_view_module_version": "1.2.0",
            "_view_name": "StyleView",
            "bar_color": null,
            "description_width": ""
          }
        },
        "9d783ef3d2fc4af7877617a51b556231": {
          "model_module": "@jupyter-widgets/base",
          "model_name": "LayoutModel",
          "model_module_version": "1.2.0",
          "state": {
            "_model_module": "@jupyter-widgets/base",
            "_model_module_version": "1.2.0",
            "_model_name": "LayoutModel",
            "_view_count": null,
            "_view_module": "@jupyter-widgets/base",
            "_view_module_version": "1.2.0",
            "_view_name": "LayoutView",
            "align_content": null,
            "align_items": null,
            "align_self": null,
            "border": null,
            "bottom": null,
            "display": null,
            "flex": null,
            "flex_flow": null,
            "grid_area": null,
            "grid_auto_columns": null,
            "grid_auto_flow": null,
            "grid_auto_rows": null,
            "grid_column": null,
            "grid_gap": null,
            "grid_row": null,
            "grid_template_areas": null,
            "grid_template_columns": null,
            "grid_template_rows": null,
            "height": null,
            "justify_content": null,
            "justify_items": null,
            "left": null,
            "margin": null,
            "max_height": null,
            "max_width": null,
            "min_height": null,
            "min_width": null,
            "object_fit": null,
            "object_position": null,
            "order": null,
            "overflow": null,
            "overflow_x": null,
            "overflow_y": null,
            "padding": null,
            "right": null,
            "top": null,
            "visibility": null,
            "width": null
          }
        },
        "2c7933da66e24724acd27269319d4157": {
          "model_module": "@jupyter-widgets/controls",
          "model_name": "DescriptionStyleModel",
          "model_module_version": "1.5.0",
          "state": {
            "_model_module": "@jupyter-widgets/controls",
            "_model_module_version": "1.5.0",
            "_model_name": "DescriptionStyleModel",
            "_view_count": null,
            "_view_module": "@jupyter-widgets/base",
            "_view_module_version": "1.2.0",
            "_view_name": "StyleView",
            "description_width": ""
          }
        },
        "363a602a29d54ad895e4256a0c0f20a4": {
          "model_module": "@jupyter-widgets/controls",
          "model_name": "VBoxModel",
          "model_module_version": "1.5.0",
          "state": {
            "_dom_classes": [],
            "_model_module": "@jupyter-widgets/controls",
            "_model_module_version": "1.5.0",
            "_model_name": "VBoxModel",
            "_view_count": null,
            "_view_module": "@jupyter-widgets/controls",
            "_view_module_version": "1.5.0",
            "_view_name": "VBoxView",
            "box_style": "",
            "children": [
              "IPY_MODEL_5e661242929a40028e87065963f48e25",
              "IPY_MODEL_5615f165ffeb48bba5d3cffbc1b56237",
              "IPY_MODEL_2f7dd16b39d947e69880c3a9841d85f1",
              "IPY_MODEL_ab4d0d32c0584b84811a4d1cfafe8e8c"
            ],
            "layout": "IPY_MODEL_903fba4b422f4fdab738a8833a65af91"
          }
        },
        "cdaed70b58204e0581199e569f632c7a": {
          "model_module": "@jupyter-widgets/controls",
          "model_name": "HTMLModel",
          "model_module_version": "1.5.0",
          "state": {
            "_dom_classes": [],
            "_model_module": "@jupyter-widgets/controls",
            "_model_module_version": "1.5.0",
            "_model_name": "HTMLModel",
            "_view_count": null,
            "_view_module": "@jupyter-widgets/controls",
            "_view_module_version": "1.5.0",
            "_view_name": "HTMLView",
            "description": "",
            "description_tooltip": null,
            "layout": "IPY_MODEL_60638acc7f2b4f3ba0cc3483358a27a6",
            "placeholder": "​",
            "style": "IPY_MODEL_82a422f06bd2437d849343f169dceff7",
            "value": "<center> <img\nsrc=https://huggingface.co/front/assets/huggingface_logo-noborder.svg\nalt='Hugging Face'> <br> Copy a token from <a\nhref=\"https://huggingface.co/settings/tokens\" target=\"_blank\">your Hugging Face\ntokens page</a> and paste it below. <br> Immediately click login after copying\nyour token or it might be stored in plain text in this notebook file. </center>"
          }
        },
        "55521843d34c4556b5d8c2a05f132ab0": {
          "model_module": "@jupyter-widgets/controls",
          "model_name": "PasswordModel",
          "model_module_version": "1.5.0",
          "state": {
            "_dom_classes": [],
            "_model_module": "@jupyter-widgets/controls",
            "_model_module_version": "1.5.0",
            "_model_name": "PasswordModel",
            "_view_count": null,
            "_view_module": "@jupyter-widgets/controls",
            "_view_module_version": "1.5.0",
            "_view_name": "PasswordView",
            "continuous_update": true,
            "description": "Token:",
            "description_tooltip": null,
            "disabled": false,
            "layout": "IPY_MODEL_dfba15fab7d04c97a6aea82711f719ad",
            "placeholder": "​",
            "style": "IPY_MODEL_2ff4950a25924de792343ffc27bf5e41",
            "value": ""
          }
        },
        "ef75d51150ea49a7b81cc9c7f5dcc941": {
          "model_module": "@jupyter-widgets/controls",
          "model_name": "CheckboxModel",
          "model_module_version": "1.5.0",
          "state": {
            "_dom_classes": [],
            "_model_module": "@jupyter-widgets/controls",
            "_model_module_version": "1.5.0",
            "_model_name": "CheckboxModel",
            "_view_count": null,
            "_view_module": "@jupyter-widgets/controls",
            "_view_module_version": "1.5.0",
            "_view_name": "CheckboxView",
            "description": "Add token as git credential?",
            "description_tooltip": null,
            "disabled": false,
            "indent": true,
            "layout": "IPY_MODEL_0b46321c778844b6aa554aed55c33e88",
            "style": "IPY_MODEL_e60e4b24b57a4fce9c7a5d149233a24f",
            "value": true
          }
        },
        "919c07e232ac4b92a8edea84d158e447": {
          "model_module": "@jupyter-widgets/controls",
          "model_name": "ButtonModel",
          "model_module_version": "1.5.0",
          "state": {
            "_dom_classes": [],
            "_model_module": "@jupyter-widgets/controls",
            "_model_module_version": "1.5.0",
            "_model_name": "ButtonModel",
            "_view_count": null,
            "_view_module": "@jupyter-widgets/controls",
            "_view_module_version": "1.5.0",
            "_view_name": "ButtonView",
            "button_style": "",
            "description": "Login",
            "disabled": false,
            "icon": "",
            "layout": "IPY_MODEL_e92254412f5d4a399e878921e1ec5402",
            "style": "IPY_MODEL_266d0e9223ee40f9b9719c54e32be4f1",
            "tooltip": ""
          }
        },
        "f5f8b4dd9dad45748bbeccf468f5ddad": {
          "model_module": "@jupyter-widgets/controls",
          "model_name": "HTMLModel",
          "model_module_version": "1.5.0",
          "state": {
            "_dom_classes": [],
            "_model_module": "@jupyter-widgets/controls",
            "_model_module_version": "1.5.0",
            "_model_name": "HTMLModel",
            "_view_count": null,
            "_view_module": "@jupyter-widgets/controls",
            "_view_module_version": "1.5.0",
            "_view_name": "HTMLView",
            "description": "",
            "description_tooltip": null,
            "layout": "IPY_MODEL_fa5095ceb54e408b95a4f6305a42888f",
            "placeholder": "​",
            "style": "IPY_MODEL_7b972ae94fa046c5a54be5ab15369e3b",
            "value": "\n<b>Pro Tip:</b> If you don't already have one, you can create a dedicated\n'notebooks' token with 'write' access, that you can then easily reuse for all\nnotebooks. </center>"
          }
        },
        "903fba4b422f4fdab738a8833a65af91": {
          "model_module": "@jupyter-widgets/base",
          "model_name": "LayoutModel",
          "model_module_version": "1.2.0",
          "state": {
            "_model_module": "@jupyter-widgets/base",
            "_model_module_version": "1.2.0",
            "_model_name": "LayoutModel",
            "_view_count": null,
            "_view_module": "@jupyter-widgets/base",
            "_view_module_version": "1.2.0",
            "_view_name": "LayoutView",
            "align_content": null,
            "align_items": "center",
            "align_self": null,
            "border": null,
            "bottom": null,
            "display": "flex",
            "flex": null,
            "flex_flow": "column",
            "grid_area": null,
            "grid_auto_columns": null,
            "grid_auto_flow": null,
            "grid_auto_rows": null,
            "grid_column": null,
            "grid_gap": null,
            "grid_row": null,
            "grid_template_areas": null,
            "grid_template_columns": null,
            "grid_template_rows": null,
            "height": null,
            "justify_content": null,
            "justify_items": null,
            "left": null,
            "margin": null,
            "max_height": null,
            "max_width": null,
            "min_height": null,
            "min_width": null,
            "object_fit": null,
            "object_position": null,
            "order": null,
            "overflow": null,
            "overflow_x": null,
            "overflow_y": null,
            "padding": null,
            "right": null,
            "top": null,
            "visibility": null,
            "width": "50%"
          }
        },
        "60638acc7f2b4f3ba0cc3483358a27a6": {
          "model_module": "@jupyter-widgets/base",
          "model_name": "LayoutModel",
          "model_module_version": "1.2.0",
          "state": {
            "_model_module": "@jupyter-widgets/base",
            "_model_module_version": "1.2.0",
            "_model_name": "LayoutModel",
            "_view_count": null,
            "_view_module": "@jupyter-widgets/base",
            "_view_module_version": "1.2.0",
            "_view_name": "LayoutView",
            "align_content": null,
            "align_items": null,
            "align_self": null,
            "border": null,
            "bottom": null,
            "display": null,
            "flex": null,
            "flex_flow": null,
            "grid_area": null,
            "grid_auto_columns": null,
            "grid_auto_flow": null,
            "grid_auto_rows": null,
            "grid_column": null,
            "grid_gap": null,
            "grid_row": null,
            "grid_template_areas": null,
            "grid_template_columns": null,
            "grid_template_rows": null,
            "height": null,
            "justify_content": null,
            "justify_items": null,
            "left": null,
            "margin": null,
            "max_height": null,
            "max_width": null,
            "min_height": null,
            "min_width": null,
            "object_fit": null,
            "object_position": null,
            "order": null,
            "overflow": null,
            "overflow_x": null,
            "overflow_y": null,
            "padding": null,
            "right": null,
            "top": null,
            "visibility": null,
            "width": null
          }
        },
        "82a422f06bd2437d849343f169dceff7": {
          "model_module": "@jupyter-widgets/controls",
          "model_name": "DescriptionStyleModel",
          "model_module_version": "1.5.0",
          "state": {
            "_model_module": "@jupyter-widgets/controls",
            "_model_module_version": "1.5.0",
            "_model_name": "DescriptionStyleModel",
            "_view_count": null,
            "_view_module": "@jupyter-widgets/base",
            "_view_module_version": "1.2.0",
            "_view_name": "StyleView",
            "description_width": ""
          }
        },
        "dfba15fab7d04c97a6aea82711f719ad": {
          "model_module": "@jupyter-widgets/base",
          "model_name": "LayoutModel",
          "model_module_version": "1.2.0",
          "state": {
            "_model_module": "@jupyter-widgets/base",
            "_model_module_version": "1.2.0",
            "_model_name": "LayoutModel",
            "_view_count": null,
            "_view_module": "@jupyter-widgets/base",
            "_view_module_version": "1.2.0",
            "_view_name": "LayoutView",
            "align_content": null,
            "align_items": null,
            "align_self": null,
            "border": null,
            "bottom": null,
            "display": null,
            "flex": null,
            "flex_flow": null,
            "grid_area": null,
            "grid_auto_columns": null,
            "grid_auto_flow": null,
            "grid_auto_rows": null,
            "grid_column": null,
            "grid_gap": null,
            "grid_row": null,
            "grid_template_areas": null,
            "grid_template_columns": null,
            "grid_template_rows": null,
            "height": null,
            "justify_content": null,
            "justify_items": null,
            "left": null,
            "margin": null,
            "max_height": null,
            "max_width": null,
            "min_height": null,
            "min_width": null,
            "object_fit": null,
            "object_position": null,
            "order": null,
            "overflow": null,
            "overflow_x": null,
            "overflow_y": null,
            "padding": null,
            "right": null,
            "top": null,
            "visibility": null,
            "width": null
          }
        },
        "2ff4950a25924de792343ffc27bf5e41": {
          "model_module": "@jupyter-widgets/controls",
          "model_name": "DescriptionStyleModel",
          "model_module_version": "1.5.0",
          "state": {
            "_model_module": "@jupyter-widgets/controls",
            "_model_module_version": "1.5.0",
            "_model_name": "DescriptionStyleModel",
            "_view_count": null,
            "_view_module": "@jupyter-widgets/base",
            "_view_module_version": "1.2.0",
            "_view_name": "StyleView",
            "description_width": ""
          }
        },
        "0b46321c778844b6aa554aed55c33e88": {
          "model_module": "@jupyter-widgets/base",
          "model_name": "LayoutModel",
          "model_module_version": "1.2.0",
          "state": {
            "_model_module": "@jupyter-widgets/base",
            "_model_module_version": "1.2.0",
            "_model_name": "LayoutModel",
            "_view_count": null,
            "_view_module": "@jupyter-widgets/base",
            "_view_module_version": "1.2.0",
            "_view_name": "LayoutView",
            "align_content": null,
            "align_items": null,
            "align_self": null,
            "border": null,
            "bottom": null,
            "display": null,
            "flex": null,
            "flex_flow": null,
            "grid_area": null,
            "grid_auto_columns": null,
            "grid_auto_flow": null,
            "grid_auto_rows": null,
            "grid_column": null,
            "grid_gap": null,
            "grid_row": null,
            "grid_template_areas": null,
            "grid_template_columns": null,
            "grid_template_rows": null,
            "height": null,
            "justify_content": null,
            "justify_items": null,
            "left": null,
            "margin": null,
            "max_height": null,
            "max_width": null,
            "min_height": null,
            "min_width": null,
            "object_fit": null,
            "object_position": null,
            "order": null,
            "overflow": null,
            "overflow_x": null,
            "overflow_y": null,
            "padding": null,
            "right": null,
            "top": null,
            "visibility": null,
            "width": null
          }
        },
        "e60e4b24b57a4fce9c7a5d149233a24f": {
          "model_module": "@jupyter-widgets/controls",
          "model_name": "DescriptionStyleModel",
          "model_module_version": "1.5.0",
          "state": {
            "_model_module": "@jupyter-widgets/controls",
            "_model_module_version": "1.5.0",
            "_model_name": "DescriptionStyleModel",
            "_view_count": null,
            "_view_module": "@jupyter-widgets/base",
            "_view_module_version": "1.2.0",
            "_view_name": "StyleView",
            "description_width": ""
          }
        },
        "e92254412f5d4a399e878921e1ec5402": {
          "model_module": "@jupyter-widgets/base",
          "model_name": "LayoutModel",
          "model_module_version": "1.2.0",
          "state": {
            "_model_module": "@jupyter-widgets/base",
            "_model_module_version": "1.2.0",
            "_model_name": "LayoutModel",
            "_view_count": null,
            "_view_module": "@jupyter-widgets/base",
            "_view_module_version": "1.2.0",
            "_view_name": "LayoutView",
            "align_content": null,
            "align_items": null,
            "align_self": null,
            "border": null,
            "bottom": null,
            "display": null,
            "flex": null,
            "flex_flow": null,
            "grid_area": null,
            "grid_auto_columns": null,
            "grid_auto_flow": null,
            "grid_auto_rows": null,
            "grid_column": null,
            "grid_gap": null,
            "grid_row": null,
            "grid_template_areas": null,
            "grid_template_columns": null,
            "grid_template_rows": null,
            "height": null,
            "justify_content": null,
            "justify_items": null,
            "left": null,
            "margin": null,
            "max_height": null,
            "max_width": null,
            "min_height": null,
            "min_width": null,
            "object_fit": null,
            "object_position": null,
            "order": null,
            "overflow": null,
            "overflow_x": null,
            "overflow_y": null,
            "padding": null,
            "right": null,
            "top": null,
            "visibility": null,
            "width": null
          }
        },
        "266d0e9223ee40f9b9719c54e32be4f1": {
          "model_module": "@jupyter-widgets/controls",
          "model_name": "ButtonStyleModel",
          "model_module_version": "1.5.0",
          "state": {
            "_model_module": "@jupyter-widgets/controls",
            "_model_module_version": "1.5.0",
            "_model_name": "ButtonStyleModel",
            "_view_count": null,
            "_view_module": "@jupyter-widgets/base",
            "_view_module_version": "1.2.0",
            "_view_name": "StyleView",
            "button_color": null,
            "font_weight": ""
          }
        },
        "fa5095ceb54e408b95a4f6305a42888f": {
          "model_module": "@jupyter-widgets/base",
          "model_name": "LayoutModel",
          "model_module_version": "1.2.0",
          "state": {
            "_model_module": "@jupyter-widgets/base",
            "_model_module_version": "1.2.0",
            "_model_name": "LayoutModel",
            "_view_count": null,
            "_view_module": "@jupyter-widgets/base",
            "_view_module_version": "1.2.0",
            "_view_name": "LayoutView",
            "align_content": null,
            "align_items": null,
            "align_self": null,
            "border": null,
            "bottom": null,
            "display": null,
            "flex": null,
            "flex_flow": null,
            "grid_area": null,
            "grid_auto_columns": null,
            "grid_auto_flow": null,
            "grid_auto_rows": null,
            "grid_column": null,
            "grid_gap": null,
            "grid_row": null,
            "grid_template_areas": null,
            "grid_template_columns": null,
            "grid_template_rows": null,
            "height": null,
            "justify_content": null,
            "justify_items": null,
            "left": null,
            "margin": null,
            "max_height": null,
            "max_width": null,
            "min_height": null,
            "min_width": null,
            "object_fit": null,
            "object_position": null,
            "order": null,
            "overflow": null,
            "overflow_x": null,
            "overflow_y": null,
            "padding": null,
            "right": null,
            "top": null,
            "visibility": null,
            "width": null
          }
        },
        "7b972ae94fa046c5a54be5ab15369e3b": {
          "model_module": "@jupyter-widgets/controls",
          "model_name": "DescriptionStyleModel",
          "model_module_version": "1.5.0",
          "state": {
            "_model_module": "@jupyter-widgets/controls",
            "_model_module_version": "1.5.0",
            "_model_name": "DescriptionStyleModel",
            "_view_count": null,
            "_view_module": "@jupyter-widgets/base",
            "_view_module_version": "1.2.0",
            "_view_name": "StyleView",
            "description_width": ""
          }
        },
        "6d3e6b493f39440a9cefef91392175ed": {
          "model_module": "@jupyter-widgets/controls",
          "model_name": "LabelModel",
          "model_module_version": "1.5.0",
          "state": {
            "_dom_classes": [],
            "_model_module": "@jupyter-widgets/controls",
            "_model_module_version": "1.5.0",
            "_model_name": "LabelModel",
            "_view_count": null,
            "_view_module": "@jupyter-widgets/controls",
            "_view_module_version": "1.5.0",
            "_view_name": "LabelView",
            "description": "",
            "description_tooltip": null,
            "layout": "IPY_MODEL_610b1f1d02094c0b87e7094e4368e2cc",
            "placeholder": "​",
            "style": "IPY_MODEL_aa2d23aa00e045ae8bcb5cee6a6dfcbc",
            "value": "Connecting..."
          }
        },
        "610b1f1d02094c0b87e7094e4368e2cc": {
          "model_module": "@jupyter-widgets/base",
          "model_name": "LayoutModel",
          "model_module_version": "1.2.0",
          "state": {
            "_model_module": "@jupyter-widgets/base",
            "_model_module_version": "1.2.0",
            "_model_name": "LayoutModel",
            "_view_count": null,
            "_view_module": "@jupyter-widgets/base",
            "_view_module_version": "1.2.0",
            "_view_name": "LayoutView",
            "align_content": null,
            "align_items": null,
            "align_self": null,
            "border": null,
            "bottom": null,
            "display": null,
            "flex": null,
            "flex_flow": null,
            "grid_area": null,
            "grid_auto_columns": null,
            "grid_auto_flow": null,
            "grid_auto_rows": null,
            "grid_column": null,
            "grid_gap": null,
            "grid_row": null,
            "grid_template_areas": null,
            "grid_template_columns": null,
            "grid_template_rows": null,
            "height": null,
            "justify_content": null,
            "justify_items": null,
            "left": null,
            "margin": null,
            "max_height": null,
            "max_width": null,
            "min_height": null,
            "min_width": null,
            "object_fit": null,
            "object_position": null,
            "order": null,
            "overflow": null,
            "overflow_x": null,
            "overflow_y": null,
            "padding": null,
            "right": null,
            "top": null,
            "visibility": null,
            "width": null
          }
        },
        "aa2d23aa00e045ae8bcb5cee6a6dfcbc": {
          "model_module": "@jupyter-widgets/controls",
          "model_name": "DescriptionStyleModel",
          "model_module_version": "1.5.0",
          "state": {
            "_model_module": "@jupyter-widgets/controls",
            "_model_module_version": "1.5.0",
            "_model_name": "DescriptionStyleModel",
            "_view_count": null,
            "_view_module": "@jupyter-widgets/base",
            "_view_module_version": "1.2.0",
            "_view_name": "StyleView",
            "description_width": ""
          }
        },
        "5e661242929a40028e87065963f48e25": {
          "model_module": "@jupyter-widgets/controls",
          "model_name": "LabelModel",
          "model_module_version": "1.5.0",
          "state": {
            "_dom_classes": [],
            "_model_module": "@jupyter-widgets/controls",
            "_model_module_version": "1.5.0",
            "_model_name": "LabelModel",
            "_view_count": null,
            "_view_module": "@jupyter-widgets/controls",
            "_view_module_version": "1.5.0",
            "_view_name": "LabelView",
            "description": "",
            "description_tooltip": null,
            "layout": "IPY_MODEL_cce15ea031224e76945bc6988e276d25",
            "placeholder": "​",
            "style": "IPY_MODEL_9ef27321d1ec4f6d836d5598725e77ab",
            "value": "Token is valid."
          }
        },
        "5615f165ffeb48bba5d3cffbc1b56237": {
          "model_module": "@jupyter-widgets/controls",
          "model_name": "LabelModel",
          "model_module_version": "1.5.0",
          "state": {
            "_dom_classes": [],
            "_model_module": "@jupyter-widgets/controls",
            "_model_module_version": "1.5.0",
            "_model_name": "LabelModel",
            "_view_count": null,
            "_view_module": "@jupyter-widgets/controls",
            "_view_module_version": "1.5.0",
            "_view_name": "LabelView",
            "description": "",
            "description_tooltip": null,
            "layout": "IPY_MODEL_f64bf25263d4414caac1c984f98799fd",
            "placeholder": "​",
            "style": "IPY_MODEL_6a827fffdc514d91aa3647a9d53a222f",
            "value": "Your token has been saved in your configured git credential helpers (store)."
          }
        },
        "2f7dd16b39d947e69880c3a9841d85f1": {
          "model_module": "@jupyter-widgets/controls",
          "model_name": "LabelModel",
          "model_module_version": "1.5.0",
          "state": {
            "_dom_classes": [],
            "_model_module": "@jupyter-widgets/controls",
            "_model_module_version": "1.5.0",
            "_model_name": "LabelModel",
            "_view_count": null,
            "_view_module": "@jupyter-widgets/controls",
            "_view_module_version": "1.5.0",
            "_view_name": "LabelView",
            "description": "",
            "description_tooltip": null,
            "layout": "IPY_MODEL_aea3210a88d242dcb04d7c9d50ff9776",
            "placeholder": "​",
            "style": "IPY_MODEL_a3d0a3e12ad5413b9db4fe7477419213",
            "value": "Your token has been saved to /root/.cache/huggingface/token"
          }
        },
        "ab4d0d32c0584b84811a4d1cfafe8e8c": {
          "model_module": "@jupyter-widgets/controls",
          "model_name": "LabelModel",
          "model_module_version": "1.5.0",
          "state": {
            "_dom_classes": [],
            "_model_module": "@jupyter-widgets/controls",
            "_model_module_version": "1.5.0",
            "_model_name": "LabelModel",
            "_view_count": null,
            "_view_module": "@jupyter-widgets/controls",
            "_view_module_version": "1.5.0",
            "_view_name": "LabelView",
            "description": "",
            "description_tooltip": null,
            "layout": "IPY_MODEL_58972f76daa54ceaac71665bcf50ce30",
            "placeholder": "​",
            "style": "IPY_MODEL_4f4a39c53c1b4836b6675dab05a57622",
            "value": "Login successful"
          }
        },
        "cce15ea031224e76945bc6988e276d25": {
          "model_module": "@jupyter-widgets/base",
          "model_name": "LayoutModel",
          "model_module_version": "1.2.0",
          "state": {
            "_model_module": "@jupyter-widgets/base",
            "_model_module_version": "1.2.0",
            "_model_name": "LayoutModel",
            "_view_count": null,
            "_view_module": "@jupyter-widgets/base",
            "_view_module_version": "1.2.0",
            "_view_name": "LayoutView",
            "align_content": null,
            "align_items": null,
            "align_self": null,
            "border": null,
            "bottom": null,
            "display": null,
            "flex": null,
            "flex_flow": null,
            "grid_area": null,
            "grid_auto_columns": null,
            "grid_auto_flow": null,
            "grid_auto_rows": null,
            "grid_column": null,
            "grid_gap": null,
            "grid_row": null,
            "grid_template_areas": null,
            "grid_template_columns": null,
            "grid_template_rows": null,
            "height": null,
            "justify_content": null,
            "justify_items": null,
            "left": null,
            "margin": null,
            "max_height": null,
            "max_width": null,
            "min_height": null,
            "min_width": null,
            "object_fit": null,
            "object_position": null,
            "order": null,
            "overflow": null,
            "overflow_x": null,
            "overflow_y": null,
            "padding": null,
            "right": null,
            "top": null,
            "visibility": null,
            "width": null
          }
        },
        "9ef27321d1ec4f6d836d5598725e77ab": {
          "model_module": "@jupyter-widgets/controls",
          "model_name": "DescriptionStyleModel",
          "model_module_version": "1.5.0",
          "state": {
            "_model_module": "@jupyter-widgets/controls",
            "_model_module_version": "1.5.0",
            "_model_name": "DescriptionStyleModel",
            "_view_count": null,
            "_view_module": "@jupyter-widgets/base",
            "_view_module_version": "1.2.0",
            "_view_name": "StyleView",
            "description_width": ""
          }
        },
        "f64bf25263d4414caac1c984f98799fd": {
          "model_module": "@jupyter-widgets/base",
          "model_name": "LayoutModel",
          "model_module_version": "1.2.0",
          "state": {
            "_model_module": "@jupyter-widgets/base",
            "_model_module_version": "1.2.0",
            "_model_name": "LayoutModel",
            "_view_count": null,
            "_view_module": "@jupyter-widgets/base",
            "_view_module_version": "1.2.0",
            "_view_name": "LayoutView",
            "align_content": null,
            "align_items": null,
            "align_self": null,
            "border": null,
            "bottom": null,
            "display": null,
            "flex": null,
            "flex_flow": null,
            "grid_area": null,
            "grid_auto_columns": null,
            "grid_auto_flow": null,
            "grid_auto_rows": null,
            "grid_column": null,
            "grid_gap": null,
            "grid_row": null,
            "grid_template_areas": null,
            "grid_template_columns": null,
            "grid_template_rows": null,
            "height": null,
            "justify_content": null,
            "justify_items": null,
            "left": null,
            "margin": null,
            "max_height": null,
            "max_width": null,
            "min_height": null,
            "min_width": null,
            "object_fit": null,
            "object_position": null,
            "order": null,
            "overflow": null,
            "overflow_x": null,
            "overflow_y": null,
            "padding": null,
            "right": null,
            "top": null,
            "visibility": null,
            "width": null
          }
        },
        "6a827fffdc514d91aa3647a9d53a222f": {
          "model_module": "@jupyter-widgets/controls",
          "model_name": "DescriptionStyleModel",
          "model_module_version": "1.5.0",
          "state": {
            "_model_module": "@jupyter-widgets/controls",
            "_model_module_version": "1.5.0",
            "_model_name": "DescriptionStyleModel",
            "_view_count": null,
            "_view_module": "@jupyter-widgets/base",
            "_view_module_version": "1.2.0",
            "_view_name": "StyleView",
            "description_width": ""
          }
        },
        "aea3210a88d242dcb04d7c9d50ff9776": {
          "model_module": "@jupyter-widgets/base",
          "model_name": "LayoutModel",
          "model_module_version": "1.2.0",
          "state": {
            "_model_module": "@jupyter-widgets/base",
            "_model_module_version": "1.2.0",
            "_model_name": "LayoutModel",
            "_view_count": null,
            "_view_module": "@jupyter-widgets/base",
            "_view_module_version": "1.2.0",
            "_view_name": "LayoutView",
            "align_content": null,
            "align_items": null,
            "align_self": null,
            "border": null,
            "bottom": null,
            "display": null,
            "flex": null,
            "flex_flow": null,
            "grid_area": null,
            "grid_auto_columns": null,
            "grid_auto_flow": null,
            "grid_auto_rows": null,
            "grid_column": null,
            "grid_gap": null,
            "grid_row": null,
            "grid_template_areas": null,
            "grid_template_columns": null,
            "grid_template_rows": null,
            "height": null,
            "justify_content": null,
            "justify_items": null,
            "left": null,
            "margin": null,
            "max_height": null,
            "max_width": null,
            "min_height": null,
            "min_width": null,
            "object_fit": null,
            "object_position": null,
            "order": null,
            "overflow": null,
            "overflow_x": null,
            "overflow_y": null,
            "padding": null,
            "right": null,
            "top": null,
            "visibility": null,
            "width": null
          }
        },
        "a3d0a3e12ad5413b9db4fe7477419213": {
          "model_module": "@jupyter-widgets/controls",
          "model_name": "DescriptionStyleModel",
          "model_module_version": "1.5.0",
          "state": {
            "_model_module": "@jupyter-widgets/controls",
            "_model_module_version": "1.5.0",
            "_model_name": "DescriptionStyleModel",
            "_view_count": null,
            "_view_module": "@jupyter-widgets/base",
            "_view_module_version": "1.2.0",
            "_view_name": "StyleView",
            "description_width": ""
          }
        },
        "58972f76daa54ceaac71665bcf50ce30": {
          "model_module": "@jupyter-widgets/base",
          "model_name": "LayoutModel",
          "model_module_version": "1.2.0",
          "state": {
            "_model_module": "@jupyter-widgets/base",
            "_model_module_version": "1.2.0",
            "_model_name": "LayoutModel",
            "_view_count": null,
            "_view_module": "@jupyter-widgets/base",
            "_view_module_version": "1.2.0",
            "_view_name": "LayoutView",
            "align_content": null,
            "align_items": null,
            "align_self": null,
            "border": null,
            "bottom": null,
            "display": null,
            "flex": null,
            "flex_flow": null,
            "grid_area": null,
            "grid_auto_columns": null,
            "grid_auto_flow": null,
            "grid_auto_rows": null,
            "grid_column": null,
            "grid_gap": null,
            "grid_row": null,
            "grid_template_areas": null,
            "grid_template_columns": null,
            "grid_template_rows": null,
            "height": null,
            "justify_content": null,
            "justify_items": null,
            "left": null,
            "margin": null,
            "max_height": null,
            "max_width": null,
            "min_height": null,
            "min_width": null,
            "object_fit": null,
            "object_position": null,
            "order": null,
            "overflow": null,
            "overflow_x": null,
            "overflow_y": null,
            "padding": null,
            "right": null,
            "top": null,
            "visibility": null,
            "width": null
          }
        },
        "4f4a39c53c1b4836b6675dab05a57622": {
          "model_module": "@jupyter-widgets/controls",
          "model_name": "DescriptionStyleModel",
          "model_module_version": "1.5.0",
          "state": {
            "_model_module": "@jupyter-widgets/controls",
            "_model_module_version": "1.5.0",
            "_model_name": "DescriptionStyleModel",
            "_view_count": null,
            "_view_module": "@jupyter-widgets/base",
            "_view_module_version": "1.2.0",
            "_view_name": "StyleView",
            "description_width": ""
          }
        },
        "c1c88162669d479f80cad028a64adec9": {
          "model_module": "@jupyter-widgets/controls",
          "model_name": "HBoxModel",
          "model_module_version": "1.5.0",
          "state": {
            "_dom_classes": [],
            "_model_module": "@jupyter-widgets/controls",
            "_model_module_version": "1.5.0",
            "_model_name": "HBoxModel",
            "_view_count": null,
            "_view_module": "@jupyter-widgets/controls",
            "_view_module_version": "1.5.0",
            "_view_name": "HBoxView",
            "box_style": "",
            "children": [
              "IPY_MODEL_2fd2e60bd5234be9840c356767a2445e",
              "IPY_MODEL_b74ac5b74501430e8edccb03e997a4d1",
              "IPY_MODEL_92cae00ec3a74e4fb448643ae7ecb883"
            ],
            "layout": "IPY_MODEL_73380d0485f74731afd324b562c2136b"
          }
        },
        "2fd2e60bd5234be9840c356767a2445e": {
          "model_module": "@jupyter-widgets/controls",
          "model_name": "HTMLModel",
          "model_module_version": "1.5.0",
          "state": {
            "_dom_classes": [],
            "_model_module": "@jupyter-widgets/controls",
            "_model_module_version": "1.5.0",
            "_model_name": "HTMLModel",
            "_view_count": null,
            "_view_module": "@jupyter-widgets/controls",
            "_view_module_version": "1.5.0",
            "_view_name": "HTMLView",
            "description": "",
            "description_tooltip": null,
            "layout": "IPY_MODEL_02d6e396c42a41fd8a4ca2d115fd3478",
            "placeholder": "​",
            "style": "IPY_MODEL_2a52a0fa9ffe408e9c23a02489ed809d",
            "value": "Upload file pytorch_model.bin: 100%"
          }
        },
        "b74ac5b74501430e8edccb03e997a4d1": {
          "model_module": "@jupyter-widgets/controls",
          "model_name": "FloatProgressModel",
          "model_module_version": "1.5.0",
          "state": {
            "_dom_classes": [],
            "_model_module": "@jupyter-widgets/controls",
            "_model_module_version": "1.5.0",
            "_model_name": "FloatProgressModel",
            "_view_count": null,
            "_view_module": "@jupyter-widgets/controls",
            "_view_module_version": "1.5.0",
            "_view_name": "ProgressView",
            "bar_style": "success",
            "description": "",
            "description_tooltip": null,
            "layout": "IPY_MODEL_8ca3d50fd4304a988167c726f9535bf9",
            "max": 2283804653,
            "min": 0,
            "orientation": "horizontal",
            "style": "IPY_MODEL_a510cb0805f347dfa3079ab172800125",
            "value": 2283804653
          }
        },
        "92cae00ec3a74e4fb448643ae7ecb883": {
          "model_module": "@jupyter-widgets/controls",
          "model_name": "HTMLModel",
          "model_module_version": "1.5.0",
          "state": {
            "_dom_classes": [],
            "_model_module": "@jupyter-widgets/controls",
            "_model_module_version": "1.5.0",
            "_model_name": "HTMLModel",
            "_view_count": null,
            "_view_module": "@jupyter-widgets/controls",
            "_view_module_version": "1.5.0",
            "_view_name": "HTMLView",
            "description": "",
            "description_tooltip": null,
            "layout": "IPY_MODEL_32e83c1554da48c5b36ff7600663c9a6",
            "placeholder": "​",
            "style": "IPY_MODEL_876699eada694f4cbb3caf1a5914617e",
            "value": " 2.13G/2.13G [02:55&lt;00:00, 24.9MB/s]"
          }
        },
        "73380d0485f74731afd324b562c2136b": {
          "model_module": "@jupyter-widgets/base",
          "model_name": "LayoutModel",
          "model_module_version": "1.2.0",
          "state": {
            "_model_module": "@jupyter-widgets/base",
            "_model_module_version": "1.2.0",
            "_model_name": "LayoutModel",
            "_view_count": null,
            "_view_module": "@jupyter-widgets/base",
            "_view_module_version": "1.2.0",
            "_view_name": "LayoutView",
            "align_content": null,
            "align_items": null,
            "align_self": null,
            "border": null,
            "bottom": null,
            "display": null,
            "flex": null,
            "flex_flow": null,
            "grid_area": null,
            "grid_auto_columns": null,
            "grid_auto_flow": null,
            "grid_auto_rows": null,
            "grid_column": null,
            "grid_gap": null,
            "grid_row": null,
            "grid_template_areas": null,
            "grid_template_columns": null,
            "grid_template_rows": null,
            "height": null,
            "justify_content": null,
            "justify_items": null,
            "left": null,
            "margin": null,
            "max_height": null,
            "max_width": null,
            "min_height": null,
            "min_width": null,
            "object_fit": null,
            "object_position": null,
            "order": null,
            "overflow": null,
            "overflow_x": null,
            "overflow_y": null,
            "padding": null,
            "right": null,
            "top": null,
            "visibility": null,
            "width": null
          }
        },
        "02d6e396c42a41fd8a4ca2d115fd3478": {
          "model_module": "@jupyter-widgets/base",
          "model_name": "LayoutModel",
          "model_module_version": "1.2.0",
          "state": {
            "_model_module": "@jupyter-widgets/base",
            "_model_module_version": "1.2.0",
            "_model_name": "LayoutModel",
            "_view_count": null,
            "_view_module": "@jupyter-widgets/base",
            "_view_module_version": "1.2.0",
            "_view_name": "LayoutView",
            "align_content": null,
            "align_items": null,
            "align_self": null,
            "border": null,
            "bottom": null,
            "display": null,
            "flex": null,
            "flex_flow": null,
            "grid_area": null,
            "grid_auto_columns": null,
            "grid_auto_flow": null,
            "grid_auto_rows": null,
            "grid_column": null,
            "grid_gap": null,
            "grid_row": null,
            "grid_template_areas": null,
            "grid_template_columns": null,
            "grid_template_rows": null,
            "height": null,
            "justify_content": null,
            "justify_items": null,
            "left": null,
            "margin": null,
            "max_height": null,
            "max_width": null,
            "min_height": null,
            "min_width": null,
            "object_fit": null,
            "object_position": null,
            "order": null,
            "overflow": null,
            "overflow_x": null,
            "overflow_y": null,
            "padding": null,
            "right": null,
            "top": null,
            "visibility": null,
            "width": null
          }
        },
        "2a52a0fa9ffe408e9c23a02489ed809d": {
          "model_module": "@jupyter-widgets/controls",
          "model_name": "DescriptionStyleModel",
          "model_module_version": "1.5.0",
          "state": {
            "_model_module": "@jupyter-widgets/controls",
            "_model_module_version": "1.5.0",
            "_model_name": "DescriptionStyleModel",
            "_view_count": null,
            "_view_module": "@jupyter-widgets/base",
            "_view_module_version": "1.2.0",
            "_view_name": "StyleView",
            "description_width": ""
          }
        },
        "8ca3d50fd4304a988167c726f9535bf9": {
          "model_module": "@jupyter-widgets/base",
          "model_name": "LayoutModel",
          "model_module_version": "1.2.0",
          "state": {
            "_model_module": "@jupyter-widgets/base",
            "_model_module_version": "1.2.0",
            "_model_name": "LayoutModel",
            "_view_count": null,
            "_view_module": "@jupyter-widgets/base",
            "_view_module_version": "1.2.0",
            "_view_name": "LayoutView",
            "align_content": null,
            "align_items": null,
            "align_self": null,
            "border": null,
            "bottom": null,
            "display": null,
            "flex": null,
            "flex_flow": null,
            "grid_area": null,
            "grid_auto_columns": null,
            "grid_auto_flow": null,
            "grid_auto_rows": null,
            "grid_column": null,
            "grid_gap": null,
            "grid_row": null,
            "grid_template_areas": null,
            "grid_template_columns": null,
            "grid_template_rows": null,
            "height": null,
            "justify_content": null,
            "justify_items": null,
            "left": null,
            "margin": null,
            "max_height": null,
            "max_width": null,
            "min_height": null,
            "min_width": null,
            "object_fit": null,
            "object_position": null,
            "order": null,
            "overflow": null,
            "overflow_x": null,
            "overflow_y": null,
            "padding": null,
            "right": null,
            "top": null,
            "visibility": null,
            "width": null
          }
        },
        "a510cb0805f347dfa3079ab172800125": {
          "model_module": "@jupyter-widgets/controls",
          "model_name": "ProgressStyleModel",
          "model_module_version": "1.5.0",
          "state": {
            "_model_module": "@jupyter-widgets/controls",
            "_model_module_version": "1.5.0",
            "_model_name": "ProgressStyleModel",
            "_view_count": null,
            "_view_module": "@jupyter-widgets/base",
            "_view_module_version": "1.2.0",
            "_view_name": "StyleView",
            "bar_color": null,
            "description_width": ""
          }
        },
        "32e83c1554da48c5b36ff7600663c9a6": {
          "model_module": "@jupyter-widgets/base",
          "model_name": "LayoutModel",
          "model_module_version": "1.2.0",
          "state": {
            "_model_module": "@jupyter-widgets/base",
            "_model_module_version": "1.2.0",
            "_model_name": "LayoutModel",
            "_view_count": null,
            "_view_module": "@jupyter-widgets/base",
            "_view_module_version": "1.2.0",
            "_view_name": "LayoutView",
            "align_content": null,
            "align_items": null,
            "align_self": null,
            "border": null,
            "bottom": null,
            "display": null,
            "flex": null,
            "flex_flow": null,
            "grid_area": null,
            "grid_auto_columns": null,
            "grid_auto_flow": null,
            "grid_auto_rows": null,
            "grid_column": null,
            "grid_gap": null,
            "grid_row": null,
            "grid_template_areas": null,
            "grid_template_columns": null,
            "grid_template_rows": null,
            "height": null,
            "justify_content": null,
            "justify_items": null,
            "left": null,
            "margin": null,
            "max_height": null,
            "max_width": null,
            "min_height": null,
            "min_width": null,
            "object_fit": null,
            "object_position": null,
            "order": null,
            "overflow": null,
            "overflow_x": null,
            "overflow_y": null,
            "padding": null,
            "right": null,
            "top": null,
            "visibility": null,
            "width": null
          }
        },
        "876699eada694f4cbb3caf1a5914617e": {
          "model_module": "@jupyter-widgets/controls",
          "model_name": "DescriptionStyleModel",
          "model_module_version": "1.5.0",
          "state": {
            "_model_module": "@jupyter-widgets/controls",
            "_model_module_version": "1.5.0",
            "_model_name": "DescriptionStyleModel",
            "_view_count": null,
            "_view_module": "@jupyter-widgets/base",
            "_view_module_version": "1.2.0",
            "_view_name": "StyleView",
            "description_width": ""
          }
        },
        "348f96c8c9bc4d2f87a31e548b966149": {
          "model_module": "@jupyter-widgets/controls",
          "model_name": "HBoxModel",
          "model_module_version": "1.5.0",
          "state": {
            "_dom_classes": [],
            "_model_module": "@jupyter-widgets/controls",
            "_model_module_version": "1.5.0",
            "_model_name": "HBoxModel",
            "_view_count": null,
            "_view_module": "@jupyter-widgets/controls",
            "_view_module_version": "1.5.0",
            "_view_name": "HBoxView",
            "box_style": "",
            "children": [
              "IPY_MODEL_8aca588612be43869ab5d646fa81790f",
              "IPY_MODEL_c57451028b2c4fdf92b63bdb01ce9a76",
              "IPY_MODEL_3858bcd13c5446859e35f51834ee21aa"
            ],
            "layout": "IPY_MODEL_3cc88a4440454749be10518c12359605"
          }
        },
        "8aca588612be43869ab5d646fa81790f": {
          "model_module": "@jupyter-widgets/controls",
          "model_name": "HTMLModel",
          "model_module_version": "1.5.0",
          "state": {
            "_dom_classes": [],
            "_model_module": "@jupyter-widgets/controls",
            "_model_module_version": "1.5.0",
            "_model_name": "HTMLModel",
            "_view_count": null,
            "_view_module": "@jupyter-widgets/controls",
            "_view_module_version": "1.5.0",
            "_view_name": "HTMLView",
            "description": "",
            "description_tooltip": null,
            "layout": "IPY_MODEL_ce282921d98545a6a228f3b946171b17",
            "placeholder": "​",
            "style": "IPY_MODEL_a55f6f49935244909b3c74e5fc5acb03",
            "value": "Upload file spiece.model: 100%"
          }
        },
        "c57451028b2c4fdf92b63bdb01ce9a76": {
          "model_module": "@jupyter-widgets/controls",
          "model_name": "FloatProgressModel",
          "model_module_version": "1.5.0",
          "state": {
            "_dom_classes": [],
            "_model_module": "@jupyter-widgets/controls",
            "_model_module_version": "1.5.0",
            "_model_name": "FloatProgressModel",
            "_view_count": null,
            "_view_module": "@jupyter-widgets/controls",
            "_view_module_version": "1.5.0",
            "_view_name": "ProgressView",
            "bar_style": "success",
            "description": "",
            "description_tooltip": null,
            "layout": "IPY_MODEL_61c2bc3feeff45428cc429988dcf0f20",
            "max": 1912529,
            "min": 0,
            "orientation": "horizontal",
            "style": "IPY_MODEL_5f5a546f058b48c294b3a41d6a311a50",
            "value": 1912529
          }
        },
        "3858bcd13c5446859e35f51834ee21aa": {
          "model_module": "@jupyter-widgets/controls",
          "model_name": "HTMLModel",
          "model_module_version": "1.5.0",
          "state": {
            "_dom_classes": [],
            "_model_module": "@jupyter-widgets/controls",
            "_model_module_version": "1.5.0",
            "_model_name": "HTMLModel",
            "_view_count": null,
            "_view_module": "@jupyter-widgets/controls",
            "_view_module_version": "1.5.0",
            "_view_name": "HTMLView",
            "description": "",
            "description_tooltip": null,
            "layout": "IPY_MODEL_d1d610e5294248748f462f1fe7f7ba87",
            "placeholder": "​",
            "style": "IPY_MODEL_f3753e7156604bfa83a706da9dfcda26",
            "value": " 1.82M/1.82M [02:55&lt;00:00, 15.2MB/s]"
          }
        },
        "3cc88a4440454749be10518c12359605": {
          "model_module": "@jupyter-widgets/base",
          "model_name": "LayoutModel",
          "model_module_version": "1.2.0",
          "state": {
            "_model_module": "@jupyter-widgets/base",
            "_model_module_version": "1.2.0",
            "_model_name": "LayoutModel",
            "_view_count": null,
            "_view_module": "@jupyter-widgets/base",
            "_view_module_version": "1.2.0",
            "_view_name": "LayoutView",
            "align_content": null,
            "align_items": null,
            "align_self": null,
            "border": null,
            "bottom": null,
            "display": null,
            "flex": null,
            "flex_flow": null,
            "grid_area": null,
            "grid_auto_columns": null,
            "grid_auto_flow": null,
            "grid_auto_rows": null,
            "grid_column": null,
            "grid_gap": null,
            "grid_row": null,
            "grid_template_areas": null,
            "grid_template_columns": null,
            "grid_template_rows": null,
            "height": null,
            "justify_content": null,
            "justify_items": null,
            "left": null,
            "margin": null,
            "max_height": null,
            "max_width": null,
            "min_height": null,
            "min_width": null,
            "object_fit": null,
            "object_position": null,
            "order": null,
            "overflow": null,
            "overflow_x": null,
            "overflow_y": null,
            "padding": null,
            "right": null,
            "top": null,
            "visibility": null,
            "width": null
          }
        },
        "ce282921d98545a6a228f3b946171b17": {
          "model_module": "@jupyter-widgets/base",
          "model_name": "LayoutModel",
          "model_module_version": "1.2.0",
          "state": {
            "_model_module": "@jupyter-widgets/base",
            "_model_module_version": "1.2.0",
            "_model_name": "LayoutModel",
            "_view_count": null,
            "_view_module": "@jupyter-widgets/base",
            "_view_module_version": "1.2.0",
            "_view_name": "LayoutView",
            "align_content": null,
            "align_items": null,
            "align_self": null,
            "border": null,
            "bottom": null,
            "display": null,
            "flex": null,
            "flex_flow": null,
            "grid_area": null,
            "grid_auto_columns": null,
            "grid_auto_flow": null,
            "grid_auto_rows": null,
            "grid_column": null,
            "grid_gap": null,
            "grid_row": null,
            "grid_template_areas": null,
            "grid_template_columns": null,
            "grid_template_rows": null,
            "height": null,
            "justify_content": null,
            "justify_items": null,
            "left": null,
            "margin": null,
            "max_height": null,
            "max_width": null,
            "min_height": null,
            "min_width": null,
            "object_fit": null,
            "object_position": null,
            "order": null,
            "overflow": null,
            "overflow_x": null,
            "overflow_y": null,
            "padding": null,
            "right": null,
            "top": null,
            "visibility": null,
            "width": null
          }
        },
        "a55f6f49935244909b3c74e5fc5acb03": {
          "model_module": "@jupyter-widgets/controls",
          "model_name": "DescriptionStyleModel",
          "model_module_version": "1.5.0",
          "state": {
            "_model_module": "@jupyter-widgets/controls",
            "_model_module_version": "1.5.0",
            "_model_name": "DescriptionStyleModel",
            "_view_count": null,
            "_view_module": "@jupyter-widgets/base",
            "_view_module_version": "1.2.0",
            "_view_name": "StyleView",
            "description_width": ""
          }
        },
        "61c2bc3feeff45428cc429988dcf0f20": {
          "model_module": "@jupyter-widgets/base",
          "model_name": "LayoutModel",
          "model_module_version": "1.2.0",
          "state": {
            "_model_module": "@jupyter-widgets/base",
            "_model_module_version": "1.2.0",
            "_model_name": "LayoutModel",
            "_view_count": null,
            "_view_module": "@jupyter-widgets/base",
            "_view_module_version": "1.2.0",
            "_view_name": "LayoutView",
            "align_content": null,
            "align_items": null,
            "align_self": null,
            "border": null,
            "bottom": null,
            "display": null,
            "flex": null,
            "flex_flow": null,
            "grid_area": null,
            "grid_auto_columns": null,
            "grid_auto_flow": null,
            "grid_auto_rows": null,
            "grid_column": null,
            "grid_gap": null,
            "grid_row": null,
            "grid_template_areas": null,
            "grid_template_columns": null,
            "grid_template_rows": null,
            "height": null,
            "justify_content": null,
            "justify_items": null,
            "left": null,
            "margin": null,
            "max_height": null,
            "max_width": null,
            "min_height": null,
            "min_width": null,
            "object_fit": null,
            "object_position": null,
            "order": null,
            "overflow": null,
            "overflow_x": null,
            "overflow_y": null,
            "padding": null,
            "right": null,
            "top": null,
            "visibility": null,
            "width": null
          }
        },
        "5f5a546f058b48c294b3a41d6a311a50": {
          "model_module": "@jupyter-widgets/controls",
          "model_name": "ProgressStyleModel",
          "model_module_version": "1.5.0",
          "state": {
            "_model_module": "@jupyter-widgets/controls",
            "_model_module_version": "1.5.0",
            "_model_name": "ProgressStyleModel",
            "_view_count": null,
            "_view_module": "@jupyter-widgets/base",
            "_view_module_version": "1.2.0",
            "_view_name": "StyleView",
            "bar_color": null,
            "description_width": ""
          }
        },
        "d1d610e5294248748f462f1fe7f7ba87": {
          "model_module": "@jupyter-widgets/base",
          "model_name": "LayoutModel",
          "model_module_version": "1.2.0",
          "state": {
            "_model_module": "@jupyter-widgets/base",
            "_model_module_version": "1.2.0",
            "_model_name": "LayoutModel",
            "_view_count": null,
            "_view_module": "@jupyter-widgets/base",
            "_view_module_version": "1.2.0",
            "_view_name": "LayoutView",
            "align_content": null,
            "align_items": null,
            "align_self": null,
            "border": null,
            "bottom": null,
            "display": null,
            "flex": null,
            "flex_flow": null,
            "grid_area": null,
            "grid_auto_columns": null,
            "grid_auto_flow": null,
            "grid_auto_rows": null,
            "grid_column": null,
            "grid_gap": null,
            "grid_row": null,
            "grid_template_areas": null,
            "grid_template_columns": null,
            "grid_template_rows": null,
            "height": null,
            "justify_content": null,
            "justify_items": null,
            "left": null,
            "margin": null,
            "max_height": null,
            "max_width": null,
            "min_height": null,
            "min_width": null,
            "object_fit": null,
            "object_position": null,
            "order": null,
            "overflow": null,
            "overflow_x": null,
            "overflow_y": null,
            "padding": null,
            "right": null,
            "top": null,
            "visibility": null,
            "width": null
          }
        },
        "f3753e7156604bfa83a706da9dfcda26": {
          "model_module": "@jupyter-widgets/controls",
          "model_name": "DescriptionStyleModel",
          "model_module_version": "1.5.0",
          "state": {
            "_model_module": "@jupyter-widgets/controls",
            "_model_module_version": "1.5.0",
            "_model_name": "DescriptionStyleModel",
            "_view_count": null,
            "_view_module": "@jupyter-widgets/base",
            "_view_module_version": "1.2.0",
            "_view_name": "StyleView",
            "description_width": ""
          }
        },
        "aac3e890c7e5476986fb0d761b87bfe3": {
          "model_module": "@jupyter-widgets/controls",
          "model_name": "HBoxModel",
          "model_module_version": "1.5.0",
          "state": {
            "_dom_classes": [],
            "_model_module": "@jupyter-widgets/controls",
            "_model_module_version": "1.5.0",
            "_model_name": "HBoxModel",
            "_view_count": null,
            "_view_module": "@jupyter-widgets/controls",
            "_view_module_version": "1.5.0",
            "_view_name": "HBoxView",
            "box_style": "",
            "children": [
              "IPY_MODEL_c5a1c9256a5f4fdd942d98fecf0f9acb",
              "IPY_MODEL_9933224d4f5f450389f3dd495e69748c",
              "IPY_MODEL_80e18dd6592b43c88fc9b0d2aa22ad75"
            ],
            "layout": "IPY_MODEL_0a217b4f614d488886139cd54c13893d"
          }
        },
        "c5a1c9256a5f4fdd942d98fecf0f9acb": {
          "model_module": "@jupyter-widgets/controls",
          "model_name": "HTMLModel",
          "model_module_version": "1.5.0",
          "state": {
            "_dom_classes": [],
            "_model_module": "@jupyter-widgets/controls",
            "_model_module_version": "1.5.0",
            "_model_name": "HTMLModel",
            "_view_count": null,
            "_view_module": "@jupyter-widgets/controls",
            "_view_module_version": "1.5.0",
            "_view_name": "HTMLView",
            "description": "",
            "description_tooltip": null,
            "layout": "IPY_MODEL_6b773d04209d47b9bcc799ec878c4c11",
            "placeholder": "​",
            "style": "IPY_MODEL_b7343bb1d0b44001b3fbe32ae3c2a908",
            "value": "Upload file training_args.bin: 100%"
          }
        },
        "9933224d4f5f450389f3dd495e69748c": {
          "model_module": "@jupyter-widgets/controls",
          "model_name": "FloatProgressModel",
          "model_module_version": "1.5.0",
          "state": {
            "_dom_classes": [],
            "_model_module": "@jupyter-widgets/controls",
            "_model_module_version": "1.5.0",
            "_model_name": "FloatProgressModel",
            "_view_count": null,
            "_view_module": "@jupyter-widgets/controls",
            "_view_module_version": "1.5.0",
            "_view_name": "ProgressView",
            "bar_style": "success",
            "description": "",
            "description_tooltip": null,
            "layout": "IPY_MODEL_1fd18f0c8f02480d89b530bdfa5e6fa8",
            "max": 3515,
            "min": 0,
            "orientation": "horizontal",
            "style": "IPY_MODEL_0a21237d34df4c4b8e58c1b6d0c2f1d3",
            "value": 3515
          }
        },
        "80e18dd6592b43c88fc9b0d2aa22ad75": {
          "model_module": "@jupyter-widgets/controls",
          "model_name": "HTMLModel",
          "model_module_version": "1.5.0",
          "state": {
            "_dom_classes": [],
            "_model_module": "@jupyter-widgets/controls",
            "_model_module_version": "1.5.0",
            "_model_name": "HTMLModel",
            "_view_count": null,
            "_view_module": "@jupyter-widgets/controls",
            "_view_module_version": "1.5.0",
            "_view_name": "HTMLView",
            "description": "",
            "description_tooltip": null,
            "layout": "IPY_MODEL_75ab90291e8744f7ba4adc3cae90bea1",
            "placeholder": "​",
            "style": "IPY_MODEL_2cf7e359c00a4563872eaba7ff6a79f9",
            "value": " 3.43k/3.43k [02:55&lt;00:00, 91.2kB/s]"
          }
        },
        "0a217b4f614d488886139cd54c13893d": {
          "model_module": "@jupyter-widgets/base",
          "model_name": "LayoutModel",
          "model_module_version": "1.2.0",
          "state": {
            "_model_module": "@jupyter-widgets/base",
            "_model_module_version": "1.2.0",
            "_model_name": "LayoutModel",
            "_view_count": null,
            "_view_module": "@jupyter-widgets/base",
            "_view_module_version": "1.2.0",
            "_view_name": "LayoutView",
            "align_content": null,
            "align_items": null,
            "align_self": null,
            "border": null,
            "bottom": null,
            "display": null,
            "flex": null,
            "flex_flow": null,
            "grid_area": null,
            "grid_auto_columns": null,
            "grid_auto_flow": null,
            "grid_auto_rows": null,
            "grid_column": null,
            "grid_gap": null,
            "grid_row": null,
            "grid_template_areas": null,
            "grid_template_columns": null,
            "grid_template_rows": null,
            "height": null,
            "justify_content": null,
            "justify_items": null,
            "left": null,
            "margin": null,
            "max_height": null,
            "max_width": null,
            "min_height": null,
            "min_width": null,
            "object_fit": null,
            "object_position": null,
            "order": null,
            "overflow": null,
            "overflow_x": null,
            "overflow_y": null,
            "padding": null,
            "right": null,
            "top": null,
            "visibility": null,
            "width": null
          }
        },
        "6b773d04209d47b9bcc799ec878c4c11": {
          "model_module": "@jupyter-widgets/base",
          "model_name": "LayoutModel",
          "model_module_version": "1.2.0",
          "state": {
            "_model_module": "@jupyter-widgets/base",
            "_model_module_version": "1.2.0",
            "_model_name": "LayoutModel",
            "_view_count": null,
            "_view_module": "@jupyter-widgets/base",
            "_view_module_version": "1.2.0",
            "_view_name": "LayoutView",
            "align_content": null,
            "align_items": null,
            "align_self": null,
            "border": null,
            "bottom": null,
            "display": null,
            "flex": null,
            "flex_flow": null,
            "grid_area": null,
            "grid_auto_columns": null,
            "grid_auto_flow": null,
            "grid_auto_rows": null,
            "grid_column": null,
            "grid_gap": null,
            "grid_row": null,
            "grid_template_areas": null,
            "grid_template_columns": null,
            "grid_template_rows": null,
            "height": null,
            "justify_content": null,
            "justify_items": null,
            "left": null,
            "margin": null,
            "max_height": null,
            "max_width": null,
            "min_height": null,
            "min_width": null,
            "object_fit": null,
            "object_position": null,
            "order": null,
            "overflow": null,
            "overflow_x": null,
            "overflow_y": null,
            "padding": null,
            "right": null,
            "top": null,
            "visibility": null,
            "width": null
          }
        },
        "b7343bb1d0b44001b3fbe32ae3c2a908": {
          "model_module": "@jupyter-widgets/controls",
          "model_name": "DescriptionStyleModel",
          "model_module_version": "1.5.0",
          "state": {
            "_model_module": "@jupyter-widgets/controls",
            "_model_module_version": "1.5.0",
            "_model_name": "DescriptionStyleModel",
            "_view_count": null,
            "_view_module": "@jupyter-widgets/base",
            "_view_module_version": "1.2.0",
            "_view_name": "StyleView",
            "description_width": ""
          }
        },
        "1fd18f0c8f02480d89b530bdfa5e6fa8": {
          "model_module": "@jupyter-widgets/base",
          "model_name": "LayoutModel",
          "model_module_version": "1.2.0",
          "state": {
            "_model_module": "@jupyter-widgets/base",
            "_model_module_version": "1.2.0",
            "_model_name": "LayoutModel",
            "_view_count": null,
            "_view_module": "@jupyter-widgets/base",
            "_view_module_version": "1.2.0",
            "_view_name": "LayoutView",
            "align_content": null,
            "align_items": null,
            "align_self": null,
            "border": null,
            "bottom": null,
            "display": null,
            "flex": null,
            "flex_flow": null,
            "grid_area": null,
            "grid_auto_columns": null,
            "grid_auto_flow": null,
            "grid_auto_rows": null,
            "grid_column": null,
            "grid_gap": null,
            "grid_row": null,
            "grid_template_areas": null,
            "grid_template_columns": null,
            "grid_template_rows": null,
            "height": null,
            "justify_content": null,
            "justify_items": null,
            "left": null,
            "margin": null,
            "max_height": null,
            "max_width": null,
            "min_height": null,
            "min_width": null,
            "object_fit": null,
            "object_position": null,
            "order": null,
            "overflow": null,
            "overflow_x": null,
            "overflow_y": null,
            "padding": null,
            "right": null,
            "top": null,
            "visibility": null,
            "width": null
          }
        },
        "0a21237d34df4c4b8e58c1b6d0c2f1d3": {
          "model_module": "@jupyter-widgets/controls",
          "model_name": "ProgressStyleModel",
          "model_module_version": "1.5.0",
          "state": {
            "_model_module": "@jupyter-widgets/controls",
            "_model_module_version": "1.5.0",
            "_model_name": "ProgressStyleModel",
            "_view_count": null,
            "_view_module": "@jupyter-widgets/base",
            "_view_module_version": "1.2.0",
            "_view_name": "StyleView",
            "bar_color": null,
            "description_width": ""
          }
        },
        "75ab90291e8744f7ba4adc3cae90bea1": {
          "model_module": "@jupyter-widgets/base",
          "model_name": "LayoutModel",
          "model_module_version": "1.2.0",
          "state": {
            "_model_module": "@jupyter-widgets/base",
            "_model_module_version": "1.2.0",
            "_model_name": "LayoutModel",
            "_view_count": null,
            "_view_module": "@jupyter-widgets/base",
            "_view_module_version": "1.2.0",
            "_view_name": "LayoutView",
            "align_content": null,
            "align_items": null,
            "align_self": null,
            "border": null,
            "bottom": null,
            "display": null,
            "flex": null,
            "flex_flow": null,
            "grid_area": null,
            "grid_auto_columns": null,
            "grid_auto_flow": null,
            "grid_auto_rows": null,
            "grid_column": null,
            "grid_gap": null,
            "grid_row": null,
            "grid_template_areas": null,
            "grid_template_columns": null,
            "grid_template_rows": null,
            "height": null,
            "justify_content": null,
            "justify_items": null,
            "left": null,
            "margin": null,
            "max_height": null,
            "max_width": null,
            "min_height": null,
            "min_width": null,
            "object_fit": null,
            "object_position": null,
            "order": null,
            "overflow": null,
            "overflow_x": null,
            "overflow_y": null,
            "padding": null,
            "right": null,
            "top": null,
            "visibility": null,
            "width": null
          }
        },
        "2cf7e359c00a4563872eaba7ff6a79f9": {
          "model_module": "@jupyter-widgets/controls",
          "model_name": "DescriptionStyleModel",
          "model_module_version": "1.5.0",
          "state": {
            "_model_module": "@jupyter-widgets/controls",
            "_model_module_version": "1.5.0",
            "_model_name": "DescriptionStyleModel",
            "_view_count": null,
            "_view_module": "@jupyter-widgets/base",
            "_view_module_version": "1.2.0",
            "_view_name": "StyleView",
            "description_width": ""
          }
        },
        "a1af6d42676b4fd49c7290036f8dfbbf": {
          "model_module": "@jupyter-widgets/controls",
          "model_name": "HBoxModel",
          "model_module_version": "1.5.0",
          "state": {
            "_dom_classes": [],
            "_model_module": "@jupyter-widgets/controls",
            "_model_module_version": "1.5.0",
            "_model_name": "HBoxModel",
            "_view_count": null,
            "_view_module": "@jupyter-widgets/controls",
            "_view_module_version": "1.5.0",
            "_view_name": "HBoxView",
            "box_style": "",
            "children": [
              "IPY_MODEL_24498687d5504409908f729cc24d8521",
              "IPY_MODEL_92205bed25db4d11b26c30d5634177a3",
              "IPY_MODEL_b6a1af05588f4f2bb54252411e375bcb"
            ],
            "layout": "IPY_MODEL_8106c6c8dee8415cb26900ce3627406f"
          }
        },
        "24498687d5504409908f729cc24d8521": {
          "model_module": "@jupyter-widgets/controls",
          "model_name": "HTMLModel",
          "model_module_version": "1.5.0",
          "state": {
            "_dom_classes": [],
            "_model_module": "@jupyter-widgets/controls",
            "_model_module_version": "1.5.0",
            "_model_name": "HTMLModel",
            "_view_count": null,
            "_view_module": "@jupyter-widgets/controls",
            "_view_module_version": "1.5.0",
            "_view_name": "HTMLView",
            "description": "",
            "description_tooltip": null,
            "layout": "IPY_MODEL_419225e31fa441338eae19862cb2e061",
            "placeholder": "​",
            "style": "IPY_MODEL_d3a8d6860f6d42bfb46c5a2a4c2c7bab",
            "value": "Downloading (…)lve/main/config.json: 100%"
          }
        },
        "92205bed25db4d11b26c30d5634177a3": {
          "model_module": "@jupyter-widgets/controls",
          "model_name": "FloatProgressModel",
          "model_module_version": "1.5.0",
          "state": {
            "_dom_classes": [],
            "_model_module": "@jupyter-widgets/controls",
            "_model_module_version": "1.5.0",
            "_model_name": "FloatProgressModel",
            "_view_count": null,
            "_view_module": "@jupyter-widgets/controls",
            "_view_module_version": "1.5.0",
            "_view_name": "ProgressView",
            "bar_style": "success",
            "description": "",
            "description_tooltip": null,
            "layout": "IPY_MODEL_3c882effba974cb79ad6f376669092fa",
            "max": 3117,
            "min": 0,
            "orientation": "horizontal",
            "style": "IPY_MODEL_dc77e9e7fece4722bfe65b9969731d83",
            "value": 3117
          }
        },
        "b6a1af05588f4f2bb54252411e375bcb": {
          "model_module": "@jupyter-widgets/controls",
          "model_name": "HTMLModel",
          "model_module_version": "1.5.0",
          "state": {
            "_dom_classes": [],
            "_model_module": "@jupyter-widgets/controls",
            "_model_module_version": "1.5.0",
            "_model_name": "HTMLModel",
            "_view_count": null,
            "_view_module": "@jupyter-widgets/controls",
            "_view_module_version": "1.5.0",
            "_view_name": "HTMLView",
            "description": "",
            "description_tooltip": null,
            "layout": "IPY_MODEL_acd5e87ee7c6472e8937d8588f7c2b96",
            "placeholder": "​",
            "style": "IPY_MODEL_82fd6214fe7a4858ac7eed7055438ebc",
            "value": " 3.12k/3.12k [00:00&lt;00:00, 126kB/s]"
          }
        },
        "8106c6c8dee8415cb26900ce3627406f": {
          "model_module": "@jupyter-widgets/base",
          "model_name": "LayoutModel",
          "model_module_version": "1.2.0",
          "state": {
            "_model_module": "@jupyter-widgets/base",
            "_model_module_version": "1.2.0",
            "_model_name": "LayoutModel",
            "_view_count": null,
            "_view_module": "@jupyter-widgets/base",
            "_view_module_version": "1.2.0",
            "_view_name": "LayoutView",
            "align_content": null,
            "align_items": null,
            "align_self": null,
            "border": null,
            "bottom": null,
            "display": null,
            "flex": null,
            "flex_flow": null,
            "grid_area": null,
            "grid_auto_columns": null,
            "grid_auto_flow": null,
            "grid_auto_rows": null,
            "grid_column": null,
            "grid_gap": null,
            "grid_row": null,
            "grid_template_areas": null,
            "grid_template_columns": null,
            "grid_template_rows": null,
            "height": null,
            "justify_content": null,
            "justify_items": null,
            "left": null,
            "margin": null,
            "max_height": null,
            "max_width": null,
            "min_height": null,
            "min_width": null,
            "object_fit": null,
            "object_position": null,
            "order": null,
            "overflow": null,
            "overflow_x": null,
            "overflow_y": null,
            "padding": null,
            "right": null,
            "top": null,
            "visibility": null,
            "width": null
          }
        },
        "419225e31fa441338eae19862cb2e061": {
          "model_module": "@jupyter-widgets/base",
          "model_name": "LayoutModel",
          "model_module_version": "1.2.0",
          "state": {
            "_model_module": "@jupyter-widgets/base",
            "_model_module_version": "1.2.0",
            "_model_name": "LayoutModel",
            "_view_count": null,
            "_view_module": "@jupyter-widgets/base",
            "_view_module_version": "1.2.0",
            "_view_name": "LayoutView",
            "align_content": null,
            "align_items": null,
            "align_self": null,
            "border": null,
            "bottom": null,
            "display": null,
            "flex": null,
            "flex_flow": null,
            "grid_area": null,
            "grid_auto_columns": null,
            "grid_auto_flow": null,
            "grid_auto_rows": null,
            "grid_column": null,
            "grid_gap": null,
            "grid_row": null,
            "grid_template_areas": null,
            "grid_template_columns": null,
            "grid_template_rows": null,
            "height": null,
            "justify_content": null,
            "justify_items": null,
            "left": null,
            "margin": null,
            "max_height": null,
            "max_width": null,
            "min_height": null,
            "min_width": null,
            "object_fit": null,
            "object_position": null,
            "order": null,
            "overflow": null,
            "overflow_x": null,
            "overflow_y": null,
            "padding": null,
            "right": null,
            "top": null,
            "visibility": null,
            "width": null
          }
        },
        "d3a8d6860f6d42bfb46c5a2a4c2c7bab": {
          "model_module": "@jupyter-widgets/controls",
          "model_name": "DescriptionStyleModel",
          "model_module_version": "1.5.0",
          "state": {
            "_model_module": "@jupyter-widgets/controls",
            "_model_module_version": "1.5.0",
            "_model_name": "DescriptionStyleModel",
            "_view_count": null,
            "_view_module": "@jupyter-widgets/base",
            "_view_module_version": "1.2.0",
            "_view_name": "StyleView",
            "description_width": ""
          }
        },
        "3c882effba974cb79ad6f376669092fa": {
          "model_module": "@jupyter-widgets/base",
          "model_name": "LayoutModel",
          "model_module_version": "1.2.0",
          "state": {
            "_model_module": "@jupyter-widgets/base",
            "_model_module_version": "1.2.0",
            "_model_name": "LayoutModel",
            "_view_count": null,
            "_view_module": "@jupyter-widgets/base",
            "_view_module_version": "1.2.0",
            "_view_name": "LayoutView",
            "align_content": null,
            "align_items": null,
            "align_self": null,
            "border": null,
            "bottom": null,
            "display": null,
            "flex": null,
            "flex_flow": null,
            "grid_area": null,
            "grid_auto_columns": null,
            "grid_auto_flow": null,
            "grid_auto_rows": null,
            "grid_column": null,
            "grid_gap": null,
            "grid_row": null,
            "grid_template_areas": null,
            "grid_template_columns": null,
            "grid_template_rows": null,
            "height": null,
            "justify_content": null,
            "justify_items": null,
            "left": null,
            "margin": null,
            "max_height": null,
            "max_width": null,
            "min_height": null,
            "min_width": null,
            "object_fit": null,
            "object_position": null,
            "order": null,
            "overflow": null,
            "overflow_x": null,
            "overflow_y": null,
            "padding": null,
            "right": null,
            "top": null,
            "visibility": null,
            "width": null
          }
        },
        "dc77e9e7fece4722bfe65b9969731d83": {
          "model_module": "@jupyter-widgets/controls",
          "model_name": "ProgressStyleModel",
          "model_module_version": "1.5.0",
          "state": {
            "_model_module": "@jupyter-widgets/controls",
            "_model_module_version": "1.5.0",
            "_model_name": "ProgressStyleModel",
            "_view_count": null,
            "_view_module": "@jupyter-widgets/base",
            "_view_module_version": "1.2.0",
            "_view_name": "StyleView",
            "bar_color": null,
            "description_width": ""
          }
        },
        "acd5e87ee7c6472e8937d8588f7c2b96": {
          "model_module": "@jupyter-widgets/base",
          "model_name": "LayoutModel",
          "model_module_version": "1.2.0",
          "state": {
            "_model_module": "@jupyter-widgets/base",
            "_model_module_version": "1.2.0",
            "_model_name": "LayoutModel",
            "_view_count": null,
            "_view_module": "@jupyter-widgets/base",
            "_view_module_version": "1.2.0",
            "_view_name": "LayoutView",
            "align_content": null,
            "align_items": null,
            "align_self": null,
            "border": null,
            "bottom": null,
            "display": null,
            "flex": null,
            "flex_flow": null,
            "grid_area": null,
            "grid_auto_columns": null,
            "grid_auto_flow": null,
            "grid_auto_rows": null,
            "grid_column": null,
            "grid_gap": null,
            "grid_row": null,
            "grid_template_areas": null,
            "grid_template_columns": null,
            "grid_template_rows": null,
            "height": null,
            "justify_content": null,
            "justify_items": null,
            "left": null,
            "margin": null,
            "max_height": null,
            "max_width": null,
            "min_height": null,
            "min_width": null,
            "object_fit": null,
            "object_position": null,
            "order": null,
            "overflow": null,
            "overflow_x": null,
            "overflow_y": null,
            "padding": null,
            "right": null,
            "top": null,
            "visibility": null,
            "width": null
          }
        },
        "82fd6214fe7a4858ac7eed7055438ebc": {
          "model_module": "@jupyter-widgets/controls",
          "model_name": "DescriptionStyleModel",
          "model_module_version": "1.5.0",
          "state": {
            "_model_module": "@jupyter-widgets/controls",
            "_model_module_version": "1.5.0",
            "_model_name": "DescriptionStyleModel",
            "_view_count": null,
            "_view_module": "@jupyter-widgets/base",
            "_view_module_version": "1.2.0",
            "_view_name": "StyleView",
            "description_width": ""
          }
        },
        "96a5f59c2c7442b591855bbd2a8ca155": {
          "model_module": "@jupyter-widgets/controls",
          "model_name": "HBoxModel",
          "model_module_version": "1.5.0",
          "state": {
            "_dom_classes": [],
            "_model_module": "@jupyter-widgets/controls",
            "_model_module_version": "1.5.0",
            "_model_name": "HBoxModel",
            "_view_count": null,
            "_view_module": "@jupyter-widgets/controls",
            "_view_module_version": "1.5.0",
            "_view_name": "HBoxView",
            "box_style": "",
            "children": [
              "IPY_MODEL_0e05ba7fc79b4d0485ac0ceae887f26b",
              "IPY_MODEL_7cb8e43fcc8d49b7bb1868c41b2c6f89",
              "IPY_MODEL_5b19c6cb3c004507819b3e0e5917bd17"
            ],
            "layout": "IPY_MODEL_cc0647300f4a461e904d7a7d25a3a200"
          }
        },
        "0e05ba7fc79b4d0485ac0ceae887f26b": {
          "model_module": "@jupyter-widgets/controls",
          "model_name": "HTMLModel",
          "model_module_version": "1.5.0",
          "state": {
            "_dom_classes": [],
            "_model_module": "@jupyter-widgets/controls",
            "_model_module_version": "1.5.0",
            "_model_name": "HTMLModel",
            "_view_count": null,
            "_view_module": "@jupyter-widgets/controls",
            "_view_module_version": "1.5.0",
            "_view_name": "HTMLView",
            "description": "",
            "description_tooltip": null,
            "layout": "IPY_MODEL_053c563397a64a28a38fe5e166bf308a",
            "placeholder": "​",
            "style": "IPY_MODEL_3c91235496c74d3dbed64d0c2196ba4e",
            "value": "Downloading pytorch_model.bin: 100%"
          }
        },
        "7cb8e43fcc8d49b7bb1868c41b2c6f89": {
          "model_module": "@jupyter-widgets/controls",
          "model_name": "FloatProgressModel",
          "model_module_version": "1.5.0",
          "state": {
            "_dom_classes": [],
            "_model_module": "@jupyter-widgets/controls",
            "_model_module_version": "1.5.0",
            "_model_name": "FloatProgressModel",
            "_view_count": null,
            "_view_module": "@jupyter-widgets/controls",
            "_view_module_version": "1.5.0",
            "_view_name": "ProgressView",
            "bar_style": "success",
            "description": "",
            "description_tooltip": null,
            "layout": "IPY_MODEL_75f1122f279347ae90740096a5d88492",
            "max": 2283804653,
            "min": 0,
            "orientation": "horizontal",
            "style": "IPY_MODEL_2bd1c524cb5d43c5b8a416b8411d368e",
            "value": 2283804653
          }
        },
        "5b19c6cb3c004507819b3e0e5917bd17": {
          "model_module": "@jupyter-widgets/controls",
          "model_name": "HTMLModel",
          "model_module_version": "1.5.0",
          "state": {
            "_dom_classes": [],
            "_model_module": "@jupyter-widgets/controls",
            "_model_module_version": "1.5.0",
            "_model_name": "HTMLModel",
            "_view_count": null,
            "_view_module": "@jupyter-widgets/controls",
            "_view_module_version": "1.5.0",
            "_view_name": "HTMLView",
            "description": "",
            "description_tooltip": null,
            "layout": "IPY_MODEL_18d53b14118d48f2a83da75c6331c2c4",
            "placeholder": "​",
            "style": "IPY_MODEL_5834f4fb081a426fbc26bfee60fa9ffe",
            "value": " 2.28G/2.28G [00:41&lt;00:00, 58.2MB/s]"
          }
        },
        "cc0647300f4a461e904d7a7d25a3a200": {
          "model_module": "@jupyter-widgets/base",
          "model_name": "LayoutModel",
          "model_module_version": "1.2.0",
          "state": {
            "_model_module": "@jupyter-widgets/base",
            "_model_module_version": "1.2.0",
            "_model_name": "LayoutModel",
            "_view_count": null,
            "_view_module": "@jupyter-widgets/base",
            "_view_module_version": "1.2.0",
            "_view_name": "LayoutView",
            "align_content": null,
            "align_items": null,
            "align_self": null,
            "border": null,
            "bottom": null,
            "display": null,
            "flex": null,
            "flex_flow": null,
            "grid_area": null,
            "grid_auto_columns": null,
            "grid_auto_flow": null,
            "grid_auto_rows": null,
            "grid_column": null,
            "grid_gap": null,
            "grid_row": null,
            "grid_template_areas": null,
            "grid_template_columns": null,
            "grid_template_rows": null,
            "height": null,
            "justify_content": null,
            "justify_items": null,
            "left": null,
            "margin": null,
            "max_height": null,
            "max_width": null,
            "min_height": null,
            "min_width": null,
            "object_fit": null,
            "object_position": null,
            "order": null,
            "overflow": null,
            "overflow_x": null,
            "overflow_y": null,
            "padding": null,
            "right": null,
            "top": null,
            "visibility": null,
            "width": null
          }
        },
        "053c563397a64a28a38fe5e166bf308a": {
          "model_module": "@jupyter-widgets/base",
          "model_name": "LayoutModel",
          "model_module_version": "1.2.0",
          "state": {
            "_model_module": "@jupyter-widgets/base",
            "_model_module_version": "1.2.0",
            "_model_name": "LayoutModel",
            "_view_count": null,
            "_view_module": "@jupyter-widgets/base",
            "_view_module_version": "1.2.0",
            "_view_name": "LayoutView",
            "align_content": null,
            "align_items": null,
            "align_self": null,
            "border": null,
            "bottom": null,
            "display": null,
            "flex": null,
            "flex_flow": null,
            "grid_area": null,
            "grid_auto_columns": null,
            "grid_auto_flow": null,
            "grid_auto_rows": null,
            "grid_column": null,
            "grid_gap": null,
            "grid_row": null,
            "grid_template_areas": null,
            "grid_template_columns": null,
            "grid_template_rows": null,
            "height": null,
            "justify_content": null,
            "justify_items": null,
            "left": null,
            "margin": null,
            "max_height": null,
            "max_width": null,
            "min_height": null,
            "min_width": null,
            "object_fit": null,
            "object_position": null,
            "order": null,
            "overflow": null,
            "overflow_x": null,
            "overflow_y": null,
            "padding": null,
            "right": null,
            "top": null,
            "visibility": null,
            "width": null
          }
        },
        "3c91235496c74d3dbed64d0c2196ba4e": {
          "model_module": "@jupyter-widgets/controls",
          "model_name": "DescriptionStyleModel",
          "model_module_version": "1.5.0",
          "state": {
            "_model_module": "@jupyter-widgets/controls",
            "_model_module_version": "1.5.0",
            "_model_name": "DescriptionStyleModel",
            "_view_count": null,
            "_view_module": "@jupyter-widgets/base",
            "_view_module_version": "1.2.0",
            "_view_name": "StyleView",
            "description_width": ""
          }
        },
        "75f1122f279347ae90740096a5d88492": {
          "model_module": "@jupyter-widgets/base",
          "model_name": "LayoutModel",
          "model_module_version": "1.2.0",
          "state": {
            "_model_module": "@jupyter-widgets/base",
            "_model_module_version": "1.2.0",
            "_model_name": "LayoutModel",
            "_view_count": null,
            "_view_module": "@jupyter-widgets/base",
            "_view_module_version": "1.2.0",
            "_view_name": "LayoutView",
            "align_content": null,
            "align_items": null,
            "align_self": null,
            "border": null,
            "bottom": null,
            "display": null,
            "flex": null,
            "flex_flow": null,
            "grid_area": null,
            "grid_auto_columns": null,
            "grid_auto_flow": null,
            "grid_auto_rows": null,
            "grid_column": null,
            "grid_gap": null,
            "grid_row": null,
            "grid_template_areas": null,
            "grid_template_columns": null,
            "grid_template_rows": null,
            "height": null,
            "justify_content": null,
            "justify_items": null,
            "left": null,
            "margin": null,
            "max_height": null,
            "max_width": null,
            "min_height": null,
            "min_width": null,
            "object_fit": null,
            "object_position": null,
            "order": null,
            "overflow": null,
            "overflow_x": null,
            "overflow_y": null,
            "padding": null,
            "right": null,
            "top": null,
            "visibility": null,
            "width": null
          }
        },
        "2bd1c524cb5d43c5b8a416b8411d368e": {
          "model_module": "@jupyter-widgets/controls",
          "model_name": "ProgressStyleModel",
          "model_module_version": "1.5.0",
          "state": {
            "_model_module": "@jupyter-widgets/controls",
            "_model_module_version": "1.5.0",
            "_model_name": "ProgressStyleModel",
            "_view_count": null,
            "_view_module": "@jupyter-widgets/base",
            "_view_module_version": "1.2.0",
            "_view_name": "StyleView",
            "bar_color": null,
            "description_width": ""
          }
        },
        "18d53b14118d48f2a83da75c6331c2c4": {
          "model_module": "@jupyter-widgets/base",
          "model_name": "LayoutModel",
          "model_module_version": "1.2.0",
          "state": {
            "_model_module": "@jupyter-widgets/base",
            "_model_module_version": "1.2.0",
            "_model_name": "LayoutModel",
            "_view_count": null,
            "_view_module": "@jupyter-widgets/base",
            "_view_module_version": "1.2.0",
            "_view_name": "LayoutView",
            "align_content": null,
            "align_items": null,
            "align_self": null,
            "border": null,
            "bottom": null,
            "display": null,
            "flex": null,
            "flex_flow": null,
            "grid_area": null,
            "grid_auto_columns": null,
            "grid_auto_flow": null,
            "grid_auto_rows": null,
            "grid_column": null,
            "grid_gap": null,
            "grid_row": null,
            "grid_template_areas": null,
            "grid_template_columns": null,
            "grid_template_rows": null,
            "height": null,
            "justify_content": null,
            "justify_items": null,
            "left": null,
            "margin": null,
            "max_height": null,
            "max_width": null,
            "min_height": null,
            "min_width": null,
            "object_fit": null,
            "object_position": null,
            "order": null,
            "overflow": null,
            "overflow_x": null,
            "overflow_y": null,
            "padding": null,
            "right": null,
            "top": null,
            "visibility": null,
            "width": null
          }
        },
        "5834f4fb081a426fbc26bfee60fa9ffe": {
          "model_module": "@jupyter-widgets/controls",
          "model_name": "DescriptionStyleModel",
          "model_module_version": "1.5.0",
          "state": {
            "_model_module": "@jupyter-widgets/controls",
            "_model_module_version": "1.5.0",
            "_model_name": "DescriptionStyleModel",
            "_view_count": null,
            "_view_module": "@jupyter-widgets/base",
            "_view_module_version": "1.2.0",
            "_view_name": "StyleView",
            "description_width": ""
          }
        },
        "4938de7b667c40e9ab69b625c46ccfe4": {
          "model_module": "@jupyter-widgets/controls",
          "model_name": "HBoxModel",
          "model_module_version": "1.5.0",
          "state": {
            "_dom_classes": [],
            "_model_module": "@jupyter-widgets/controls",
            "_model_module_version": "1.5.0",
            "_model_name": "HBoxModel",
            "_view_count": null,
            "_view_module": "@jupyter-widgets/controls",
            "_view_module_version": "1.5.0",
            "_view_name": "HBoxView",
            "box_style": "",
            "children": [
              "IPY_MODEL_8d5cb6c51e9748a89b40edc170841b03",
              "IPY_MODEL_8307ad7f8f7c40b89011858a19a449ec",
              "IPY_MODEL_4ea20030c7534635857a5c463a27089d"
            ],
            "layout": "IPY_MODEL_56b7d697d2f94f9abe0903c882fef9a1"
          }
        },
        "8d5cb6c51e9748a89b40edc170841b03": {
          "model_module": "@jupyter-widgets/controls",
          "model_name": "HTMLModel",
          "model_module_version": "1.5.0",
          "state": {
            "_dom_classes": [],
            "_model_module": "@jupyter-widgets/controls",
            "_model_module_version": "1.5.0",
            "_model_name": "HTMLModel",
            "_view_count": null,
            "_view_module": "@jupyter-widgets/controls",
            "_view_module_version": "1.5.0",
            "_view_name": "HTMLView",
            "description": "",
            "description_tooltip": null,
            "layout": "IPY_MODEL_8130786eaf314e87a3808038fb65117c",
            "placeholder": "​",
            "style": "IPY_MODEL_a9ffabb583634a19b463be786398060d",
            "value": "Downloading (…)neration_config.json: 100%"
          }
        },
        "8307ad7f8f7c40b89011858a19a449ec": {
          "model_module": "@jupyter-widgets/controls",
          "model_name": "FloatProgressModel",
          "model_module_version": "1.5.0",
          "state": {
            "_dom_classes": [],
            "_model_module": "@jupyter-widgets/controls",
            "_model_module_version": "1.5.0",
            "_model_name": "FloatProgressModel",
            "_view_count": null,
            "_view_module": "@jupyter-widgets/controls",
            "_view_module_version": "1.5.0",
            "_view_name": "ProgressView",
            "bar_style": "success",
            "description": "",
            "description_tooltip": null,
            "layout": "IPY_MODEL_034999e3ad4147e7975835a85d3d9379",
            "max": 255,
            "min": 0,
            "orientation": "horizontal",
            "style": "IPY_MODEL_484c97e083ac4058b1cf582e5f0b558c",
            "value": 255
          }
        },
        "4ea20030c7534635857a5c463a27089d": {
          "model_module": "@jupyter-widgets/controls",
          "model_name": "HTMLModel",
          "model_module_version": "1.5.0",
          "state": {
            "_dom_classes": [],
            "_model_module": "@jupyter-widgets/controls",
            "_model_module_version": "1.5.0",
            "_model_name": "HTMLModel",
            "_view_count": null,
            "_view_module": "@jupyter-widgets/controls",
            "_view_module_version": "1.5.0",
            "_view_name": "HTMLView",
            "description": "",
            "description_tooltip": null,
            "layout": "IPY_MODEL_25880134e06b4209a235b47e172ddc70",
            "placeholder": "​",
            "style": "IPY_MODEL_f0c21809173f42b0a1316063b4fe487d",
            "value": " 255/255 [00:00&lt;00:00, 20.3kB/s]"
          }
        },
        "56b7d697d2f94f9abe0903c882fef9a1": {
          "model_module": "@jupyter-widgets/base",
          "model_name": "LayoutModel",
          "model_module_version": "1.2.0",
          "state": {
            "_model_module": "@jupyter-widgets/base",
            "_model_module_version": "1.2.0",
            "_model_name": "LayoutModel",
            "_view_count": null,
            "_view_module": "@jupyter-widgets/base",
            "_view_module_version": "1.2.0",
            "_view_name": "LayoutView",
            "align_content": null,
            "align_items": null,
            "align_self": null,
            "border": null,
            "bottom": null,
            "display": null,
            "flex": null,
            "flex_flow": null,
            "grid_area": null,
            "grid_auto_columns": null,
            "grid_auto_flow": null,
            "grid_auto_rows": null,
            "grid_column": null,
            "grid_gap": null,
            "grid_row": null,
            "grid_template_areas": null,
            "grid_template_columns": null,
            "grid_template_rows": null,
            "height": null,
            "justify_content": null,
            "justify_items": null,
            "left": null,
            "margin": null,
            "max_height": null,
            "max_width": null,
            "min_height": null,
            "min_width": null,
            "object_fit": null,
            "object_position": null,
            "order": null,
            "overflow": null,
            "overflow_x": null,
            "overflow_y": null,
            "padding": null,
            "right": null,
            "top": null,
            "visibility": null,
            "width": null
          }
        },
        "8130786eaf314e87a3808038fb65117c": {
          "model_module": "@jupyter-widgets/base",
          "model_name": "LayoutModel",
          "model_module_version": "1.2.0",
          "state": {
            "_model_module": "@jupyter-widgets/base",
            "_model_module_version": "1.2.0",
            "_model_name": "LayoutModel",
            "_view_count": null,
            "_view_module": "@jupyter-widgets/base",
            "_view_module_version": "1.2.0",
            "_view_name": "LayoutView",
            "align_content": null,
            "align_items": null,
            "align_self": null,
            "border": null,
            "bottom": null,
            "display": null,
            "flex": null,
            "flex_flow": null,
            "grid_area": null,
            "grid_auto_columns": null,
            "grid_auto_flow": null,
            "grid_auto_rows": null,
            "grid_column": null,
            "grid_gap": null,
            "grid_row": null,
            "grid_template_areas": null,
            "grid_template_columns": null,
            "grid_template_rows": null,
            "height": null,
            "justify_content": null,
            "justify_items": null,
            "left": null,
            "margin": null,
            "max_height": null,
            "max_width": null,
            "min_height": null,
            "min_width": null,
            "object_fit": null,
            "object_position": null,
            "order": null,
            "overflow": null,
            "overflow_x": null,
            "overflow_y": null,
            "padding": null,
            "right": null,
            "top": null,
            "visibility": null,
            "width": null
          }
        },
        "a9ffabb583634a19b463be786398060d": {
          "model_module": "@jupyter-widgets/controls",
          "model_name": "DescriptionStyleModel",
          "model_module_version": "1.5.0",
          "state": {
            "_model_module": "@jupyter-widgets/controls",
            "_model_module_version": "1.5.0",
            "_model_name": "DescriptionStyleModel",
            "_view_count": null,
            "_view_module": "@jupyter-widgets/base",
            "_view_module_version": "1.2.0",
            "_view_name": "StyleView",
            "description_width": ""
          }
        },
        "034999e3ad4147e7975835a85d3d9379": {
          "model_module": "@jupyter-widgets/base",
          "model_name": "LayoutModel",
          "model_module_version": "1.2.0",
          "state": {
            "_model_module": "@jupyter-widgets/base",
            "_model_module_version": "1.2.0",
            "_model_name": "LayoutModel",
            "_view_count": null,
            "_view_module": "@jupyter-widgets/base",
            "_view_module_version": "1.2.0",
            "_view_name": "LayoutView",
            "align_content": null,
            "align_items": null,
            "align_self": null,
            "border": null,
            "bottom": null,
            "display": null,
            "flex": null,
            "flex_flow": null,
            "grid_area": null,
            "grid_auto_columns": null,
            "grid_auto_flow": null,
            "grid_auto_rows": null,
            "grid_column": null,
            "grid_gap": null,
            "grid_row": null,
            "grid_template_areas": null,
            "grid_template_columns": null,
            "grid_template_rows": null,
            "height": null,
            "justify_content": null,
            "justify_items": null,
            "left": null,
            "margin": null,
            "max_height": null,
            "max_width": null,
            "min_height": null,
            "min_width": null,
            "object_fit": null,
            "object_position": null,
            "order": null,
            "overflow": null,
            "overflow_x": null,
            "overflow_y": null,
            "padding": null,
            "right": null,
            "top": null,
            "visibility": null,
            "width": null
          }
        },
        "484c97e083ac4058b1cf582e5f0b558c": {
          "model_module": "@jupyter-widgets/controls",
          "model_name": "ProgressStyleModel",
          "model_module_version": "1.5.0",
          "state": {
            "_model_module": "@jupyter-widgets/controls",
            "_model_module_version": "1.5.0",
            "_model_name": "ProgressStyleModel",
            "_view_count": null,
            "_view_module": "@jupyter-widgets/base",
            "_view_module_version": "1.2.0",
            "_view_name": "StyleView",
            "bar_color": null,
            "description_width": ""
          }
        },
        "25880134e06b4209a235b47e172ddc70": {
          "model_module": "@jupyter-widgets/base",
          "model_name": "LayoutModel",
          "model_module_version": "1.2.0",
          "state": {
            "_model_module": "@jupyter-widgets/base",
            "_model_module_version": "1.2.0",
            "_model_name": "LayoutModel",
            "_view_count": null,
            "_view_module": "@jupyter-widgets/base",
            "_view_module_version": "1.2.0",
            "_view_name": "LayoutView",
            "align_content": null,
            "align_items": null,
            "align_self": null,
            "border": null,
            "bottom": null,
            "display": null,
            "flex": null,
            "flex_flow": null,
            "grid_area": null,
            "grid_auto_columns": null,
            "grid_auto_flow": null,
            "grid_auto_rows": null,
            "grid_column": null,
            "grid_gap": null,
            "grid_row": null,
            "grid_template_areas": null,
            "grid_template_columns": null,
            "grid_template_rows": null,
            "height": null,
            "justify_content": null,
            "justify_items": null,
            "left": null,
            "margin": null,
            "max_height": null,
            "max_width": null,
            "min_height": null,
            "min_width": null,
            "object_fit": null,
            "object_position": null,
            "order": null,
            "overflow": null,
            "overflow_x": null,
            "overflow_y": null,
            "padding": null,
            "right": null,
            "top": null,
            "visibility": null,
            "width": null
          }
        },
        "f0c21809173f42b0a1316063b4fe487d": {
          "model_module": "@jupyter-widgets/controls",
          "model_name": "DescriptionStyleModel",
          "model_module_version": "1.5.0",
          "state": {
            "_model_module": "@jupyter-widgets/controls",
            "_model_module_version": "1.5.0",
            "_model_name": "DescriptionStyleModel",
            "_view_count": null,
            "_view_module": "@jupyter-widgets/base",
            "_view_module_version": "1.2.0",
            "_view_name": "StyleView",
            "description_width": ""
          }
        },
        "4dac6911beaf4d3985bc229632cfbb8e": {
          "model_module": "@jupyter-widgets/controls",
          "model_name": "HBoxModel",
          "model_module_version": "1.5.0",
          "state": {
            "_dom_classes": [],
            "_model_module": "@jupyter-widgets/controls",
            "_model_module_version": "1.5.0",
            "_model_name": "HBoxModel",
            "_view_count": null,
            "_view_module": "@jupyter-widgets/controls",
            "_view_module_version": "1.5.0",
            "_view_name": "HBoxView",
            "box_style": "",
            "children": [
              "IPY_MODEL_f8f9b7af6569469b9a6ff799dfcc236f",
              "IPY_MODEL_5c440d2b87e043c59400f3439471047d",
              "IPY_MODEL_46b18b4aedb642d09f8e067a6222aa96"
            ],
            "layout": "IPY_MODEL_3f8a1ff823de4b57a082eea149e194ed"
          }
        },
        "f8f9b7af6569469b9a6ff799dfcc236f": {
          "model_module": "@jupyter-widgets/controls",
          "model_name": "HTMLModel",
          "model_module_version": "1.5.0",
          "state": {
            "_dom_classes": [],
            "_model_module": "@jupyter-widgets/controls",
            "_model_module_version": "1.5.0",
            "_model_name": "HTMLModel",
            "_view_count": null,
            "_view_module": "@jupyter-widgets/controls",
            "_view_module_version": "1.5.0",
            "_view_name": "HTMLView",
            "description": "",
            "description_tooltip": null,
            "layout": "IPY_MODEL_1633da4025da4edbb45ae103dfbb1a8f",
            "placeholder": "​",
            "style": "IPY_MODEL_6938bfa5211a4f1aad6ae1d87c9a517b",
            "value": "Downloading (…)lve/main/config.json: 100%"
          }
        },
        "5c440d2b87e043c59400f3439471047d": {
          "model_module": "@jupyter-widgets/controls",
          "model_name": "FloatProgressModel",
          "model_module_version": "1.5.0",
          "state": {
            "_dom_classes": [],
            "_model_module": "@jupyter-widgets/controls",
            "_model_module_version": "1.5.0",
            "_model_name": "FloatProgressModel",
            "_view_count": null,
            "_view_module": "@jupyter-widgets/controls",
            "_view_module_version": "1.5.0",
            "_view_name": "ProgressView",
            "bar_style": "success",
            "description": "",
            "description_tooltip": null,
            "layout": "IPY_MODEL_9c02d3ca8e934aedbe34912789ec8c9e",
            "max": 3094,
            "min": 0,
            "orientation": "horizontal",
            "style": "IPY_MODEL_fca744715a9d4a7ea1bf3ea66145a324",
            "value": 3094
          }
        },
        "46b18b4aedb642d09f8e067a6222aa96": {
          "model_module": "@jupyter-widgets/controls",
          "model_name": "HTMLModel",
          "model_module_version": "1.5.0",
          "state": {
            "_dom_classes": [],
            "_model_module": "@jupyter-widgets/controls",
            "_model_module_version": "1.5.0",
            "_model_name": "HTMLModel",
            "_view_count": null,
            "_view_module": "@jupyter-widgets/controls",
            "_view_module_version": "1.5.0",
            "_view_name": "HTMLView",
            "description": "",
            "description_tooltip": null,
            "layout": "IPY_MODEL_baa0707262724f648c889725c94cf0a0",
            "placeholder": "​",
            "style": "IPY_MODEL_447f43eb3073409b95c53f9c1cfb6687",
            "value": " 3.09k/3.09k [00:00&lt;00:00, 256kB/s]"
          }
        },
        "3f8a1ff823de4b57a082eea149e194ed": {
          "model_module": "@jupyter-widgets/base",
          "model_name": "LayoutModel",
          "model_module_version": "1.2.0",
          "state": {
            "_model_module": "@jupyter-widgets/base",
            "_model_module_version": "1.2.0",
            "_model_name": "LayoutModel",
            "_view_count": null,
            "_view_module": "@jupyter-widgets/base",
            "_view_module_version": "1.2.0",
            "_view_name": "LayoutView",
            "align_content": null,
            "align_items": null,
            "align_self": null,
            "border": null,
            "bottom": null,
            "display": null,
            "flex": null,
            "flex_flow": null,
            "grid_area": null,
            "grid_auto_columns": null,
            "grid_auto_flow": null,
            "grid_auto_rows": null,
            "grid_column": null,
            "grid_gap": null,
            "grid_row": null,
            "grid_template_areas": null,
            "grid_template_columns": null,
            "grid_template_rows": null,
            "height": null,
            "justify_content": null,
            "justify_items": null,
            "left": null,
            "margin": null,
            "max_height": null,
            "max_width": null,
            "min_height": null,
            "min_width": null,
            "object_fit": null,
            "object_position": null,
            "order": null,
            "overflow": null,
            "overflow_x": null,
            "overflow_y": null,
            "padding": null,
            "right": null,
            "top": null,
            "visibility": null,
            "width": null
          }
        },
        "1633da4025da4edbb45ae103dfbb1a8f": {
          "model_module": "@jupyter-widgets/base",
          "model_name": "LayoutModel",
          "model_module_version": "1.2.0",
          "state": {
            "_model_module": "@jupyter-widgets/base",
            "_model_module_version": "1.2.0",
            "_model_name": "LayoutModel",
            "_view_count": null,
            "_view_module": "@jupyter-widgets/base",
            "_view_module_version": "1.2.0",
            "_view_name": "LayoutView",
            "align_content": null,
            "align_items": null,
            "align_self": null,
            "border": null,
            "bottom": null,
            "display": null,
            "flex": null,
            "flex_flow": null,
            "grid_area": null,
            "grid_auto_columns": null,
            "grid_auto_flow": null,
            "grid_auto_rows": null,
            "grid_column": null,
            "grid_gap": null,
            "grid_row": null,
            "grid_template_areas": null,
            "grid_template_columns": null,
            "grid_template_rows": null,
            "height": null,
            "justify_content": null,
            "justify_items": null,
            "left": null,
            "margin": null,
            "max_height": null,
            "max_width": null,
            "min_height": null,
            "min_width": null,
            "object_fit": null,
            "object_position": null,
            "order": null,
            "overflow": null,
            "overflow_x": null,
            "overflow_y": null,
            "padding": null,
            "right": null,
            "top": null,
            "visibility": null,
            "width": null
          }
        },
        "6938bfa5211a4f1aad6ae1d87c9a517b": {
          "model_module": "@jupyter-widgets/controls",
          "model_name": "DescriptionStyleModel",
          "model_module_version": "1.5.0",
          "state": {
            "_model_module": "@jupyter-widgets/controls",
            "_model_module_version": "1.5.0",
            "_model_name": "DescriptionStyleModel",
            "_view_count": null,
            "_view_module": "@jupyter-widgets/base",
            "_view_module_version": "1.2.0",
            "_view_name": "StyleView",
            "description_width": ""
          }
        },
        "9c02d3ca8e934aedbe34912789ec8c9e": {
          "model_module": "@jupyter-widgets/base",
          "model_name": "LayoutModel",
          "model_module_version": "1.2.0",
          "state": {
            "_model_module": "@jupyter-widgets/base",
            "_model_module_version": "1.2.0",
            "_model_name": "LayoutModel",
            "_view_count": null,
            "_view_module": "@jupyter-widgets/base",
            "_view_module_version": "1.2.0",
            "_view_name": "LayoutView",
            "align_content": null,
            "align_items": null,
            "align_self": null,
            "border": null,
            "bottom": null,
            "display": null,
            "flex": null,
            "flex_flow": null,
            "grid_area": null,
            "grid_auto_columns": null,
            "grid_auto_flow": null,
            "grid_auto_rows": null,
            "grid_column": null,
            "grid_gap": null,
            "grid_row": null,
            "grid_template_areas": null,
            "grid_template_columns": null,
            "grid_template_rows": null,
            "height": null,
            "justify_content": null,
            "justify_items": null,
            "left": null,
            "margin": null,
            "max_height": null,
            "max_width": null,
            "min_height": null,
            "min_width": null,
            "object_fit": null,
            "object_position": null,
            "order": null,
            "overflow": null,
            "overflow_x": null,
            "overflow_y": null,
            "padding": null,
            "right": null,
            "top": null,
            "visibility": null,
            "width": null
          }
        },
        "fca744715a9d4a7ea1bf3ea66145a324": {
          "model_module": "@jupyter-widgets/controls",
          "model_name": "ProgressStyleModel",
          "model_module_version": "1.5.0",
          "state": {
            "_model_module": "@jupyter-widgets/controls",
            "_model_module_version": "1.5.0",
            "_model_name": "ProgressStyleModel",
            "_view_count": null,
            "_view_module": "@jupyter-widgets/base",
            "_view_module_version": "1.2.0",
            "_view_name": "StyleView",
            "bar_color": null,
            "description_width": ""
          }
        },
        "baa0707262724f648c889725c94cf0a0": {
          "model_module": "@jupyter-widgets/base",
          "model_name": "LayoutModel",
          "model_module_version": "1.2.0",
          "state": {
            "_model_module": "@jupyter-widgets/base",
            "_model_module_version": "1.2.0",
            "_model_name": "LayoutModel",
            "_view_count": null,
            "_view_module": "@jupyter-widgets/base",
            "_view_module_version": "1.2.0",
            "_view_name": "LayoutView",
            "align_content": null,
            "align_items": null,
            "align_self": null,
            "border": null,
            "bottom": null,
            "display": null,
            "flex": null,
            "flex_flow": null,
            "grid_area": null,
            "grid_auto_columns": null,
            "grid_auto_flow": null,
            "grid_auto_rows": null,
            "grid_column": null,
            "grid_gap": null,
            "grid_row": null,
            "grid_template_areas": null,
            "grid_template_columns": null,
            "grid_template_rows": null,
            "height": null,
            "justify_content": null,
            "justify_items": null,
            "left": null,
            "margin": null,
            "max_height": null,
            "max_width": null,
            "min_height": null,
            "min_width": null,
            "object_fit": null,
            "object_position": null,
            "order": null,
            "overflow": null,
            "overflow_x": null,
            "overflow_y": null,
            "padding": null,
            "right": null,
            "top": null,
            "visibility": null,
            "width": null
          }
        },
        "447f43eb3073409b95c53f9c1cfb6687": {
          "model_module": "@jupyter-widgets/controls",
          "model_name": "DescriptionStyleModel",
          "model_module_version": "1.5.0",
          "state": {
            "_model_module": "@jupyter-widgets/controls",
            "_model_module_version": "1.5.0",
            "_model_name": "DescriptionStyleModel",
            "_view_count": null,
            "_view_module": "@jupyter-widgets/base",
            "_view_module_version": "1.2.0",
            "_view_name": "StyleView",
            "description_width": ""
          }
        },
        "94f78b23d47e4613af6feafe721093de": {
          "model_module": "@jupyter-widgets/controls",
          "model_name": "HBoxModel",
          "model_module_version": "1.5.0",
          "state": {
            "_dom_classes": [],
            "_model_module": "@jupyter-widgets/controls",
            "_model_module_version": "1.5.0",
            "_model_name": "HBoxModel",
            "_view_count": null,
            "_view_module": "@jupyter-widgets/controls",
            "_view_module_version": "1.5.0",
            "_view_name": "HBoxView",
            "box_style": "",
            "children": [
              "IPY_MODEL_aa95fd6ba93d40c3ab97a437d13aee9a",
              "IPY_MODEL_f616d825621f4e14acf3ca32ff3af36c",
              "IPY_MODEL_54dba5da66a54d968e00573174dbe73f"
            ],
            "layout": "IPY_MODEL_3eb3c976885547dd8ea2ff4e1fcc9b0a"
          }
        },
        "aa95fd6ba93d40c3ab97a437d13aee9a": {
          "model_module": "@jupyter-widgets/controls",
          "model_name": "HTMLModel",
          "model_module_version": "1.5.0",
          "state": {
            "_dom_classes": [],
            "_model_module": "@jupyter-widgets/controls",
            "_model_module_version": "1.5.0",
            "_model_name": "HTMLModel",
            "_view_count": null,
            "_view_module": "@jupyter-widgets/controls",
            "_view_module_version": "1.5.0",
            "_view_name": "HTMLView",
            "description": "",
            "description_tooltip": null,
            "layout": "IPY_MODEL_d96327db4de540aeb170accb80050d9b",
            "placeholder": "​",
            "style": "IPY_MODEL_d6a12316c53c4580a8384f3224840627",
            "value": "Downloading (…)okenizer_config.json: 100%"
          }
        },
        "f616d825621f4e14acf3ca32ff3af36c": {
          "model_module": "@jupyter-widgets/controls",
          "model_name": "FloatProgressModel",
          "model_module_version": "1.5.0",
          "state": {
            "_dom_classes": [],
            "_model_module": "@jupyter-widgets/controls",
            "_model_module_version": "1.5.0",
            "_model_name": "FloatProgressModel",
            "_view_count": null,
            "_view_module": "@jupyter-widgets/controls",
            "_view_module_version": "1.5.0",
            "_view_name": "ProgressView",
            "bar_style": "success",
            "description": "",
            "description_tooltip": null,
            "layout": "IPY_MODEL_ddfc84d6a7874e84a55715e137330bff",
            "max": 88,
            "min": 0,
            "orientation": "horizontal",
            "style": "IPY_MODEL_2578966d94874add995594712418c59c",
            "value": 88
          }
        },
        "54dba5da66a54d968e00573174dbe73f": {
          "model_module": "@jupyter-widgets/controls",
          "model_name": "HTMLModel",
          "model_module_version": "1.5.0",
          "state": {
            "_dom_classes": [],
            "_model_module": "@jupyter-widgets/controls",
            "_model_module_version": "1.5.0",
            "_model_name": "HTMLModel",
            "_view_count": null,
            "_view_module": "@jupyter-widgets/controls",
            "_view_module_version": "1.5.0",
            "_view_name": "HTMLView",
            "description": "",
            "description_tooltip": null,
            "layout": "IPY_MODEL_674a02f4cff148b29789925d8c748454",
            "placeholder": "​",
            "style": "IPY_MODEL_b7d1428f0559468da007898ad798c6aa",
            "value": " 88.0/88.0 [00:00&lt;00:00, 5.00kB/s]"
          }
        },
        "3eb3c976885547dd8ea2ff4e1fcc9b0a": {
          "model_module": "@jupyter-widgets/base",
          "model_name": "LayoutModel",
          "model_module_version": "1.2.0",
          "state": {
            "_model_module": "@jupyter-widgets/base",
            "_model_module_version": "1.2.0",
            "_model_name": "LayoutModel",
            "_view_count": null,
            "_view_module": "@jupyter-widgets/base",
            "_view_module_version": "1.2.0",
            "_view_name": "LayoutView",
            "align_content": null,
            "align_items": null,
            "align_self": null,
            "border": null,
            "bottom": null,
            "display": null,
            "flex": null,
            "flex_flow": null,
            "grid_area": null,
            "grid_auto_columns": null,
            "grid_auto_flow": null,
            "grid_auto_rows": null,
            "grid_column": null,
            "grid_gap": null,
            "grid_row": null,
            "grid_template_areas": null,
            "grid_template_columns": null,
            "grid_template_rows": null,
            "height": null,
            "justify_content": null,
            "justify_items": null,
            "left": null,
            "margin": null,
            "max_height": null,
            "max_width": null,
            "min_height": null,
            "min_width": null,
            "object_fit": null,
            "object_position": null,
            "order": null,
            "overflow": null,
            "overflow_x": null,
            "overflow_y": null,
            "padding": null,
            "right": null,
            "top": null,
            "visibility": null,
            "width": null
          }
        },
        "d96327db4de540aeb170accb80050d9b": {
          "model_module": "@jupyter-widgets/base",
          "model_name": "LayoutModel",
          "model_module_version": "1.2.0",
          "state": {
            "_model_module": "@jupyter-widgets/base",
            "_model_module_version": "1.2.0",
            "_model_name": "LayoutModel",
            "_view_count": null,
            "_view_module": "@jupyter-widgets/base",
            "_view_module_version": "1.2.0",
            "_view_name": "LayoutView",
            "align_content": null,
            "align_items": null,
            "align_self": null,
            "border": null,
            "bottom": null,
            "display": null,
            "flex": null,
            "flex_flow": null,
            "grid_area": null,
            "grid_auto_columns": null,
            "grid_auto_flow": null,
            "grid_auto_rows": null,
            "grid_column": null,
            "grid_gap": null,
            "grid_row": null,
            "grid_template_areas": null,
            "grid_template_columns": null,
            "grid_template_rows": null,
            "height": null,
            "justify_content": null,
            "justify_items": null,
            "left": null,
            "margin": null,
            "max_height": null,
            "max_width": null,
            "min_height": null,
            "min_width": null,
            "object_fit": null,
            "object_position": null,
            "order": null,
            "overflow": null,
            "overflow_x": null,
            "overflow_y": null,
            "padding": null,
            "right": null,
            "top": null,
            "visibility": null,
            "width": null
          }
        },
        "d6a12316c53c4580a8384f3224840627": {
          "model_module": "@jupyter-widgets/controls",
          "model_name": "DescriptionStyleModel",
          "model_module_version": "1.5.0",
          "state": {
            "_model_module": "@jupyter-widgets/controls",
            "_model_module_version": "1.5.0",
            "_model_name": "DescriptionStyleModel",
            "_view_count": null,
            "_view_module": "@jupyter-widgets/base",
            "_view_module_version": "1.2.0",
            "_view_name": "StyleView",
            "description_width": ""
          }
        },
        "ddfc84d6a7874e84a55715e137330bff": {
          "model_module": "@jupyter-widgets/base",
          "model_name": "LayoutModel",
          "model_module_version": "1.2.0",
          "state": {
            "_model_module": "@jupyter-widgets/base",
            "_model_module_version": "1.2.0",
            "_model_name": "LayoutModel",
            "_view_count": null,
            "_view_module": "@jupyter-widgets/base",
            "_view_module_version": "1.2.0",
            "_view_name": "LayoutView",
            "align_content": null,
            "align_items": null,
            "align_self": null,
            "border": null,
            "bottom": null,
            "display": null,
            "flex": null,
            "flex_flow": null,
            "grid_area": null,
            "grid_auto_columns": null,
            "grid_auto_flow": null,
            "grid_auto_rows": null,
            "grid_column": null,
            "grid_gap": null,
            "grid_row": null,
            "grid_template_areas": null,
            "grid_template_columns": null,
            "grid_template_rows": null,
            "height": null,
            "justify_content": null,
            "justify_items": null,
            "left": null,
            "margin": null,
            "max_height": null,
            "max_width": null,
            "min_height": null,
            "min_width": null,
            "object_fit": null,
            "object_position": null,
            "order": null,
            "overflow": null,
            "overflow_x": null,
            "overflow_y": null,
            "padding": null,
            "right": null,
            "top": null,
            "visibility": null,
            "width": null
          }
        },
        "2578966d94874add995594712418c59c": {
          "model_module": "@jupyter-widgets/controls",
          "model_name": "ProgressStyleModel",
          "model_module_version": "1.5.0",
          "state": {
            "_model_module": "@jupyter-widgets/controls",
            "_model_module_version": "1.5.0",
            "_model_name": "ProgressStyleModel",
            "_view_count": null,
            "_view_module": "@jupyter-widgets/base",
            "_view_module_version": "1.2.0",
            "_view_name": "StyleView",
            "bar_color": null,
            "description_width": ""
          }
        },
        "674a02f4cff148b29789925d8c748454": {
          "model_module": "@jupyter-widgets/base",
          "model_name": "LayoutModel",
          "model_module_version": "1.2.0",
          "state": {
            "_model_module": "@jupyter-widgets/base",
            "_model_module_version": "1.2.0",
            "_model_name": "LayoutModel",
            "_view_count": null,
            "_view_module": "@jupyter-widgets/base",
            "_view_module_version": "1.2.0",
            "_view_name": "LayoutView",
            "align_content": null,
            "align_items": null,
            "align_self": null,
            "border": null,
            "bottom": null,
            "display": null,
            "flex": null,
            "flex_flow": null,
            "grid_area": null,
            "grid_auto_columns": null,
            "grid_auto_flow": null,
            "grid_auto_rows": null,
            "grid_column": null,
            "grid_gap": null,
            "grid_row": null,
            "grid_template_areas": null,
            "grid_template_columns": null,
            "grid_template_rows": null,
            "height": null,
            "justify_content": null,
            "justify_items": null,
            "left": null,
            "margin": null,
            "max_height": null,
            "max_width": null,
            "min_height": null,
            "min_width": null,
            "object_fit": null,
            "object_position": null,
            "order": null,
            "overflow": null,
            "overflow_x": null,
            "overflow_y": null,
            "padding": null,
            "right": null,
            "top": null,
            "visibility": null,
            "width": null
          }
        },
        "b7d1428f0559468da007898ad798c6aa": {
          "model_module": "@jupyter-widgets/controls",
          "model_name": "DescriptionStyleModel",
          "model_module_version": "1.5.0",
          "state": {
            "_model_module": "@jupyter-widgets/controls",
            "_model_module_version": "1.5.0",
            "_model_name": "DescriptionStyleModel",
            "_view_count": null,
            "_view_module": "@jupyter-widgets/base",
            "_view_module_version": "1.2.0",
            "_view_name": "StyleView",
            "description_width": ""
          }
        },
        "486e6c599a8942a0a58c13959bdb46b7": {
          "model_module": "@jupyter-widgets/controls",
          "model_name": "HBoxModel",
          "model_module_version": "1.5.0",
          "state": {
            "_dom_classes": [],
            "_model_module": "@jupyter-widgets/controls",
            "_model_module_version": "1.5.0",
            "_model_name": "HBoxModel",
            "_view_count": null,
            "_view_module": "@jupyter-widgets/controls",
            "_view_module_version": "1.5.0",
            "_view_name": "HBoxView",
            "box_style": "",
            "children": [
              "IPY_MODEL_101d467da45145e1aac7c775c8adec7d",
              "IPY_MODEL_00dc4bd5bdb547a8a003542b2ab74865",
              "IPY_MODEL_c4beb7ac8e464cc1b76030bc7bb8aa4f"
            ],
            "layout": "IPY_MODEL_28bf31dcd5744e71a3124b5cc06eaf30"
          }
        },
        "101d467da45145e1aac7c775c8adec7d": {
          "model_module": "@jupyter-widgets/controls",
          "model_name": "HTMLModel",
          "model_module_version": "1.5.0",
          "state": {
            "_dom_classes": [],
            "_model_module": "@jupyter-widgets/controls",
            "_model_module_version": "1.5.0",
            "_model_name": "HTMLModel",
            "_view_count": null,
            "_view_module": "@jupyter-widgets/controls",
            "_view_module_version": "1.5.0",
            "_view_name": "HTMLView",
            "description": "",
            "description_tooltip": null,
            "layout": "IPY_MODEL_c4c7c2f56fef44af9efb451d887a8707",
            "placeholder": "​",
            "style": "IPY_MODEL_c9f62b4d14fa45ce8c7d962cd6aac1d3",
            "value": "Downloading (…)ve/main/spiece.model: 100%"
          }
        },
        "00dc4bd5bdb547a8a003542b2ab74865": {
          "model_module": "@jupyter-widgets/controls",
          "model_name": "FloatProgressModel",
          "model_module_version": "1.5.0",
          "state": {
            "_dom_classes": [],
            "_model_module": "@jupyter-widgets/controls",
            "_model_module_version": "1.5.0",
            "_model_name": "FloatProgressModel",
            "_view_count": null,
            "_view_module": "@jupyter-widgets/controls",
            "_view_module_version": "1.5.0",
            "_view_name": "ProgressView",
            "bar_style": "success",
            "description": "",
            "description_tooltip": null,
            "layout": "IPY_MODEL_f07c1852449746d398f9ce6450edc68d",
            "max": 1912529,
            "min": 0,
            "orientation": "horizontal",
            "style": "IPY_MODEL_a039043299da45e08cc9889e01e52f09",
            "value": 1912529
          }
        },
        "c4beb7ac8e464cc1b76030bc7bb8aa4f": {
          "model_module": "@jupyter-widgets/controls",
          "model_name": "HTMLModel",
          "model_module_version": "1.5.0",
          "state": {
            "_dom_classes": [],
            "_model_module": "@jupyter-widgets/controls",
            "_model_module_version": "1.5.0",
            "_model_name": "HTMLModel",
            "_view_count": null,
            "_view_module": "@jupyter-widgets/controls",
            "_view_module_version": "1.5.0",
            "_view_name": "HTMLView",
            "description": "",
            "description_tooltip": null,
            "layout": "IPY_MODEL_dd103aaa90b241689af4c9ef0a7171ee",
            "placeholder": "​",
            "style": "IPY_MODEL_b69d1b6f95fd4368bd03f3146fbff25e",
            "value": " 1.91M/1.91M [00:00&lt;00:00, 6.45MB/s]"
          }
        },
        "28bf31dcd5744e71a3124b5cc06eaf30": {
          "model_module": "@jupyter-widgets/base",
          "model_name": "LayoutModel",
          "model_module_version": "1.2.0",
          "state": {
            "_model_module": "@jupyter-widgets/base",
            "_model_module_version": "1.2.0",
            "_model_name": "LayoutModel",
            "_view_count": null,
            "_view_module": "@jupyter-widgets/base",
            "_view_module_version": "1.2.0",
            "_view_name": "LayoutView",
            "align_content": null,
            "align_items": null,
            "align_self": null,
            "border": null,
            "bottom": null,
            "display": null,
            "flex": null,
            "flex_flow": null,
            "grid_area": null,
            "grid_auto_columns": null,
            "grid_auto_flow": null,
            "grid_auto_rows": null,
            "grid_column": null,
            "grid_gap": null,
            "grid_row": null,
            "grid_template_areas": null,
            "grid_template_columns": null,
            "grid_template_rows": null,
            "height": null,
            "justify_content": null,
            "justify_items": null,
            "left": null,
            "margin": null,
            "max_height": null,
            "max_width": null,
            "min_height": null,
            "min_width": null,
            "object_fit": null,
            "object_position": null,
            "order": null,
            "overflow": null,
            "overflow_x": null,
            "overflow_y": null,
            "padding": null,
            "right": null,
            "top": null,
            "visibility": null,
            "width": null
          }
        },
        "c4c7c2f56fef44af9efb451d887a8707": {
          "model_module": "@jupyter-widgets/base",
          "model_name": "LayoutModel",
          "model_module_version": "1.2.0",
          "state": {
            "_model_module": "@jupyter-widgets/base",
            "_model_module_version": "1.2.0",
            "_model_name": "LayoutModel",
            "_view_count": null,
            "_view_module": "@jupyter-widgets/base",
            "_view_module_version": "1.2.0",
            "_view_name": "LayoutView",
            "align_content": null,
            "align_items": null,
            "align_self": null,
            "border": null,
            "bottom": null,
            "display": null,
            "flex": null,
            "flex_flow": null,
            "grid_area": null,
            "grid_auto_columns": null,
            "grid_auto_flow": null,
            "grid_auto_rows": null,
            "grid_column": null,
            "grid_gap": null,
            "grid_row": null,
            "grid_template_areas": null,
            "grid_template_columns": null,
            "grid_template_rows": null,
            "height": null,
            "justify_content": null,
            "justify_items": null,
            "left": null,
            "margin": null,
            "max_height": null,
            "max_width": null,
            "min_height": null,
            "min_width": null,
            "object_fit": null,
            "object_position": null,
            "order": null,
            "overflow": null,
            "overflow_x": null,
            "overflow_y": null,
            "padding": null,
            "right": null,
            "top": null,
            "visibility": null,
            "width": null
          }
        },
        "c9f62b4d14fa45ce8c7d962cd6aac1d3": {
          "model_module": "@jupyter-widgets/controls",
          "model_name": "DescriptionStyleModel",
          "model_module_version": "1.5.0",
          "state": {
            "_model_module": "@jupyter-widgets/controls",
            "_model_module_version": "1.5.0",
            "_model_name": "DescriptionStyleModel",
            "_view_count": null,
            "_view_module": "@jupyter-widgets/base",
            "_view_module_version": "1.2.0",
            "_view_name": "StyleView",
            "description_width": ""
          }
        },
        "f07c1852449746d398f9ce6450edc68d": {
          "model_module": "@jupyter-widgets/base",
          "model_name": "LayoutModel",
          "model_module_version": "1.2.0",
          "state": {
            "_model_module": "@jupyter-widgets/base",
            "_model_module_version": "1.2.0",
            "_model_name": "LayoutModel",
            "_view_count": null,
            "_view_module": "@jupyter-widgets/base",
            "_view_module_version": "1.2.0",
            "_view_name": "LayoutView",
            "align_content": null,
            "align_items": null,
            "align_self": null,
            "border": null,
            "bottom": null,
            "display": null,
            "flex": null,
            "flex_flow": null,
            "grid_area": null,
            "grid_auto_columns": null,
            "grid_auto_flow": null,
            "grid_auto_rows": null,
            "grid_column": null,
            "grid_gap": null,
            "grid_row": null,
            "grid_template_areas": null,
            "grid_template_columns": null,
            "grid_template_rows": null,
            "height": null,
            "justify_content": null,
            "justify_items": null,
            "left": null,
            "margin": null,
            "max_height": null,
            "max_width": null,
            "min_height": null,
            "min_width": null,
            "object_fit": null,
            "object_position": null,
            "order": null,
            "overflow": null,
            "overflow_x": null,
            "overflow_y": null,
            "padding": null,
            "right": null,
            "top": null,
            "visibility": null,
            "width": null
          }
        },
        "a039043299da45e08cc9889e01e52f09": {
          "model_module": "@jupyter-widgets/controls",
          "model_name": "ProgressStyleModel",
          "model_module_version": "1.5.0",
          "state": {
            "_model_module": "@jupyter-widgets/controls",
            "_model_module_version": "1.5.0",
            "_model_name": "ProgressStyleModel",
            "_view_count": null,
            "_view_module": "@jupyter-widgets/base",
            "_view_module_version": "1.2.0",
            "_view_name": "StyleView",
            "bar_color": null,
            "description_width": ""
          }
        },
        "dd103aaa90b241689af4c9ef0a7171ee": {
          "model_module": "@jupyter-widgets/base",
          "model_name": "LayoutModel",
          "model_module_version": "1.2.0",
          "state": {
            "_model_module": "@jupyter-widgets/base",
            "_model_module_version": "1.2.0",
            "_model_name": "LayoutModel",
            "_view_count": null,
            "_view_module": "@jupyter-widgets/base",
            "_view_module_version": "1.2.0",
            "_view_name": "LayoutView",
            "align_content": null,
            "align_items": null,
            "align_self": null,
            "border": null,
            "bottom": null,
            "display": null,
            "flex": null,
            "flex_flow": null,
            "grid_area": null,
            "grid_auto_columns": null,
            "grid_auto_flow": null,
            "grid_auto_rows": null,
            "grid_column": null,
            "grid_gap": null,
            "grid_row": null,
            "grid_template_areas": null,
            "grid_template_columns": null,
            "grid_template_rows": null,
            "height": null,
            "justify_content": null,
            "justify_items": null,
            "left": null,
            "margin": null,
            "max_height": null,
            "max_width": null,
            "min_height": null,
            "min_width": null,
            "object_fit": null,
            "object_position": null,
            "order": null,
            "overflow": null,
            "overflow_x": null,
            "overflow_y": null,
            "padding": null,
            "right": null,
            "top": null,
            "visibility": null,
            "width": null
          }
        },
        "b69d1b6f95fd4368bd03f3146fbff25e": {
          "model_module": "@jupyter-widgets/controls",
          "model_name": "DescriptionStyleModel",
          "model_module_version": "1.5.0",
          "state": {
            "_model_module": "@jupyter-widgets/controls",
            "_model_module_version": "1.5.0",
            "_model_name": "DescriptionStyleModel",
            "_view_count": null,
            "_view_module": "@jupyter-widgets/base",
            "_view_module_version": "1.2.0",
            "_view_name": "StyleView",
            "description_width": ""
          }
        },
        "c0884fd04bf64e7a87f95d53e6b2f00a": {
          "model_module": "@jupyter-widgets/controls",
          "model_name": "HBoxModel",
          "model_module_version": "1.5.0",
          "state": {
            "_dom_classes": [],
            "_model_module": "@jupyter-widgets/controls",
            "_model_module_version": "1.5.0",
            "_model_name": "HBoxModel",
            "_view_count": null,
            "_view_module": "@jupyter-widgets/controls",
            "_view_module_version": "1.5.0",
            "_view_name": "HBoxView",
            "box_style": "",
            "children": [
              "IPY_MODEL_2d48c925ec6a42c4856642625c88ca77",
              "IPY_MODEL_cfd32f542fe74dff8fcbc8b15ac43fa0",
              "IPY_MODEL_32b039b47f184bdd9f7afeb2bf3f7ac0"
            ],
            "layout": "IPY_MODEL_39377307e1a54294a25c987e63861013"
          }
        },
        "2d48c925ec6a42c4856642625c88ca77": {
          "model_module": "@jupyter-widgets/controls",
          "model_name": "HTMLModel",
          "model_module_version": "1.5.0",
          "state": {
            "_dom_classes": [],
            "_model_module": "@jupyter-widgets/controls",
            "_model_module_version": "1.5.0",
            "_model_name": "HTMLModel",
            "_view_count": null,
            "_view_module": "@jupyter-widgets/controls",
            "_view_module_version": "1.5.0",
            "_view_name": "HTMLView",
            "description": "",
            "description_tooltip": null,
            "layout": "IPY_MODEL_258113282341437699e418bad714d59c",
            "placeholder": "​",
            "style": "IPY_MODEL_1c25f3e3f58446f4ad0224ccaef116b9",
            "value": "Downloading (…)cial_tokens_map.json: 100%"
          }
        },
        "cfd32f542fe74dff8fcbc8b15ac43fa0": {
          "model_module": "@jupyter-widgets/controls",
          "model_name": "FloatProgressModel",
          "model_module_version": "1.5.0",
          "state": {
            "_dom_classes": [],
            "_model_module": "@jupyter-widgets/controls",
            "_model_module_version": "1.5.0",
            "_model_name": "FloatProgressModel",
            "_view_count": null,
            "_view_module": "@jupyter-widgets/controls",
            "_view_module_version": "1.5.0",
            "_view_name": "ProgressView",
            "bar_style": "success",
            "description": "",
            "description_tooltip": null,
            "layout": "IPY_MODEL_432d8b5796094683a049166d221a30d8",
            "max": 65,
            "min": 0,
            "orientation": "horizontal",
            "style": "IPY_MODEL_388bf78a32894cc7b9e74e449a2ef9b8",
            "value": 65
          }
        },
        "32b039b47f184bdd9f7afeb2bf3f7ac0": {
          "model_module": "@jupyter-widgets/controls",
          "model_name": "HTMLModel",
          "model_module_version": "1.5.0",
          "state": {
            "_dom_classes": [],
            "_model_module": "@jupyter-widgets/controls",
            "_model_module_version": "1.5.0",
            "_model_name": "HTMLModel",
            "_view_count": null,
            "_view_module": "@jupyter-widgets/controls",
            "_view_module_version": "1.5.0",
            "_view_name": "HTMLView",
            "description": "",
            "description_tooltip": null,
            "layout": "IPY_MODEL_a6ed5b2e279a46ecbbf8046d0cb795e0",
            "placeholder": "​",
            "style": "IPY_MODEL_0eaa57d0007a4f23b21cb4da7093abb6",
            "value": " 65.0/65.0 [00:00&lt;00:00, 3.34kB/s]"
          }
        },
        "39377307e1a54294a25c987e63861013": {
          "model_module": "@jupyter-widgets/base",
          "model_name": "LayoutModel",
          "model_module_version": "1.2.0",
          "state": {
            "_model_module": "@jupyter-widgets/base",
            "_model_module_version": "1.2.0",
            "_model_name": "LayoutModel",
            "_view_count": null,
            "_view_module": "@jupyter-widgets/base",
            "_view_module_version": "1.2.0",
            "_view_name": "LayoutView",
            "align_content": null,
            "align_items": null,
            "align_self": null,
            "border": null,
            "bottom": null,
            "display": null,
            "flex": null,
            "flex_flow": null,
            "grid_area": null,
            "grid_auto_columns": null,
            "grid_auto_flow": null,
            "grid_auto_rows": null,
            "grid_column": null,
            "grid_gap": null,
            "grid_row": null,
            "grid_template_areas": null,
            "grid_template_columns": null,
            "grid_template_rows": null,
            "height": null,
            "justify_content": null,
            "justify_items": null,
            "left": null,
            "margin": null,
            "max_height": null,
            "max_width": null,
            "min_height": null,
            "min_width": null,
            "object_fit": null,
            "object_position": null,
            "order": null,
            "overflow": null,
            "overflow_x": null,
            "overflow_y": null,
            "padding": null,
            "right": null,
            "top": null,
            "visibility": null,
            "width": null
          }
        },
        "258113282341437699e418bad714d59c": {
          "model_module": "@jupyter-widgets/base",
          "model_name": "LayoutModel",
          "model_module_version": "1.2.0",
          "state": {
            "_model_module": "@jupyter-widgets/base",
            "_model_module_version": "1.2.0",
            "_model_name": "LayoutModel",
            "_view_count": null,
            "_view_module": "@jupyter-widgets/base",
            "_view_module_version": "1.2.0",
            "_view_name": "LayoutView",
            "align_content": null,
            "align_items": null,
            "align_self": null,
            "border": null,
            "bottom": null,
            "display": null,
            "flex": null,
            "flex_flow": null,
            "grid_area": null,
            "grid_auto_columns": null,
            "grid_auto_flow": null,
            "grid_auto_rows": null,
            "grid_column": null,
            "grid_gap": null,
            "grid_row": null,
            "grid_template_areas": null,
            "grid_template_columns": null,
            "grid_template_rows": null,
            "height": null,
            "justify_content": null,
            "justify_items": null,
            "left": null,
            "margin": null,
            "max_height": null,
            "max_width": null,
            "min_height": null,
            "min_width": null,
            "object_fit": null,
            "object_position": null,
            "order": null,
            "overflow": null,
            "overflow_x": null,
            "overflow_y": null,
            "padding": null,
            "right": null,
            "top": null,
            "visibility": null,
            "width": null
          }
        },
        "1c25f3e3f58446f4ad0224ccaef116b9": {
          "model_module": "@jupyter-widgets/controls",
          "model_name": "DescriptionStyleModel",
          "model_module_version": "1.5.0",
          "state": {
            "_model_module": "@jupyter-widgets/controls",
            "_model_module_version": "1.5.0",
            "_model_name": "DescriptionStyleModel",
            "_view_count": null,
            "_view_module": "@jupyter-widgets/base",
            "_view_module_version": "1.2.0",
            "_view_name": "StyleView",
            "description_width": ""
          }
        },
        "432d8b5796094683a049166d221a30d8": {
          "model_module": "@jupyter-widgets/base",
          "model_name": "LayoutModel",
          "model_module_version": "1.2.0",
          "state": {
            "_model_module": "@jupyter-widgets/base",
            "_model_module_version": "1.2.0",
            "_model_name": "LayoutModel",
            "_view_count": null,
            "_view_module": "@jupyter-widgets/base",
            "_view_module_version": "1.2.0",
            "_view_name": "LayoutView",
            "align_content": null,
            "align_items": null,
            "align_self": null,
            "border": null,
            "bottom": null,
            "display": null,
            "flex": null,
            "flex_flow": null,
            "grid_area": null,
            "grid_auto_columns": null,
            "grid_auto_flow": null,
            "grid_auto_rows": null,
            "grid_column": null,
            "grid_gap": null,
            "grid_row": null,
            "grid_template_areas": null,
            "grid_template_columns": null,
            "grid_template_rows": null,
            "height": null,
            "justify_content": null,
            "justify_items": null,
            "left": null,
            "margin": null,
            "max_height": null,
            "max_width": null,
            "min_height": null,
            "min_width": null,
            "object_fit": null,
            "object_position": null,
            "order": null,
            "overflow": null,
            "overflow_x": null,
            "overflow_y": null,
            "padding": null,
            "right": null,
            "top": null,
            "visibility": null,
            "width": null
          }
        },
        "388bf78a32894cc7b9e74e449a2ef9b8": {
          "model_module": "@jupyter-widgets/controls",
          "model_name": "ProgressStyleModel",
          "model_module_version": "1.5.0",
          "state": {
            "_model_module": "@jupyter-widgets/controls",
            "_model_module_version": "1.5.0",
            "_model_name": "ProgressStyleModel",
            "_view_count": null,
            "_view_module": "@jupyter-widgets/base",
            "_view_module_version": "1.2.0",
            "_view_name": "StyleView",
            "bar_color": null,
            "description_width": ""
          }
        },
        "a6ed5b2e279a46ecbbf8046d0cb795e0": {
          "model_module": "@jupyter-widgets/base",
          "model_name": "LayoutModel",
          "model_module_version": "1.2.0",
          "state": {
            "_model_module": "@jupyter-widgets/base",
            "_model_module_version": "1.2.0",
            "_model_name": "LayoutModel",
            "_view_count": null,
            "_view_module": "@jupyter-widgets/base",
            "_view_module_version": "1.2.0",
            "_view_name": "LayoutView",
            "align_content": null,
            "align_items": null,
            "align_self": null,
            "border": null,
            "bottom": null,
            "display": null,
            "flex": null,
            "flex_flow": null,
            "grid_area": null,
            "grid_auto_columns": null,
            "grid_auto_flow": null,
            "grid_auto_rows": null,
            "grid_column": null,
            "grid_gap": null,
            "grid_row": null,
            "grid_template_areas": null,
            "grid_template_columns": null,
            "grid_template_rows": null,
            "height": null,
            "justify_content": null,
            "justify_items": null,
            "left": null,
            "margin": null,
            "max_height": null,
            "max_width": null,
            "min_height": null,
            "min_width": null,
            "object_fit": null,
            "object_position": null,
            "order": null,
            "overflow": null,
            "overflow_x": null,
            "overflow_y": null,
            "padding": null,
            "right": null,
            "top": null,
            "visibility": null,
            "width": null
          }
        },
        "0eaa57d0007a4f23b21cb4da7093abb6": {
          "model_module": "@jupyter-widgets/controls",
          "model_name": "DescriptionStyleModel",
          "model_module_version": "1.5.0",
          "state": {
            "_model_module": "@jupyter-widgets/controls",
            "_model_module_version": "1.5.0",
            "_model_name": "DescriptionStyleModel",
            "_view_count": null,
            "_view_module": "@jupyter-widgets/base",
            "_view_module_version": "1.2.0",
            "_view_name": "StyleView",
            "description_width": ""
          }
        }
      }
    }
  },
  "nbformat": 4,
  "nbformat_minor": 0
}